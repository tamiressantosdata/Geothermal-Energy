{
  "cells": [
    {
      "cell_type": "code",
      "execution_count": 1,
      "metadata": {
        "iooxa": {
          "id": {
            "block": "tZ97VsCHE3kcGy1vUBpB",
            "project": "mmReuqVTAa9JzPpNr22I",
            "version": 1
          },
          "outputId": null
        },
        "colab": {
          "base_uri": "https://localhost:8080/"
        },
        "id": "wa-mxAdshClE",
        "outputId": "284a4caa-49c7-45c5-e14a-e13ede1e368b"
      },
      "outputs": [
        {
          "output_type": "stream",
          "name": "stdout",
          "text": [
            "Looking in indexes: https://pypi.org/simple, https://us-python.pkg.dev/colab-wheels/public/simple/\n",
            "Collecting iapws\n",
            "  Downloading iapws-1.5.3.tar.gz (111 kB)\n",
            "\u001b[K     |████████████████████████████████| 111 kB 5.2 MB/s \n",
            "\u001b[?25hRequirement already satisfied: scipy>=1.2 in /usr/local/lib/python3.7/dist-packages (from iapws) (1.7.3)\n",
            "Requirement already satisfied: numpy<1.23.0,>=1.16.5 in /usr/local/lib/python3.7/dist-packages (from scipy>=1.2->iapws) (1.21.6)\n",
            "Building wheels for collected packages: iapws\n",
            "  Building wheel for iapws (setup.py) ... \u001b[?25l\u001b[?25hdone\n",
            "  Created wheel for iapws: filename=iapws-1.5.3-py3-none-any.whl size=114281 sha256=b011e5952c24f89a89f9c9acecdce269b9940bdaa085211cf52d3f4c22337bb5\n",
            "  Stored in directory: /root/.cache/pip/wheels/31/41/85/a38aabccfd7dea1498653150e52ad2b2d7e3a8199263b8e09a\n",
            "Successfully built iapws\n",
            "Installing collected packages: iapws\n",
            "Successfully installed iapws-1.5.3\n"
          ]
        }
      ],
      "source": [
        "!pip install iapws"
      ]
    },
    {
      "cell_type": "code",
      "execution_count": 2,
      "metadata": {
        "iooxa": {
          "id": {
            "block": "2tkmoDOXGStNgafWBiX3",
            "project": "mmReuqVTAa9JzPpNr22I",
            "version": 1
          },
          "outputId": null
        },
        "id": "ogi5QbT2hClF"
      },
      "outputs": [],
      "source": [
        "import iapws # steam tables\n",
        "import openpyxl\n",
        "import pandas as pd\n",
        "from datetime import datetime\n",
        "import matplotlib.pyplot as plt\n",
        "import matplotlib.dates as mdates\n",
        "from ipywidgets import interactive, Layout, FloatSlider"
      ]
    },
    {
      "cell_type": "code",
      "execution_count": 3,
      "metadata": {
        "iooxa": {
          "id": {
            "block": "1BZXPJ7h3XWsGzQDPwkh",
            "project": "mmReuqVTAa9JzPpNr22I",
            "version": 1
          },
          "outputId": null
        },
        "id": "qzS-pm8khClJ"
      },
      "outputs": [],
      "source": [
        "\n",
        "\n",
        "def timedelta_seconds(dataframe_col, test_start):\n",
        "    '''\n",
        "    Make a float in seconds since the start of the test\n",
        "\n",
        "    args:   dataframe_col: dataframe column containing datetime objects\n",
        "            test_start: test start time formatted '2020-12-11 09:00:00'\n",
        "\n",
        "    returns: float in seconds since the start of the test\n",
        "    '''\n",
        "    test_start_datetime = pd.to_datetime(test_start)\n",
        "    list = []\n",
        "    for datetime in dataframe_col:\n",
        "        time_delta = datetime - test_start_datetime\n",
        "        seconds = time_delta.total_seconds()\n",
        "        list.append(seconds)\n",
        "    return list\n",
        "\n",
        "\n",
        "\n",
        "def read_flowrate(filename):\n",
        "    ''' \n",
        "    Read PTS-2-injection-rate.xlsx in as a pandas dataframe and munge for analysis\n",
        "\n",
        "    args: filename is r'PTS-2-injection-rate.xlsx'\n",
        "\n",
        "    returns: pandas dataframe with local NZ datetime and flowrate in t/hr\n",
        "    '''\n",
        "    df = pd.read_excel(filename, header=1) \n",
        "    df.columns = ['raw_datetime','flow_Lpm']\n",
        "\n",
        "    list = []\n",
        "    for date in df['raw_datetime']:\n",
        "        newdate = datetime.fromisoformat(date)\n",
        "        list.append(newdate)\n",
        "    df['ISO_datetime'] = list \n",
        "\n",
        "    list = []\n",
        "    for date in df.ISO_datetime:\n",
        "        newdate = pd.to_datetime(datetime.strftime(date,'%Y-%m-%d %H:%M:%S'))\n",
        "        list.append(newdate)\n",
        "    df['datetime'] = list\n",
        "\n",
        "    df['flow_tph'] = df.flow_Lpm * 0.060\n",
        "\n",
        "    df['timedelta_sec'] = timedelta_seconds(df.datetime, '2020-12-11 09:26:44.448')\n",
        "\n",
        "    df.drop(columns = ['raw_datetime', 'flow_Lpm', 'ISO_datetime'], inplace = True)\n",
        "\n",
        "    return df\n",
        "\n",
        "\n",
        "\n",
        "def read_pts(filename):\n",
        "    '''\n",
        "    Read PTS-2.xlsx in as a Pandas dataframe and munge for analysis\n",
        "\n",
        "    args: filename is r'PTS-2.xlsx'\n",
        "\n",
        "    returns: Pandas dataframe with datetime (local) and key coloumns of PTS data with the correct dtype\n",
        "    '''\n",
        "    df = pd.read_excel(filename)\n",
        "\n",
        "    dict = {\n",
        "        'DEPTH':'depth_m',\n",
        "        'SPEED': 'speed_mps',\n",
        "        'Cable Weight': 'cweight_kg',\n",
        "        'WHP': 'whp_barg',\n",
        "        'Temperature': 'temp_degC',\n",
        "        'Pressure': 'pressure_bara',\n",
        "        'Frequency': 'frequency_hz'\n",
        "    }\n",
        "    df.rename(columns=dict, inplace=True)\n",
        "\n",
        "    df.drop(0, inplace=True)\n",
        "    df.reset_index(drop=True, inplace=True)\n",
        "\n",
        "    list = []\n",
        "    for date in df.Timestamp:\n",
        "        newdate = openpyxl.utils.datetime.from_excel(date)\n",
        "        list.append(newdate)\n",
        "    df['datetime'] = list\n",
        "\n",
        "    df.drop(columns = ['Date', 'Time', 'Timestamp','Reed 0',\n",
        "       'Reed 1', 'Reed 2', 'Reed 3', 'Battery Voltage', \n",
        "       'PRT Ref Voltage','SGS Voltage', 'Internal Temp 1', \n",
        "       'Internal Temp 2', 'Internal Temp 3','Cal Temp', \n",
        "       'Error Code 1', 'Error Code 2', 'Error Code 3',\n",
        "       'Records Saved', 'Bad Pages',], inplace = True)\n",
        "    \n",
        "    df[\n",
        "        ['depth_m', 'speed_mps','cweight_kg','whp_barg','temp_degC','pressure_bara','frequency_hz']\n",
        "    ] = df[\n",
        "        ['depth_m','speed_mps','cweight_kg','whp_barg','temp_degC','pressure_bara','frequency_hz']\n",
        "        ].apply(pd.to_numeric)\n",
        "    \n",
        "    df['timedelta_sec'] = timedelta_seconds(df.datetime, '2020-12-11 09:26:44.448')\n",
        "\n",
        "    return df\n",
        "\n",
        "\n",
        "\n",
        "def append_flowrate_to_pts(flowrate_df, pts_df):\n",
        "    '''\n",
        "    Add surface flowrate to pts data\n",
        "\n",
        "    Note that the flowrate data is recorded at a courser time resolution than the pts data\n",
        "    The function makes a linear interpolation to fill the data gaps\n",
        "    Refer to bonus-combine-data.ipynb to review this method and adapt it for your own data\n",
        "\n",
        "    Args:   flowrate and pts dataframes generated by the read_flowrate and read_pts functions\n",
        "\n",
        "    Returns: pts dataframe with flowrate tph added\n",
        "    \n",
        "    '''\n",
        "    flowrate_df = flowrate_df.set_index('timedelta_sec')\n",
        "    pts_df = pts_df.set_index('timedelta_sec')\n",
        "    combined_df = pts_df.join(flowrate_df, how = 'outer',  lsuffix = '_pts', rsuffix = '_fr')\n",
        "    combined_df.drop(columns = ['datetime_fr'], inplace = True)\n",
        "    combined_df.columns = ['depth_m', 'speed_mps', 'cweight_kg', 'whp_barg', 'temp_degC',\n",
        "       'pressure_bara', 'frequency_hz', 'datetime', 'flow_tph']\n",
        "    combined_df['interpolated_flow_tph'] = combined_df['flow_tph'].interpolate(method='linear')\n",
        "    trimmed_df = combined_df[combined_df['depth_m'].notna()]\n",
        "    trimmed_df.reset_index(inplace=True)\n",
        "    return trimmed_df\n",
        "\n",
        "\n",
        "\n",
        "def find_index(value, df, colname):\n",
        "    '''\n",
        "    Find the dataframe index for the exact matching value or nearest two values\n",
        "\n",
        "    args:   value: (float or int) the search term\n",
        "            df: (obj) the name of the dataframe that is searched\n",
        "            colname: (str) the name of the coloum this is searched\n",
        "\n",
        "    returns:  dataframe index(s) for the matching value or the two adjacent values\n",
        "              rows can be called from a df using df.iloc[[index_number,index_number]]\n",
        "    '''\n",
        "    exactmatch = df[df[colname] == value]\n",
        "    if not exactmatch.empty:\n",
        "        return exactmatch.index\n",
        "    else:\n",
        "        lowerneighbour_index = df[df[colname] < value][colname].idxmax()\n",
        "        upperneighbour_index = df[df[colname] > value][colname].idxmin()\n",
        "        return [lowerneighbour_index, upperneighbour_index] \n",
        "\n",
        "    \n",
        "\n",
        "def overview_fig(pts_df,flowrate_df,title=''):\n",
        "    fig, (ax1, ax2, ax3, ax4, ax5, ax6) = plt.subplots(6, 1,figsize=(10,15),sharex=True)\n",
        "    ax1.set_title(title,y=1.1,fontsize=15)\n",
        "\n",
        "    ax1.plot(flowrate_df.datetime, flowrate_df.flow_tph, label='Surface pump flowrate', \n",
        "        c='k', linewidth=0.8, marker='.')\n",
        "    ax1.set_ylabel('Surface flowrate [t/hr]')\n",
        "    ax1.set_ylim(0,150)\n",
        "    \n",
        "    ax2.plot(pts_df.datetime, pts_df.depth_m, label='PTS tool depth', \n",
        "        c='k', linewidth=0.8)\n",
        "    ax2.set_ylabel('PTS tool depth [m]')\n",
        "    ax2.set_ylim(1000,0)\n",
        "    \n",
        "    ax3.plot(pts_df.datetime, pts_df.pressure_bara, label='PTS pressure', \n",
        "        c='tab:blue', linewidth=0.8)\n",
        "    ax3.set_ylabel('PTS pressure [bara]')\n",
        "    \n",
        "    ax4.plot(pts_df.datetime, pts_df.temp_degC, label='PTS temperature', \n",
        "        c='tab:red', linewidth=0.8)\n",
        "    ax4.set_ylabel('PTS temperature')\n",
        "    \n",
        "    ax5.plot(pts_df.datetime, pts_df.frequency_hz, label='PTS impeller frequency', \n",
        "        c='tab:green', linewidth=0.8)\n",
        "    ax5.set_ylim(-30,30)\n",
        "    ax5.set_ylabel('PTS impeller frequency [hz]')\n",
        "    # 1 hz = 60 rpm\n",
        "\n",
        "    ax6.plot(pts_df.datetime, pts_df.speed_mps, label='PTS tool speed', \n",
        "        c='tab:orange', linewidth=0.8)\n",
        "    ax6.set_ylim(-2,2)\n",
        "    ax6.set_ylabel('PTS tool speed [mps]')\n",
        "    \n",
        "    ax6.set_xlabel('Time [hh:mm]')\n",
        "    plt.gca().xaxis.set_major_formatter(mdates.DateFormatter('%H:%M'))\n",
        "    \n",
        "    for ax in [ax1,ax2,ax3,ax4,ax5,ax6]:\n",
        "        ax.grid()\n",
        "    \n",
        "    return plt"
      ]
    },
    {
      "cell_type": "code",
      "execution_count": 4,
      "metadata": {
        "iooxa": {
          "id": {
            "block": "Z6qdxhjRNww1xjoHHByz",
            "project": "mmReuqVTAa9JzPpNr22I",
            "version": 1
          },
          "outputId": null
        },
        "id": "ig3mo-mbhClS"
      },
      "outputs": [],
      "source": [
        "\n",
        "\n",
        "flowrate = read_flowrate(r'Data-FlowRate.xlsx')"
      ]
    },
    {
      "cell_type": "code",
      "execution_count": 5,
      "metadata": {
        "iooxa": {
          "id": {
            "block": "SP1NxIbyMDFvJqjFeyPQ",
            "project": "mmReuqVTAa9JzPpNr22I",
            "version": 1
          },
          "outputId": null
        },
        "id": "EsdknXVVhClU"
      },
      "outputs": [],
      "source": [
        "pts = read_pts(r'Data-PTS.xlsx')"
      ]
    },
    {
      "cell_type": "code",
      "execution_count": 6,
      "metadata": {
        "iooxa": {
          "id": {
            "block": "mcYUuBoCIRzGOrPFKHsh",
            "project": "mmReuqVTAa9JzPpNr22I",
            "version": 1
          },
          "outputId": null
        },
        "colab": {
          "base_uri": "https://localhost:8080/",
          "height": 173
        },
        "id": "lhxmxAJyhClV",
        "outputId": "c0c0e02d-538d-4271-bfe8-d68d5c386a16"
      },
      "outputs": [
        {
          "output_type": "stream",
          "name": "stdout",
          "text": [
            "(101293, 9)\n"
          ]
        },
        {
          "output_type": "execute_result",
          "data": {
            "text/plain": [
              "   depth_m  speed_mps  cweight_kg  whp_barg  temp_degC  pressure_bara  \\\n",
              "0 -6.32025        NaN   24.957275 -0.607066  19.702093       0.498792   \n",
              "1 -6.32025        NaN   25.211151 -0.606777  19.689250       0.485864   \n",
              "\n",
              "   frequency_hz                datetime  timedelta_sec  \n",
              "0     40.648876 2020-12-11 09:26:44.448          0.000  \n",
              "1     41.483227 2020-12-11 09:26:45.312          0.864  "
            ],
            "text/html": [
              "\n",
              "  <div id=\"df-1ee3df6c-53aa-4f0a-a8aa-d5a35190bf2d\">\n",
              "    <div class=\"colab-df-container\">\n",
              "      <div>\n",
              "<style scoped>\n",
              "    .dataframe tbody tr th:only-of-type {\n",
              "        vertical-align: middle;\n",
              "    }\n",
              "\n",
              "    .dataframe tbody tr th {\n",
              "        vertical-align: top;\n",
              "    }\n",
              "\n",
              "    .dataframe thead th {\n",
              "        text-align: right;\n",
              "    }\n",
              "</style>\n",
              "<table border=\"1\" class=\"dataframe\">\n",
              "  <thead>\n",
              "    <tr style=\"text-align: right;\">\n",
              "      <th></th>\n",
              "      <th>depth_m</th>\n",
              "      <th>speed_mps</th>\n",
              "      <th>cweight_kg</th>\n",
              "      <th>whp_barg</th>\n",
              "      <th>temp_degC</th>\n",
              "      <th>pressure_bara</th>\n",
              "      <th>frequency_hz</th>\n",
              "      <th>datetime</th>\n",
              "      <th>timedelta_sec</th>\n",
              "    </tr>\n",
              "  </thead>\n",
              "  <tbody>\n",
              "    <tr>\n",
              "      <th>0</th>\n",
              "      <td>-6.32025</td>\n",
              "      <td>NaN</td>\n",
              "      <td>24.957275</td>\n",
              "      <td>-0.607066</td>\n",
              "      <td>19.702093</td>\n",
              "      <td>0.498792</td>\n",
              "      <td>40.648876</td>\n",
              "      <td>2020-12-11 09:26:44.448</td>\n",
              "      <td>0.000</td>\n",
              "    </tr>\n",
              "    <tr>\n",
              "      <th>1</th>\n",
              "      <td>-6.32025</td>\n",
              "      <td>NaN</td>\n",
              "      <td>25.211151</td>\n",
              "      <td>-0.606777</td>\n",
              "      <td>19.689250</td>\n",
              "      <td>0.485864</td>\n",
              "      <td>41.483227</td>\n",
              "      <td>2020-12-11 09:26:45.312</td>\n",
              "      <td>0.864</td>\n",
              "    </tr>\n",
              "  </tbody>\n",
              "</table>\n",
              "</div>\n",
              "      <button class=\"colab-df-convert\" onclick=\"convertToInteractive('df-1ee3df6c-53aa-4f0a-a8aa-d5a35190bf2d')\"\n",
              "              title=\"Convert this dataframe to an interactive table.\"\n",
              "              style=\"display:none;\">\n",
              "        \n",
              "  <svg xmlns=\"http://www.w3.org/2000/svg\" height=\"24px\"viewBox=\"0 0 24 24\"\n",
              "       width=\"24px\">\n",
              "    <path d=\"M0 0h24v24H0V0z\" fill=\"none\"/>\n",
              "    <path d=\"M18.56 5.44l.94 2.06.94-2.06 2.06-.94-2.06-.94-.94-2.06-.94 2.06-2.06.94zm-11 1L8.5 8.5l.94-2.06 2.06-.94-2.06-.94L8.5 2.5l-.94 2.06-2.06.94zm10 10l.94 2.06.94-2.06 2.06-.94-2.06-.94-.94-2.06-.94 2.06-2.06.94z\"/><path d=\"M17.41 7.96l-1.37-1.37c-.4-.4-.92-.59-1.43-.59-.52 0-1.04.2-1.43.59L10.3 9.45l-7.72 7.72c-.78.78-.78 2.05 0 2.83L4 21.41c.39.39.9.59 1.41.59.51 0 1.02-.2 1.41-.59l7.78-7.78 2.81-2.81c.8-.78.8-2.07 0-2.86zM5.41 20L4 18.59l7.72-7.72 1.47 1.35L5.41 20z\"/>\n",
              "  </svg>\n",
              "      </button>\n",
              "      \n",
              "  <style>\n",
              "    .colab-df-container {\n",
              "      display:flex;\n",
              "      flex-wrap:wrap;\n",
              "      gap: 12px;\n",
              "    }\n",
              "\n",
              "    .colab-df-convert {\n",
              "      background-color: #E8F0FE;\n",
              "      border: none;\n",
              "      border-radius: 50%;\n",
              "      cursor: pointer;\n",
              "      display: none;\n",
              "      fill: #1967D2;\n",
              "      height: 32px;\n",
              "      padding: 0 0 0 0;\n",
              "      width: 32px;\n",
              "    }\n",
              "\n",
              "    .colab-df-convert:hover {\n",
              "      background-color: #E2EBFA;\n",
              "      box-shadow: 0px 1px 2px rgba(60, 64, 67, 0.3), 0px 1px 3px 1px rgba(60, 64, 67, 0.15);\n",
              "      fill: #174EA6;\n",
              "    }\n",
              "\n",
              "    [theme=dark] .colab-df-convert {\n",
              "      background-color: #3B4455;\n",
              "      fill: #D2E3FC;\n",
              "    }\n",
              "\n",
              "    [theme=dark] .colab-df-convert:hover {\n",
              "      background-color: #434B5C;\n",
              "      box-shadow: 0px 1px 3px 1px rgba(0, 0, 0, 0.15);\n",
              "      filter: drop-shadow(0px 1px 2px rgba(0, 0, 0, 0.3));\n",
              "      fill: #FFFFFF;\n",
              "    }\n",
              "  </style>\n",
              "\n",
              "      <script>\n",
              "        const buttonEl =\n",
              "          document.querySelector('#df-1ee3df6c-53aa-4f0a-a8aa-d5a35190bf2d button.colab-df-convert');\n",
              "        buttonEl.style.display =\n",
              "          google.colab.kernel.accessAllowed ? 'block' : 'none';\n",
              "\n",
              "        async function convertToInteractive(key) {\n",
              "          const element = document.querySelector('#df-1ee3df6c-53aa-4f0a-a8aa-d5a35190bf2d');\n",
              "          const dataTable =\n",
              "            await google.colab.kernel.invokeFunction('convertToInteractive',\n",
              "                                                     [key], {});\n",
              "          if (!dataTable) return;\n",
              "\n",
              "          const docLinkHtml = 'Like what you see? Visit the ' +\n",
              "            '<a target=\"_blank\" href=https://colab.research.google.com/notebooks/data_table.ipynb>data table notebook</a>'\n",
              "            + ' to learn more about interactive tables.';\n",
              "          element.innerHTML = '';\n",
              "          dataTable['output_type'] = 'display_data';\n",
              "          await google.colab.output.renderOutput(dataTable, element);\n",
              "          const docLink = document.createElement('div');\n",
              "          docLink.innerHTML = docLinkHtml;\n",
              "          element.appendChild(docLink);\n",
              "        }\n",
              "      </script>\n",
              "    </div>\n",
              "  </div>\n",
              "  "
            ]
          },
          "metadata": {},
          "execution_count": 6
        }
      ],
      "source": [
        "print(pts.shape)\n",
        "pts.head(2)"
      ]
    },
    {
      "cell_type": "code",
      "execution_count": 7,
      "metadata": {
        "iooxa": {
          "id": {
            "block": "vgGlTxzdFHFlzKKnRIyD",
            "project": "mmReuqVTAa9JzPpNr22I",
            "version": 1
          },
          "outputId": null
        },
        "colab": {
          "base_uri": "https://localhost:8080/",
          "height": 334
        },
        "id": "5H1g8l9VhClY",
        "outputId": "3cfac8c2-271f-43d8-e53b-8e675277ac25"
      },
      "outputs": [
        {
          "output_type": "display_data",
          "data": {
            "text/plain": [
              "<Figure size 1728x576 with 3 Axes>"
            ],
            "image/png": "[encoded data removed]"
          },
          "metadata": {
            "needs_background": "light"
          }
        }
      ],
      "source": [
        "fig, (ax1, ax2) = plt.subplots(1, 2,figsize=(24,8),sharey=True)\n",
        "\n",
        "spinner_scatter = ax1.scatter(pts.temp_degC, pts.depth_m, c = pts.timedelta_sec, s = 5, linewidths = 0)\n",
        "datetime_scatter = ax2.scatter(pts.datetime, pts.depth_m, c = pts.timedelta_sec, s = 5, linewidths = 0)\n",
        "\n",
        "ax3 = ax2.twinx()\n",
        "ax3.plot(flowrate.datetime, flowrate.flow_tph, \n",
        "    c='k', linestyle = '-', linewidth = 3, alpha = 0.3, \n",
        "    label='Surface pump flowrate')\n",
        "\n",
        "ax1.set_ylabel('Depth [m]')\n",
        "ax1.set_xlabel('Temp [degC]')\n",
        "\n",
        "ax2.set_xlabel('Time [hh:mm]')\n",
        "ax2.xaxis.set_major_formatter(mdates.DateFormatter('%H:%M'))\n",
        "\n",
        "ax3.set_ylabel('Flowrate [t/hr]')\n",
        "\n",
        "ax1.set_ylim(1000,0)\n",
        "ax1.set_xlim(0,200)\n",
        "\n",
        "for ax in [ax1, ax2]:\n",
        "    ax.grid()\n"
      ]
    },
    {
      "cell_type": "code",
      "execution_count": 8,
      "metadata": {
        "iooxa": {
          "id": {
            "block": "8gXy69Wl8xH43Q5to1qB",
            "project": "mmReuqVTAa9JzPpNr22I",
            "version": 1
          },
          "outputId": null
        },
        "id": "jWWJ04rMhCla"
      },
      "outputs": [],
      "source": [
        "moving_pts = pts[\n",
        "    (pts.speed_mps > 0.9 ) & (pts.speed_mps < pts.speed_mps.max()) | \n",
        "    (pts.speed_mps > pts.speed_mps.min() ) & (pts.speed_mps < -0.9)\n",
        "    ]"
      ]
    },
    {
      "cell_type": "code",
      "execution_count": 9,
      "metadata": {
        "iooxa": {
          "id": {
            "block": "YE2Eq17BF5gX2uxxw7jI",
            "project": "mmReuqVTAa9JzPpNr22I",
            "version": 1
          },
          "outputId": null
        },
        "colab": {
          "base_uri": "https://localhost:8080/",
          "height": 344
        },
        "id": "7efd1q21hClb",
        "outputId": "1a56f58d-a568-4199-c389-88a5f6a49235"
      },
      "outputs": [
        {
          "output_type": "execute_result",
          "data": {
            "text/plain": [
              "            depth_m     speed_mps    cweight_kg      whp_barg     temp_degC  \\\n",
              "count  35728.000000  35728.000000  35728.000000  35728.000000  35728.000000   \n",
              "mean     619.309961      0.000889    121.474578     -0.555699     47.128879   \n",
              "std      184.603047      1.270866     26.823424      0.112767     30.663209   \n",
              "min        1.970752     -1.539693     25.393188     -0.616755     18.084463   \n",
              "25%      500.489075     -1.015137    106.350523     -0.612977     24.070804   \n",
              "50%      629.704465     -0.979624    123.097855     -0.607455     37.806570   \n",
              "75%      758.224075      1.312978    139.718280     -0.605516     66.819466   \n",
              "max      925.073240      1.528768    193.862140     -0.264208    184.733380   \n",
              "\n",
              "       pressure_bara  frequency_hz  timedelta_sec  \n",
              "count   35728.000000  33812.000000   35728.000000  \n",
              "mean       23.426249      4.011365   13160.262688  \n",
              "std        14.852001     13.698449    8729.420412  \n",
              "min         0.059252    -29.385933      85.536000  \n",
              "25%        10.544652     -9.005808    3027.240000  \n",
              "50%        23.132948      9.903941   11724.480000  \n",
              "75%        35.503899     16.661721   20631.456000  \n",
              "max        51.779540     74.740814   25456.896000  "
            ],
            "text/html": [
              "\n",
              "  <div id=\"df-6dba84ed-2054-46df-a0ad-35d91e865d94\">\n",
              "    <div class=\"colab-df-container\">\n",
              "      <div>\n",
              "<style scoped>\n",
              "    .dataframe tbody tr th:only-of-type {\n",
              "        vertical-align: middle;\n",
              "    }\n",
              "\n",
              "    .dataframe tbody tr th {\n",
              "        vertical-align: top;\n",
              "    }\n",
              "\n",
              "    .dataframe thead th {\n",
              "        text-align: right;\n",
              "    }\n",
              "</style>\n",
              "<table border=\"1\" class=\"dataframe\">\n",
              "  <thead>\n",
              "    <tr style=\"text-align: right;\">\n",
              "      <th></th>\n",
              "      <th>depth_m</th>\n",
              "      <th>speed_mps</th>\n",
              "      <th>cweight_kg</th>\n",
              "      <th>whp_barg</th>\n",
              "      <th>temp_degC</th>\n",
              "      <th>pressure_bara</th>\n",
              "      <th>frequency_hz</th>\n",
              "      <th>timedelta_sec</th>\n",
              "    </tr>\n",
              "  </thead>\n",
              "  <tbody>\n",
              "    <tr>\n",
              "      <th>count</th>\n",
              "      <td>35728.000000</td>\n",
              "      <td>35728.000000</td>\n",
              "      <td>35728.000000</td>\n",
              "      <td>35728.000000</td>\n",
              "      <td>35728.000000</td>\n",
              "      <td>35728.000000</td>\n",
              "      <td>33812.000000</td>\n",
              "      <td>35728.000000</td>\n",
              "    </tr>\n",
              "    <tr>\n",
              "      <th>mean</th>\n",
              "      <td>619.309961</td>\n",
              "      <td>0.000889</td>\n",
              "      <td>121.474578</td>\n",
              "      <td>-0.555699</td>\n",
              "      <td>47.128879</td>\n",
              "      <td>23.426249</td>\n",
              "      <td>4.011365</td>\n",
              "      <td>13160.262688</td>\n",
              "    </tr>\n",
              "    <tr>\n",
              "      <th>std</th>\n",
              "      <td>184.603047</td>\n",
              "      <td>1.270866</td>\n",
              "      <td>26.823424</td>\n",
              "      <td>0.112767</td>\n",
              "      <td>30.663209</td>\n",
              "      <td>14.852001</td>\n",
              "      <td>13.698449</td>\n",
              "      <td>8729.420412</td>\n",
              "    </tr>\n",
              "    <tr>\n",
              "      <th>min</th>\n",
              "      <td>1.970752</td>\n",
              "      <td>-1.539693</td>\n",
              "      <td>25.393188</td>\n",
              "      <td>-0.616755</td>\n",
              "      <td>18.084463</td>\n",
              "      <td>0.059252</td>\n",
              "      <td>-29.385933</td>\n",
              "      <td>85.536000</td>\n",
              "    </tr>\n",
              "    <tr>\n",
              "      <th>25%</th>\n",
              "      <td>500.489075</td>\n",
              "      <td>-1.015137</td>\n",
              "      <td>106.350523</td>\n",
              "      <td>-0.612977</td>\n",
              "      <td>24.070804</td>\n",
              "      <td>10.544652</td>\n",
              "      <td>-9.005808</td>\n",
              "      <td>3027.240000</td>\n",
              "    </tr>\n",
              "    <tr>\n",
              "      <th>50%</th>\n",
              "      <td>629.704465</td>\n",
              "      <td>-0.979624</td>\n",
              "      <td>123.097855</td>\n",
              "      <td>-0.607455</td>\n",
              "      <td>37.806570</td>\n",
              "      <td>23.132948</td>\n",
              "      <td>9.903941</td>\n",
              "      <td>11724.480000</td>\n",
              "    </tr>\n",
              "    <tr>\n",
              "      <th>75%</th>\n",
              "      <td>758.224075</td>\n",
              "      <td>1.312978</td>\n",
              "      <td>139.718280</td>\n",
              "      <td>-0.605516</td>\n",
              "      <td>66.819466</td>\n",
              "      <td>35.503899</td>\n",
              "      <td>16.661721</td>\n",
              "      <td>20631.456000</td>\n",
              "    </tr>\n",
              "    <tr>\n",
              "      <th>max</th>\n",
              "      <td>925.073240</td>\n",
              "      <td>1.528768</td>\n",
              "      <td>193.862140</td>\n",
              "      <td>-0.264208</td>\n",
              "      <td>184.733380</td>\n",
              "      <td>51.779540</td>\n",
              "      <td>74.740814</td>\n",
              "      <td>25456.896000</td>\n",
              "    </tr>\n",
              "  </tbody>\n",
              "</table>\n",
              "</div>\n",
              "      <button class=\"colab-df-convert\" onclick=\"convertToInteractive('df-6dba84ed-2054-46df-a0ad-35d91e865d94')\"\n",
              "              title=\"Convert this dataframe to an interactive table.\"\n",
              "              style=\"display:none;\">\n",
              "        \n",
              "  <svg xmlns=\"http://www.w3.org/2000/svg\" height=\"24px\"viewBox=\"0 0 24 24\"\n",
              "       width=\"24px\">\n",
              "    <path d=\"M0 0h24v24H0V0z\" fill=\"none\"/>\n",
              "    <path d=\"M18.56 5.44l.94 2.06.94-2.06 2.06-.94-2.06-.94-.94-2.06-.94 2.06-2.06.94zm-11 1L8.5 8.5l.94-2.06 2.06-.94-2.06-.94L8.5 2.5l-.94 2.06-2.06.94zm10 10l.94 2.06.94-2.06 2.06-.94-2.06-.94-.94-2.06-.94 2.06-2.06.94z\"/><path d=\"M17.41 7.96l-1.37-1.37c-.4-.4-.92-.59-1.43-.59-.52 0-1.04.2-1.43.59L10.3 9.45l-7.72 7.72c-.78.78-.78 2.05 0 2.83L4 21.41c.39.39.9.59 1.41.59.51 0 1.02-.2 1.41-.59l7.78-7.78 2.81-2.81c.8-.78.8-2.07 0-2.86zM5.41 20L4 18.59l7.72-7.72 1.47 1.35L5.41 20z\"/>\n",
              "  </svg>\n",
              "      </button>\n",
              "      \n",
              "  <style>\n",
              "    .colab-df-container {\n",
              "      display:flex;\n",
              "      flex-wrap:wrap;\n",
              "      gap: 12px;\n",
              "    }\n",
              "\n",
              "    .colab-df-convert {\n",
              "      background-color: #E8F0FE;\n",
              "      border: none;\n",
              "      border-radius: 50%;\n",
              "      cursor: pointer;\n",
              "      display: none;\n",
              "      fill: #1967D2;\n",
              "      height: 32px;\n",
              "      padding: 0 0 0 0;\n",
              "      width: 32px;\n",
              "    }\n",
              "\n",
              "    .colab-df-convert:hover {\n",
              "      background-color: #E2EBFA;\n",
              "      box-shadow: 0px 1px 2px rgba(60, 64, 67, 0.3), 0px 1px 3px 1px rgba(60, 64, 67, 0.15);\n",
              "      fill: #174EA6;\n",
              "    }\n",
              "\n",
              "    [theme=dark] .colab-df-convert {\n",
              "      background-color: #3B4455;\n",
              "      fill: #D2E3FC;\n",
              "    }\n",
              "\n",
              "    [theme=dark] .colab-df-convert:hover {\n",
              "      background-color: #434B5C;\n",
              "      box-shadow: 0px 1px 3px 1px rgba(0, 0, 0, 0.15);\n",
              "      filter: drop-shadow(0px 1px 2px rgba(0, 0, 0, 0.3));\n",
              "      fill: #FFFFFF;\n",
              "    }\n",
              "  </style>\n",
              "\n",
              "      <script>\n",
              "        const buttonEl =\n",
              "          document.querySelector('#df-6dba84ed-2054-46df-a0ad-35d91e865d94 button.colab-df-convert');\n",
              "        buttonEl.style.display =\n",
              "          google.colab.kernel.accessAllowed ? 'block' : 'none';\n",
              "\n",
              "        async function convertToInteractive(key) {\n",
              "          const element = document.querySelector('#df-6dba84ed-2054-46df-a0ad-35d91e865d94');\n",
              "          const dataTable =\n",
              "            await google.colab.kernel.invokeFunction('convertToInteractive',\n",
              "                                                     [key], {});\n",
              "          if (!dataTable) return;\n",
              "\n",
              "          const docLinkHtml = 'Like what you see? Visit the ' +\n",
              "            '<a target=\"_blank\" href=https://colab.research.google.com/notebooks/data_table.ipynb>data table notebook</a>'\n",
              "            + ' to learn more about interactive tables.';\n",
              "          element.innerHTML = '';\n",
              "          dataTable['output_type'] = 'display_data';\n",
              "          await google.colab.output.renderOutput(dataTable, element);\n",
              "          const docLink = document.createElement('div');\n",
              "          docLink.innerHTML = docLinkHtml;\n",
              "          element.appendChild(docLink);\n",
              "        }\n",
              "      </script>\n",
              "    </div>\n",
              "  </div>\n",
              "  "
            ]
          },
          "metadata": {},
          "execution_count": 9
        }
      ],
      "source": [
        "moving_pts.describe()"
      ]
    },
    {
      "cell_type": "code",
      "execution_count": 10,
      "metadata": {
        "iooxa": {
          "id": {
            "block": "uKBBylPT2mHQMM7lJcIs",
            "project": "mmReuqVTAa9JzPpNr22I",
            "version": 1
          },
          "outputId": null
        },
        "colab": {
          "base_uri": "https://localhost:8080/",
          "height": 372,
          "referenced_widgets": [
            "e0899ac6d62645fc8db9c1daf5a24ddd",
            "a7b269f0429a46118dde1e3a0b602fb5",
            "be64e989a3194c97b7889c69431a73cd",
            "4f4dd5d094c04021999247808d670e34",
            "1f08a2619b17463ab45d981b4e778c00",
            "a4b223c1537c4d71a5b3039dbfd4a92d",
            "f1a53317998d478780468f0d7334ea2a",
            "313add9dffbe4acabba59c6466f3ff3f",
            "9aa5b710dae340a9a6a0be0442547547",
            "07e8a3562bc549b8bdad87f11c04c9e7"
          ]
        },
        "id": "emvKjg-bhClc",
        "outputId": "4944f637-9f54-4ad9-b205-15284be8bb64"
      },
      "outputs": [
        {
          "output_type": "display_data",
          "data": {
            "text/plain": [
              "interactive(children=(FloatSlider(value=8515.296, continuous_update=False, description='start', layout=Layout(…"
            ],
            "application/vnd.jupyter.widget-view+json": {
              "version_major": 2,
              "version_minor": 0,
              "model_id": "e0899ac6d62645fc8db9c1daf5a24ddd"
            }
          },
          "metadata": {}
        }
      ],
      "source": [
        "min_timestamp = pts.timedelta_sec.iloc[0]\n",
        "max_timestamp = pts.timedelta_sec.iloc[-1]\n",
        "\n",
        "def subselect_plot(start_value, stop_value):\n",
        "    f,ax = plt.subplots(1,1, figsize = (20,6))\n",
        "    ax.scatter(moving_pts.timedelta_sec, moving_pts.depth_m,\n",
        "        c = 'k', s = 1, linewidths = 0, label = 'Tool depth')\n",
        "    ax1 = ax.twinx()\n",
        "    ax1.plot(flowrate.timedelta_sec, flowrate.flow_tph, \n",
        "        ':', c='k', label='Surface pump flowrate')\n",
        "    ymin = pts.depth_m.min()\n",
        "    ymax = pts.depth_m.max() + 100\n",
        "    ax.vlines(start_value, ymin, ymax, color='tab:green')\n",
        "    ax.vlines(stop_value, ymin, ymax, color='tab:red')\n",
        "    ax.set_ylim(pts.depth_m.max() + 100, 0)\n",
        "    ax.set_xlabel('Timestamp [sec]')\n",
        "    ax.set_ylabel('Tool depth [m]')\n",
        "    ax1.set_ylabel('Flowrate [t/hr]')\n",
        "    ax.set_xlabel('Time elapsed since the test started [sec]')\n",
        "    ax.set_ylabel('Tool depth [m]')\n",
        "    ax1.set_ylabel('Flowrate [t/hr]')\n",
        "\n",
        "result = interactive(subselect_plot,\n",
        "         \n",
        "         start_value = FloatSlider\n",
        "         (\n",
        "             value = (max_timestamp - min_timestamp)/3 + min_timestamp,\n",
        "             description = 'start',\n",
        "             min = min_timestamp, \n",
        "             max = max_timestamp, \n",
        "             step = 10, \n",
        "             continuous_update=False,\n",
        "             layout = Layout(width='80%'),\n",
        "             ),\n",
        "          \n",
        "          stop_value = FloatSlider\n",
        "          (\n",
        "             value = (max_timestamp - min_timestamp)/2 + min_timestamp, \n",
        "             description = 'stop',\n",
        "             min = min_timestamp, \n",
        "             max = max_timestamp, \n",
        "             step = 10, \n",
        "             continuous_update=False,\n",
        "             layout = Layout(width='80%')\n",
        "             )\n",
        ")\n",
        "\n",
        "display(result);\n"
      ]
    },
    {
      "cell_type": "code",
      "execution_count": 11,
      "metadata": {
        "iooxa": {
          "id": {
            "block": "Fa9swJKtzO5H2RbFnWkU",
            "project": "mmReuqVTAa9JzPpNr22I",
            "version": 1
          },
          "outputId": null
        },
        "colab": {
          "base_uri": "https://localhost:8080/"
        },
        "id": "7cN5eVCAhCle",
        "outputId": "1c909671-df12-4b8e-a7da-07753152de12"
      },
      "outputs": [
        {
          "output_type": "stream",
          "name": "stdout",
          "text": [
            "start = 8515.296 \n",
            "stop = 12772.944\n"
          ]
        }
      ],
      "source": [
        "print(\n",
        "    'start =',result.children[0].value,  \n",
        "    '\\nstop =', result.children[1].value,\n",
        "    )"
      ]
    },
    {
      "cell_type": "markdown",
      "metadata": {
        "iooxa": {
          "id": {
            "block": "e9WaRLK5eDnq1rBJATuA",
            "project": "mmReuqVTAa9JzPpNr22I",
            "version": 1
          }
        },
        "id": "KaYHpFkKhClf"
      },
      "source": [
        "### Record your analysis\n",
        "\n",
        "As part of making this process repeatable and so that it is easy to come back later to check the analysis, you need to use the range you have selected to manually define objects in the next step.\n",
        "\n",
        "Copy-paste the timestamps printed above into the cell below. They are now the objects that define the start and stop points for splicing the moving_pts dataframe. \n",
        "\n",
        "We could have defined the start and stop objects as the result.children\\[0\\].value and result.children\\[1\\].value objects. But if we did this, you would lose your work because these ipywidget results change every time the sliders are moved or the notebook is re-run. "
      ]
    },
    {
      "cell_type": "code",
      "execution_count": 12,
      "metadata": {
        "iooxa": {
          "id": {
            "block": "ddUJkZPEfladTtElr35d",
            "project": "mmReuqVTAa9JzPpNr22I",
            "version": 1
          },
          "outputId": null
        },
        "id": "pyzm1PPChClg"
      },
      "outputs": [],
      "source": [
        "# paste your values here\n",
        "start = 24150.0 \n",
        "stop = 24470.0\n",
        "\n",
        "# create an informative title for the data\n",
        "name = 'First heating run' \n",
        "\n",
        "pts_first_heating_run = moving_pts[\n",
        "    (moving_pts.timedelta_sec > start) \n",
        "    & (moving_pts.timedelta_sec < stop)\n",
        "]\n",
        "\n",
        "flowrate_first_heating_run = flowrate[\n",
        "    (flowrate.timedelta_sec > start) \n",
        "    & (flowrate.timedelta_sec < stop)\n",
        "]"
      ]
    },
    {
      "cell_type": "code",
      "execution_count": 13,
      "metadata": {
        "iooxa": {
          "id": {
            "block": "1bFY2XGY4UYDwCY9RoKg",
            "project": "mmReuqVTAa9JzPpNr22I",
            "version": 1
          },
          "outputId": null
        },
        "colab": {
          "base_uri": "https://localhost:8080/"
        },
        "id": "9YU7kWFPhClh",
        "outputId": "ec7013a5-e945-4815-858f-90728480f7b0"
      },
      "outputs": [
        {
          "output_type": "execute_result",
          "data": {
            "text/plain": [
              "(1216, 9)"
            ]
          },
          "metadata": {},
          "execution_count": 13
        }
      ],
      "source": [
        "pts_first_heating_run.shape"
      ]
    },
    {
      "cell_type": "markdown",
      "metadata": {
        "iooxa": {
          "id": {
            "block": "NCh2ZbRNdeYWKUOVkz5q",
            "project": "mmReuqVTAa9JzPpNr22I",
            "version": 1
          }
        },
        "id": "UOHUTPoUhCli"
      },
      "source": [
        "The overview_fig function  generates a figure that displays our data selection. \n",
        "\n",
        "Note that surface flow rate = 0 because this log is acquired after the pumps were shut off. "
      ]
    },
    {
      "cell_type": "code",
      "execution_count": 14,
      "metadata": {
        "iooxa": {
          "id": {
            "block": "JxKnPmMvMFtMzGuDgsOS",
            "project": "mmReuqVTAa9JzPpNr22I",
            "version": 1
          },
          "outputId": null
        },
        "colab": {
          "base_uri": "https://localhost:8080/",
          "height": 907
        },
        "id": "SRw8wpJLhCli",
        "outputId": "8983d1cf-7279-4f73-ed2e-822126ff23de"
      },
      "outputs": [
        {
          "output_type": "display_data",
          "data": {
            "text/plain": [
              "<Figure size 720x1080 with 6 Axes>"
            ],
            "image/png": "[encoded data removed]"
          },
          "metadata": {
            "needs_background": "light"
          }
        }
      ],
      "source": [
        "overview_fig(pts_first_heating_run, flowrate_first_heating_run, title = name).show()"
      ]
    },
    {
      "cell_type": "code",
      "execution_count": 15,
      "metadata": {
        "iooxa": {
          "id": {
            "block": "xcuyvGjBVlyjXsA9v6Wp",
            "project": "mmReuqVTAa9JzPpNr22I",
            "version": 1
          },
          "outputId": null
        },
        "id": "f1fHv7nVhClj"
      },
      "outputs": [],
      "source": [
        "pts_first_heating_run.to_csv('Data-Temp-Heating0days.csv', index=False)"
      ]
    },
    {
      "cell_type": "code",
      "execution_count": 16,
      "metadata": {
        "iooxa": {
          "id": {
            "block": "Ug2Rz2Keuz8YeXMvEzCG",
            "project": "mmReuqVTAa9JzPpNr22I",
            "version": 1
          },
          "outputId": null
        },
        "id": "XZu_j9ZchCll"
      },
      "outputs": [],
      "source": [
        " heating_37days = pd.read_csv('Data-Temp-Heating37days.csv')"
      ]
    },
    {
      "cell_type": "code",
      "execution_count": 17,
      "metadata": {
        "iooxa": {
          "id": {
            "block": "rKQmseCPmXULCBib1hqm",
            "project": "mmReuqVTAa9JzPpNr22I",
            "version": 1
          },
          "outputId": null
        },
        "colab": {
          "base_uri": "https://localhost:8080/",
          "height": 112
        },
        "id": "I4Md1lqUhClm",
        "outputId": "c4e922e0-d58f-4505-dca3-55fa519d3ab8"
      },
      "outputs": [
        {
          "output_type": "execute_result",
          "data": {
            "text/plain": [
              "   depth_m  whp_barg  pres_barg  temp_degC  pressure_bara\n",
              "0      0.0  4.019268   3.929268      10.48       2.929268\n",
              "1     10.5  4.019268   3.929268      10.86       2.929268"
            ],
            "text/html": [
              "\n",
              "  <div id=\"df-02d4636c-7a66-4460-a7a1-73e07cf0d5f1\">\n",
              "    <div class=\"colab-df-container\">\n",
              "      <div>\n",
              "<style scoped>\n",
              "    .dataframe tbody tr th:only-of-type {\n",
              "        vertical-align: middle;\n",
              "    }\n",
              "\n",
              "    .dataframe tbody tr th {\n",
              "        vertical-align: top;\n",
              "    }\n",
              "\n",
              "    .dataframe thead th {\n",
              "        text-align: right;\n",
              "    }\n",
              "</style>\n",
              "<table border=\"1\" class=\"dataframe\">\n",
              "  <thead>\n",
              "    <tr style=\"text-align: right;\">\n",
              "      <th></th>\n",
              "      <th>depth_m</th>\n",
              "      <th>whp_barg</th>\n",
              "      <th>pres_barg</th>\n",
              "      <th>temp_degC</th>\n",
              "      <th>pressure_bara</th>\n",
              "    </tr>\n",
              "  </thead>\n",
              "  <tbody>\n",
              "    <tr>\n",
              "      <th>0</th>\n",
              "      <td>0.0</td>\n",
              "      <td>4.019268</td>\n",
              "      <td>3.929268</td>\n",
              "      <td>10.48</td>\n",
              "      <td>2.929268</td>\n",
              "    </tr>\n",
              "    <tr>\n",
              "      <th>1</th>\n",
              "      <td>10.5</td>\n",
              "      <td>4.019268</td>\n",
              "      <td>3.929268</td>\n",
              "      <td>10.86</td>\n",
              "      <td>2.929268</td>\n",
              "    </tr>\n",
              "  </tbody>\n",
              "</table>\n",
              "</div>\n",
              "      <button class=\"colab-df-convert\" onclick=\"convertToInteractive('df-02d4636c-7a66-4460-a7a1-73e07cf0d5f1')\"\n",
              "              title=\"Convert this dataframe to an interactive table.\"\n",
              "              style=\"display:none;\">\n",
              "        \n",
              "  <svg xmlns=\"http://www.w3.org/2000/svg\" height=\"24px\"viewBox=\"0 0 24 24\"\n",
              "       width=\"24px\">\n",
              "    <path d=\"M0 0h24v24H0V0z\" fill=\"none\"/>\n",
              "    <path d=\"M18.56 5.44l.94 2.06.94-2.06 2.06-.94-2.06-.94-.94-2.06-.94 2.06-2.06.94zm-11 1L8.5 8.5l.94-2.06 2.06-.94-2.06-.94L8.5 2.5l-.94 2.06-2.06.94zm10 10l.94 2.06.94-2.06 2.06-.94-2.06-.94-.94-2.06-.94 2.06-2.06.94z\"/><path d=\"M17.41 7.96l-1.37-1.37c-.4-.4-.92-.59-1.43-.59-.52 0-1.04.2-1.43.59L10.3 9.45l-7.72 7.72c-.78.78-.78 2.05 0 2.83L4 21.41c.39.39.9.59 1.41.59.51 0 1.02-.2 1.41-.59l7.78-7.78 2.81-2.81c.8-.78.8-2.07 0-2.86zM5.41 20L4 18.59l7.72-7.72 1.47 1.35L5.41 20z\"/>\n",
              "  </svg>\n",
              "      </button>\n",
              "      \n",
              "  <style>\n",
              "    .colab-df-container {\n",
              "      display:flex;\n",
              "      flex-wrap:wrap;\n",
              "      gap: 12px;\n",
              "    }\n",
              "\n",
              "    .colab-df-convert {\n",
              "      background-color: #E8F0FE;\n",
              "      border: none;\n",
              "      border-radius: 50%;\n",
              "      cursor: pointer;\n",
              "      display: none;\n",
              "      fill: #1967D2;\n",
              "      height: 32px;\n",
              "      padding: 0 0 0 0;\n",
              "      width: 32px;\n",
              "    }\n",
              "\n",
              "    .colab-df-convert:hover {\n",
              "      background-color: #E2EBFA;\n",
              "      box-shadow: 0px 1px 2px rgba(60, 64, 67, 0.3), 0px 1px 3px 1px rgba(60, 64, 67, 0.15);\n",
              "      fill: #174EA6;\n",
              "    }\n",
              "\n",
              "    [theme=dark] .colab-df-convert {\n",
              "      background-color: #3B4455;\n",
              "      fill: #D2E3FC;\n",
              "    }\n",
              "\n",
              "    [theme=dark] .colab-df-convert:hover {\n",
              "      background-color: #434B5C;\n",
              "      box-shadow: 0px 1px 3px 1px rgba(0, 0, 0, 0.15);\n",
              "      filter: drop-shadow(0px 1px 2px rgba(0, 0, 0, 0.3));\n",
              "      fill: #FFFFFF;\n",
              "    }\n",
              "  </style>\n",
              "\n",
              "      <script>\n",
              "        const buttonEl =\n",
              "          document.querySelector('#df-02d4636c-7a66-4460-a7a1-73e07cf0d5f1 button.colab-df-convert');\n",
              "        buttonEl.style.display =\n",
              "          google.colab.kernel.accessAllowed ? 'block' : 'none';\n",
              "\n",
              "        async function convertToInteractive(key) {\n",
              "          const element = document.querySelector('#df-02d4636c-7a66-4460-a7a1-73e07cf0d5f1');\n",
              "          const dataTable =\n",
              "            await google.colab.kernel.invokeFunction('convertToInteractive',\n",
              "                                                     [key], {});\n",
              "          if (!dataTable) return;\n",
              "\n",
              "          const docLinkHtml = 'Like what you see? Visit the ' +\n",
              "            '<a target=\"_blank\" href=https://colab.research.google.com/notebooks/data_table.ipynb>data table notebook</a>'\n",
              "            + ' to learn more about interactive tables.';\n",
              "          element.innerHTML = '';\n",
              "          dataTable['output_type'] = 'display_data';\n",
              "          await google.colab.output.renderOutput(dataTable, element);\n",
              "          const docLink = document.createElement('div');\n",
              "          docLink.innerHTML = docLinkHtml;\n",
              "          element.appendChild(docLink);\n",
              "        }\n",
              "      </script>\n",
              "    </div>\n",
              "  </div>\n",
              "  "
            ]
          },
          "metadata": {},
          "execution_count": 17
        }
      ],
      "source": [
        "# Convert bar gauge to bar atmosphere\n",
        "\n",
        "heating_37days['pressure_bara'] = heating_37days.pres_barg - 1\n",
        "\n",
        "heating_37days.head(2)"
      ]
    },
    {
      "cell_type": "code",
      "execution_count": 18,
      "metadata": {
        "iooxa": {
          "id": {
            "block": "zJkPIJyFHwSMieDyrGq1",
            "project": "mmReuqVTAa9JzPpNr22I",
            "version": 1
          },
          "outputId": null
        },
        "colab": {
          "base_uri": "https://localhost:8080/",
          "height": 112
        },
        "id": "VsZSdPUXhCln",
        "outputId": "e4622740-07cc-4473-e278-7c22aa1cc068"
      },
      "outputs": [
        {
          "output_type": "execute_result",
          "data": {
            "text/plain": [
              "   depth_m  whp_barg  pres_barg  temp_degC  pressure_bara  pressure_mpa  \\\n",
              "0      0.0  4.019268   3.929268      10.48       2.929268      0.292927   \n",
              "1     10.5  4.019268   3.929268      10.86       2.929268      0.292927   \n",
              "\n",
              "    tsat_degC  \n",
              "0  132.713496  \n",
              "1  132.713496  "
            ],
            "text/html": [
              "\n",
              "  <div id=\"df-4f27f00e-ea93-45c2-a2d9-76e3d8029e85\">\n",
              "    <div class=\"colab-df-container\">\n",
              "      <div>\n",
              "<style scoped>\n",
              "    .dataframe tbody tr th:only-of-type {\n",
              "        vertical-align: middle;\n",
              "    }\n",
              "\n",
              "    .dataframe tbody tr th {\n",
              "        vertical-align: top;\n",
              "    }\n",
              "\n",
              "    .dataframe thead th {\n",
              "        text-align: right;\n",
              "    }\n",
              "</style>\n",
              "<table border=\"1\" class=\"dataframe\">\n",
              "  <thead>\n",
              "    <tr style=\"text-align: right;\">\n",
              "      <th></th>\n",
              "      <th>depth_m</th>\n",
              "      <th>whp_barg</th>\n",
              "      <th>pres_barg</th>\n",
              "      <th>temp_degC</th>\n",
              "      <th>pressure_bara</th>\n",
              "      <th>pressure_mpa</th>\n",
              "      <th>tsat_degC</th>\n",
              "    </tr>\n",
              "  </thead>\n",
              "  <tbody>\n",
              "    <tr>\n",
              "      <th>0</th>\n",
              "      <td>0.0</td>\n",
              "      <td>4.019268</td>\n",
              "      <td>3.929268</td>\n",
              "      <td>10.48</td>\n",
              "      <td>2.929268</td>\n",
              "      <td>0.292927</td>\n",
              "      <td>132.713496</td>\n",
              "    </tr>\n",
              "    <tr>\n",
              "      <th>1</th>\n",
              "      <td>10.5</td>\n",
              "      <td>4.019268</td>\n",
              "      <td>3.929268</td>\n",
              "      <td>10.86</td>\n",
              "      <td>2.929268</td>\n",
              "      <td>0.292927</td>\n",
              "      <td>132.713496</td>\n",
              "    </tr>\n",
              "  </tbody>\n",
              "</table>\n",
              "</div>\n",
              "      <button class=\"colab-df-convert\" onclick=\"convertToInteractive('df-4f27f00e-ea93-45c2-a2d9-76e3d8029e85')\"\n",
              "              title=\"Convert this dataframe to an interactive table.\"\n",
              "              style=\"display:none;\">\n",
              "        \n",
              "  <svg xmlns=\"http://www.w3.org/2000/svg\" height=\"24px\"viewBox=\"0 0 24 24\"\n",
              "       width=\"24px\">\n",
              "    <path d=\"M0 0h24v24H0V0z\" fill=\"none\"/>\n",
              "    <path d=\"M18.56 5.44l.94 2.06.94-2.06 2.06-.94-2.06-.94-.94-2.06-.94 2.06-2.06.94zm-11 1L8.5 8.5l.94-2.06 2.06-.94-2.06-.94L8.5 2.5l-.94 2.06-2.06.94zm10 10l.94 2.06.94-2.06 2.06-.94-2.06-.94-.94-2.06-.94 2.06-2.06.94z\"/><path d=\"M17.41 7.96l-1.37-1.37c-.4-.4-.92-.59-1.43-.59-.52 0-1.04.2-1.43.59L10.3 9.45l-7.72 7.72c-.78.78-.78 2.05 0 2.83L4 21.41c.39.39.9.59 1.41.59.51 0 1.02-.2 1.41-.59l7.78-7.78 2.81-2.81c.8-.78.8-2.07 0-2.86zM5.41 20L4 18.59l7.72-7.72 1.47 1.35L5.41 20z\"/>\n",
              "  </svg>\n",
              "      </button>\n",
              "      \n",
              "  <style>\n",
              "    .colab-df-container {\n",
              "      display:flex;\n",
              "      flex-wrap:wrap;\n",
              "      gap: 12px;\n",
              "    }\n",
              "\n",
              "    .colab-df-convert {\n",
              "      background-color: #E8F0FE;\n",
              "      border: none;\n",
              "      border-radius: 50%;\n",
              "      cursor: pointer;\n",
              "      display: none;\n",
              "      fill: #1967D2;\n",
              "      height: 32px;\n",
              "      padding: 0 0 0 0;\n",
              "      width: 32px;\n",
              "    }\n",
              "\n",
              "    .colab-df-convert:hover {\n",
              "      background-color: #E2EBFA;\n",
              "      box-shadow: 0px 1px 2px rgba(60, 64, 67, 0.3), 0px 1px 3px 1px rgba(60, 64, 67, 0.15);\n",
              "      fill: #174EA6;\n",
              "    }\n",
              "\n",
              "    [theme=dark] .colab-df-convert {\n",
              "      background-color: #3B4455;\n",
              "      fill: #D2E3FC;\n",
              "    }\n",
              "\n",
              "    [theme=dark] .colab-df-convert:hover {\n",
              "      background-color: #434B5C;\n",
              "      box-shadow: 0px 1px 3px 1px rgba(0, 0, 0, 0.15);\n",
              "      filter: drop-shadow(0px 1px 2px rgba(0, 0, 0, 0.3));\n",
              "      fill: #FFFFFF;\n",
              "    }\n",
              "  </style>\n",
              "\n",
              "      <script>\n",
              "        const buttonEl =\n",
              "          document.querySelector('#df-4f27f00e-ea93-45c2-a2d9-76e3d8029e85 button.colab-df-convert');\n",
              "        buttonEl.style.display =\n",
              "          google.colab.kernel.accessAllowed ? 'block' : 'none';\n",
              "\n",
              "        async function convertToInteractive(key) {\n",
              "          const element = document.querySelector('#df-4f27f00e-ea93-45c2-a2d9-76e3d8029e85');\n",
              "          const dataTable =\n",
              "            await google.colab.kernel.invokeFunction('convertToInteractive',\n",
              "                                                     [key], {});\n",
              "          if (!dataTable) return;\n",
              "\n",
              "          const docLinkHtml = 'Like what you see? Visit the ' +\n",
              "            '<a target=\"_blank\" href=https://colab.research.google.com/notebooks/data_table.ipynb>data table notebook</a>'\n",
              "            + ' to learn more about interactive tables.';\n",
              "          element.innerHTML = '';\n",
              "          dataTable['output_type'] = 'display_data';\n",
              "          await google.colab.output.renderOutput(dataTable, element);\n",
              "          const docLink = document.createElement('div');\n",
              "          docLink.innerHTML = docLinkHtml;\n",
              "          element.appendChild(docLink);\n",
              "        }\n",
              "      </script>\n",
              "    </div>\n",
              "  </div>\n",
              "  "
            ]
          },
          "metadata": {},
          "execution_count": 18
        }
      ],
      "source": [
        "# note that iapws uses SI units so some unit conversion is required\n",
        "\n",
        "heating_37days['pressure_mpa'] = heating_37days.pressure_bara * 0.1  # convert pressure to MPa for ipaws\n",
        "\n",
        "pressure = heating_37days['pressure_mpa'].tolist()\n",
        "tsat = []\n",
        "for p in pressure:\n",
        "    saturation_temp = iapws.iapws97._TSat_P(p) - 273.15  # calculate saturation temp in Kelvin & convert to degC\n",
        "    tsat.append(saturation_temp)\n",
        "heating_37days['tsat_degC'] = tsat\n",
        "\n",
        "heating_37days.head(2)"
      ]
    },
    {
      "cell_type": "code",
      "execution_count": 20,
      "metadata": {
        "iooxa": {
          "id": {
            "block": "r4sEUsCiXskd53hjfkIj",
            "project": "mmReuqVTAa9JzPpNr22I",
            "version": 1
          },
          "outputId": null
        },
        "id": "G-M5mZTshClo"
      },
      "outputs": [],
      "source": [
        "production_shoe = 462.5 # 13 3/8 production casing shoe in meters measured depth (mMD) from the casing head flange (CHF)\n",
        "top_of_liner = 425 # top of perferated 10 3/4 liner in meters measured depth (mMD) from CHF\n",
        "terminal_depth = 946 # deepest drilled depth \n",
        "# the perferated liner is squatted on bottom but didn't quite make it all the way down (bottom of liner is 931 mMD)"
      ]
    },
    {
      "cell_type": "code",
      "execution_count": 21,
      "metadata": {
        "iooxa": {
          "id": {
            "block": "6h9So26dfMzYzdLVkVUn",
            "project": "mmReuqVTAa9JzPpNr22I",
            "version": 1
          },
          "outputId": null
        },
        "colab": {
          "base_uri": "https://localhost:8080/",
          "height": 621
        },
        "id": "l-q9rupHhClq",
        "outputId": "b21bf8dd-8f21-4aa4-d12c-2355cf8b8856"
      },
      "outputs": [
        {
          "output_type": "display_data",
          "data": {
            "text/plain": [
              "<Figure size 720x720 with 2 Axes>"
            ],
            "image/png": "[encoded data removed]"
          },
          "metadata": {
            "needs_background": "light"
          }
        }
      ],
      "source": [
        "fig, (ax1, ax2) = plt.subplots(1, 2,figsize=(10,10),sharey=True)\n",
        "\n",
        "\n",
        "ax1.set_title('All completion test temperature logs')\n",
        "\n",
        "# all temp data colored by time \n",
        "ax1.scatter(moving_pts.temp_degC, moving_pts.depth_m,     \n",
        "    c = moving_pts.timedelta_sec, s = 5, linewidths = 0)\n",
        "\n",
        "# our sub-selected data\n",
        "ax1.plot(pts_first_heating_run.temp_degC, pts_first_heating_run.depth_m,\n",
        "    color = 'k', linestyle = ':', label = 'Our selected data')\n",
        "\n",
        "# blank well casing\n",
        "ax1.plot([1, 1],[0, production_shoe],\n",
        "    color = 'k', linewidth = 3, linestyle = '-')\n",
        "\n",
        "# perforated well casing\n",
        "ax1.plot([5, 5],[top_of_liner, terminal_depth],     \n",
        "    color = 'k', linewidth = 1.5, linestyle = '--')\n",
        "\n",
        "\n",
        "ax2.set_title('Heating (shut) temperature logs')\n",
        "\n",
        "# our sub-selected pressure + temp data\n",
        "ax2.plot(pts_first_heating_run.temp_degC, pts_first_heating_run.depth_m, \n",
        "    color ='#EBE85B', linewidth = 3, label = 'Day 0 - temp')\n",
        "\n",
        "ax2.plot(pts_first_heating_run.pressure_bara, pts_first_heating_run.depth_m, \n",
        "    linestyle = '--', linewidth = 3, color = '#EBE85B', label = 'Day 0 - pres')\n",
        "\n",
        "# stable pressure + temp data\n",
        "ax2.plot(heating_37days.temp_degC, heating_37days.depth_m, \n",
        "    color = 'k', label = 'Day 37 - temp')\n",
        "\n",
        "ax2.plot(heating_37days.pressure_bara, heating_37days.depth_m, \n",
        "    linestyle = '--', color = 'k', label = 'Day 37 - pres')\n",
        "\n",
        "# saturation temp for the stable pressure\n",
        "ax2.plot(heating_37days.tsat_degC, heating_37days.depth_m, \n",
        "    linestyle = ':', color = 'k', label = 'Day 37 - BPD')\n",
        "\n",
        "\n",
        "ax1.set_ylim(1000,0) \n",
        "ax1.set_ylabel('Depth [m]')\n",
        "ax1.set_xlim(0,200)\n",
        "ax1.legend()\n",
        "\n",
        "ax2.legend()\n",
        "ax2.set_xlim(0,300)\n",
        "\n",
        "for ax in [ax1,ax2]:\n",
        "    ax.set_xlabel('Temperature [degC] or Pressure [bara]')\n",
        "    ax.grid()\n"
      ]
    }
  ],
  "metadata": {
    "iooxa": {
      "id": {
        "block": "6J2TDk2GvAAOQxzyYQfL",
        "project": "mmReuqVTAa9JzPpNr22I",
        "version": 1
      }
    },
    "kernelspec": {
      "display_name": "geothrm",
      "language": "python",
      "name": "geothrm"
    },
    "language_info": {
      "codemirror_mode": {
        "name": "ipython",
        "version": 3
      },
      "file_extension": ".py",
      "mimetype": "text/x-python",
      "name": "python",
      "nbconvert_exporter": "python",
      "pygments_lexer": "ipython3",
      "version": "3.7.9"
    },
    "colab": {
      "provenance": []
    },
    "widgets": {
      "application/vnd.jupyter.widget-state+json": {
        "e0899ac6d62645fc8db9c1daf5a24ddd": {
          "model_module": "@jupyter-widgets/controls",
          "model_name": "VBoxModel",
          "model_module_version": "1.5.0",
          "state": {
            "_dom_classes": [
              "widget-interact"
            ],
            "_model_module": "@jupyter-widgets/controls",
            "_model_module_version": "1.5.0",
            "_model_name": "VBoxModel",
            "_view_count": null,
            "_view_module": "@jupyter-widgets/controls",
            "_view_module_version": "1.5.0",
            "_view_name": "VBoxView",
            "box_style": "",
            "children": [
              "IPY_MODEL_a7b269f0429a46118dde1e3a0b602fb5",
              "IPY_MODEL_be64e989a3194c97b7889c69431a73cd",
              "IPY_MODEL_4f4dd5d094c04021999247808d670e34"
            ],
            "layout": "IPY_MODEL_1f08a2619b17463ab45d981b4e778c00"
          }
        },
        "a7b269f0429a46118dde1e3a0b602fb5": {
          "model_module": "@jupyter-widgets/controls",
          "model_name": "FloatSliderModel",
          "model_module_version": "1.5.0",
          "state": {
            "_dom_classes": [],
            "_model_module": "@jupyter-widgets/controls",
            "_model_module_version": "1.5.0",
            "_model_name": "FloatSliderModel",
            "_view_count": null,
            "_view_module": "@jupyter-widgets/controls",
            "_view_module_version": "1.5.0",
            "_view_name": "FloatSliderView",
            "continuous_update": false,
            "description": "start",
            "description_tooltip": null,
            "disabled": false,
            "layout": "IPY_MODEL_a4b223c1537c4d71a5b3039dbfd4a92d",
            "max": 25545.888,
            "min": 0,
            "orientation": "horizontal",
            "readout": true,
            "readout_format": ".2f",
            "step": 10,
            "style": "IPY_MODEL_f1a53317998d478780468f0d7334ea2a",
            "value": 8515.296
          }
        },
        "be64e989a3194c97b7889c69431a73cd": {
          "model_module": "@jupyter-widgets/controls",
          "model_name": "FloatSliderModel",
          "model_module_version": "1.5.0",
          "state": {
            "_dom_classes": [],
            "_model_module": "@jupyter-widgets/controls",
            "_model_module_version": "1.5.0",
            "_model_name": "FloatSliderModel",
            "_view_count": null,
            "_view_module": "@jupyter-widgets/controls",
            "_view_module_version": "1.5.0",
            "_view_name": "FloatSliderView",
            "continuous_update": false,
            "description": "stop",
            "description_tooltip": null,
            "disabled": false,
            "layout": "IPY_MODEL_313add9dffbe4acabba59c6466f3ff3f",
            "max": 25545.888,
            "min": 0,
            "orientation": "horizontal",
            "readout": true,
            "readout_format": ".2f",
            "step": 10,
            "style": "IPY_MODEL_9aa5b710dae340a9a6a0be0442547547",
            "value": 12772.944
          }
        },
        "4f4dd5d094c04021999247808d670e34": {
          "model_module": "@jupyter-widgets/output",
          "model_name": "OutputModel",
          "model_module_version": "1.0.0",
          "state": {
            "_dom_classes": [],
            "_model_module": "@jupyter-widgets/output",
            "_model_module_version": "1.0.0",
            "_model_name": "OutputModel",
            "_view_count": null,
            "_view_module": "@jupyter-widgets/output",
            "_view_module_version": "1.0.0",
            "_view_name": "OutputView",
            "layout": "IPY_MODEL_07e8a3562bc549b8bdad87f11c04c9e7",
            "msg_id": "",
            "outputs": [
              {
                "output_type": "display_data",
                "data": {
                  "text/plain": "<Figure size 1440x432 with 2 Axes>",
                  "image/png": "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\n"
                },
                "metadata": {
                  "needs_background": "light"
                }
              }
            ]
          }
        },
        "1f08a2619b17463ab45d981b4e778c00": {
          "model_module": "@jupyter-widgets/base",
          "model_name": "LayoutModel",
          "model_module_version": "1.2.0",
          "state": {
            "_model_module": "@jupyter-widgets/base",
            "_model_module_version": "1.2.0",
            "_model_name": "LayoutModel",
            "_view_count": null,
            "_view_module": "@jupyter-widgets/base",
            "_view_module_version": "1.2.0",
            "_view_name": "LayoutView",
            "align_content": null,
            "align_items": null,
            "align_self": null,
            "border": null,
            "bottom": null,
            "display": null,
            "flex": null,
            "flex_flow": null,
            "grid_area": null,
            "grid_auto_columns": null,
            "grid_auto_flow": null,
            "grid_auto_rows": null,
            "grid_column": null,
            "grid_gap": null,
            "grid_row": null,
            "grid_template_areas": null,
            "grid_template_columns": null,
            "grid_template_rows": null,
            "height": null,
            "justify_content": null,
            "justify_items": null,
            "left": null,
            "margin": null,
            "max_height": null,
            "max_width": null,
            "min_height": null,
            "min_width": null,
            "object_fit": null,
            "object_position": null,
            "order": null,
            "overflow": null,
            "overflow_x": null,
            "overflow_y": null,
            "padding": null,
            "right": null,
            "top": null,
            "visibility": null,
            "width": null
          }
        },
        "a4b223c1537c4d71a5b3039dbfd4a92d": {
          "model_module": "@jupyter-widgets/base",
          "model_name": "LayoutModel",
          "model_module_version": "1.2.0",
          "state": {
            "_model_module": "@jupyter-widgets/base",
            "_model_module_version": "1.2.0",
            "_model_name": "LayoutModel",
            "_view_count": null,
            "_view_module": "@jupyter-widgets/base",
            "_view_module_version": "1.2.0",
            "_view_name": "LayoutView",
            "align_content": null,
            "align_items": null,
            "align_self": null,
            "border": null,
            "bottom": null,
            "display": null,
            "flex": null,
            "flex_flow": null,
            "grid_area": null,
            "grid_auto_columns": null,
            "grid_auto_flow": null,
            "grid_auto_rows": null,
            "grid_column": null,
            "grid_gap": null,
            "grid_row": null,
            "grid_template_areas": null,
            "grid_template_columns": null,
            "grid_template_rows": null,
            "height": null,
            "justify_content": null,
            "justify_items": null,
            "left": null,
            "margin": null,
            "max_height": null,
            "max_width": null,
            "min_height": null,
            "min_width": null,
            "object_fit": null,
            "object_position": null,
            "order": null,
            "overflow": null,
            "overflow_x": null,
            "overflow_y": null,
            "padding": null,
            "right": null,
            "top": null,
            "visibility": null,
            "width": "80%"
          }
        },
        "f1a53317998d478780468f0d7334ea2a": {
          "model_module": "@jupyter-widgets/controls",
          "model_name": "SliderStyleModel",
          "model_module_version": "1.5.0",
          "state": {
            "_model_module": "@jupyter-widgets/controls",
            "_model_module_version": "1.5.0",
            "_model_name": "SliderStyleModel",
            "_view_count": null,
            "_view_module": "@jupyter-widgets/base",
            "_view_module_version": "1.2.0",
            "_view_name": "StyleView",
            "description_width": "",
            "handle_color": null
          }
        },
        "313add9dffbe4acabba59c6466f3ff3f": {
          "model_module": "@jupyter-widgets/base",
          "model_name": "LayoutModel",
          "model_module_version": "1.2.0",
          "state": {
            "_model_module": "@jupyter-widgets/base",
            "_model_module_version": "1.2.0",
            "_model_name": "LayoutModel",
            "_view_count": null,
            "_view_module": "@jupyter-widgets/base",
            "_view_module_version": "1.2.0",
            "_view_name": "LayoutView",
            "align_content": null,
            "align_items": null,
            "align_self": null,
            "border": null,
            "bottom": null,
            "display": null,
            "flex": null,
            "flex_flow": null,
            "grid_area": null,
            "grid_auto_columns": null,
            "grid_auto_flow": null,
            "grid_auto_rows": null,
            "grid_column": null,
            "grid_gap": null,
            "grid_row": null,
            "grid_template_areas": null,
            "grid_template_columns": null,
            "grid_template_rows": null,
            "height": null,
            "justify_content": null,
            "justify_items": null,
            "left": null,
            "margin": null,
            "max_height": null,
            "max_width": null,
            "min_height": null,
            "min_width": null,
            "object_fit": null,
            "object_position": null,
            "order": null,
            "overflow": null,
            "overflow_x": null,
            "overflow_y": null,
            "padding": null,
            "right": null,
            "top": null,
            "visibility": null,
            "width": "80%"
          }
        },
        "9aa5b710dae340a9a6a0be0442547547": {
          "model_module": "@jupyter-widgets/controls",
          "model_name": "SliderStyleModel",
          "model_module_version": "1.5.0",
          "state": {
            "_model_module": "@jupyter-widgets/controls",
            "_model_module_version": "1.5.0",
            "_model_name": "SliderStyleModel",
            "_view_count": null,
            "_view_module": "@jupyter-widgets/base",
            "_view_module_version": "1.2.0",
            "_view_name": "StyleView",
            "description_width": "",
            "handle_color": null
          }
        },
        "07e8a3562bc549b8bdad87f11c04c9e7": {
          "model_module": "@jupyter-widgets/base",
          "model_name": "LayoutModel",
          "model_module_version": "1.2.0",
          "state": {
            "_model_module": "@jupyter-widgets/base",
            "_model_module_version": "1.2.0",
            "_model_name": "LayoutModel",
            "_view_count": null,
            "_view_module": "@jupyter-widgets/base",
            "_view_module_version": "1.2.0",
            "_view_name": "LayoutView",
            "align_content": null,
            "align_items": null,
            "align_self": null,
            "border": null,
            "bottom": null,
            "display": null,
            "flex": null,
            "flex_flow": null,
            "grid_area": null,
            "grid_auto_columns": null,
            "grid_auto_flow": null,
            "grid_auto_rows": null,
            "grid_column": null,
            "grid_gap": null,
            "grid_row": null,
            "grid_template_areas": null,
            "grid_template_columns": null,
            "grid_template_rows": null,
            "height": null,
            "justify_content": null,
            "justify_items": null,
            "left": null,
            "margin": null,
            "max_height": null,
            "max_width": null,
            "min_height": null,
            "min_width": null,
            "object_fit": null,
            "object_position": null,
            "order": null,
            "overflow": null,
            "overflow_x": null,
            "overflow_y": null,
            "padding": null,
            "right": null,
            "top": null,
            "visibility": null,
            "width": null
          }
        }
      }
    }
  },
  "nbformat": 4,
  "nbformat_minor": 0
}