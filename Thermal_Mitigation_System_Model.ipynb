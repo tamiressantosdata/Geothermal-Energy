{
  "nbformat": 4,
  "nbformat_minor": 0,
  "metadata": {
    "colab": {
      "provenance": [],
      "collapsed_sections": []
    },
    "kernelspec": {
      "name": "python3",
      "display_name": "Python 3"
    },
    "language_info": {
      "name": "python"
    }
  },
  "cells": [
    {
      "cell_type": "code",
      "execution_count": 1,
      "metadata": {
        "id": "k3jQ4kYDITgg"
      },
      "outputs": [],
      "source": [
        "# Import Libraries\n",
        "import math #Contains library for natural logirthm function\n",
        "from scipy import optimize as optimize #Contains library for numerical solver\n",
        "\n",
        "# Define solver function\n",
        "def predicted(T_g, T_p1, flow_p, flow_h, R_SHX, R_GHX, L_SHX, L_GHX, rho_p, rho_h, cap_p, cap_h):\n",
        "    '''\n",
        "    This function calculates a numerical solution for pond outflow downstream of the geothermal cooling system (T_p2)\n",
        "    based on other system parameters that must be defined:    \n",
        "    T_g - Ground Temperature in units C\n",
        "    T_p1 - Pond outflow temperature upstream of the geothermal system in units C\n",
        "    flow_p - Pond flowrate in units L/s\n",
        "    flow_h - Hydronic flowrate in units L/min\n",
        "    R_SHX - Thermal resistance of the SHX in units mC/W\n",
        "    R_GHX - Thermal resistance of the GHX in units mC/W\n",
        "    L_GHX - Borehole length (depth of borehole(s) multiplied by number of boreholes) (m)\n",
        "    L_SHX - Total length of pipe in the SHX that is immersed in the pond outflow (m)\n",
        "    rho_p - Density of water kg/m3\n",
        "    rho_h - Density of the heat transfer fluid kg/m3\n",
        "    cap_p - Specific heat capacity of water J/(kgC)\n",
        "    cap_h - Specific heat capacity of water J/(kgC)    \n",
        "    '''\n",
        "    # Change flow units to m3/s\n",
        "    flow_p = flow_p*(1/1000)\n",
        "    flow_h = flow_h*(1/60)*(1/1000)\n",
        "\n",
        "     # There is a point discontinuity of these terms are the same - so if they are the same make them slightly different\n",
        "    if (rho_p * flow_p * cap_p) == (rho_h * flow_h * cap_h):\n",
        "        flow_p = flow_p * 1.001  \n",
        "\n",
        "    # Function that defines the heat transfer as a function of the pond outlet temperature and other set parameters\n",
        "    def q(T_p2):\n",
        "        q_ = rho_p * flow_p * cap_p * (T_p1 - T_p2)\n",
        "        return q_\n",
        "\n",
        "    # Function that defines the hydronic system return temperature to the borehole as a function of the pond outlet temperature and other set parameters\n",
        "    def T_h2(T_p2):\n",
        "        T_h2_ = q(T_p2) * R_SHX / L_SHX + q(T_p2)/(2 * rho_h * flow_h * cap_h) + T_g\n",
        "        return T_h2_\n",
        "\n",
        "    # Function that defines the hydronic system supply temperature to the borehole as a function of the pond outlet temperature and other set parameters\n",
        "    def T_h1(T_p2):\n",
        "        T_h1_ = T_h2(T_p2) - q(T_p2) / (rho_h * flow_h * cap_h)\n",
        "        if T_h1_ > T_g: #supply can't be cooler than ground itself...\n",
        "            T_h1_x = T_h1_\n",
        "        else:\n",
        "            T_h1_x = T_g\n",
        "        return T_h1_x\n",
        "\n",
        "    # Function for average pond temperature   \n",
        "    def Tp_ave(T_p2):\n",
        "        return (T_p2+T_p1)/2\n",
        "\n",
        "    # Function to be solved numerically for the pond outflow temperature (T_p2) \n",
        "    def y(T_p2):\n",
        "        ln_numer = Tp_ave(T_p2) - T_h1(T_p2)\n",
        "        ln_denom = Tp_ave(T_p2) - T_h2(T_p2)\n",
        "        rat_denom = Tp_ave(T_p2) - T_h1(T_p2) - (Tp_ave(T_p2) - T_h2(T_p2))\n",
        "        try:\n",
        "            y_ =  q(T_p2) * R_SHX * math.log(ln_numer/ln_denom)/rat_denom - L_SHX\n",
        "        except:\n",
        "            return(-1)\n",
        "        return y_\n",
        "\n",
        "    # This is the denominator of the natural logarithm expression in y; it will be used in this function to identify when the ln argument blows up to infinity\n",
        "    def ln_den(T_p2):\n",
        "        y = Tp_ave(T_p2) - T_h2(T_p2)\n",
        "        return y\n",
        "\n",
        "    # This is when the argument of the natural logarithm blows up to infinity - need to avoid in our numerical solution\n",
        "    def blows_up():\n",
        "        blown_up = optimize.fsolve(ln_den, 15)\n",
        "        return blown_up    \n",
        "\n",
        "    # Need to provide an initial point for the numerical solver but there are vertical asymptotes that need to be avoided - this function is used to avoid them\n",
        "    def post_blw_up_factor():\n",
        "        if (flow_h < 3/15850):\n",
        "            factor = 0.01\n",
        "        else:\n",
        "            factor = 0.0005\n",
        "        return factor  \n",
        "\n",
        "    # Define the initial geuss for the numerical solver\n",
        "    post_blowup = blows_up()+post_blw_up_factor()\n",
        "\n",
        "    # Solve the equations   \n",
        "    Tp2_C = optimize.fsolve(y, post_blowup) # Pond outflow temp  \n",
        "    Th1_C = T_h1(Tp2_C) # Hydronic system supply temp to surface water heat exchanger\n",
        "    Th2_C = T_h2(Tp2_C) # Hydronic system return temp to borehole\n",
        "    Tpave_C = (Tp2_C + T_p1)/2\n",
        "    q_ = q(Tp2_C) # Cooling power in units ton; 1 ton = 12,000 kBtu/hr and 3,412 kBtu/hr = 1 kW\n",
        "    \n",
        "    # Confirm result is actually a solution - optimize.fsolve will still return a value even if it didn't find\n",
        "    # the right solution. Therefore, the solution needs to be confirmed.\n",
        "    T1 = Tpave_C - Th2_C \n",
        "    T2 = Tpave_C - Th1_C\n",
        "    confirmed_correct = False\n",
        "    try:\n",
        "        y_result = q_ * R_SHX * math.log(T1/T2)/(T1-T2) - L_SHX\n",
        "    except:\n",
        "        y_result = -999    \n",
        "    if (y_result < 0.001)&(y_result > -0.001):\n",
        "        confirmed_correct = True\n",
        "    \n",
        "    result = {'Tp2_C':Tp2_C,\n",
        "              'Th1_C':Th1_C,\n",
        "              'Th2_C':Th2_C,\n",
        "              'q_W':q_,\n",
        "              'y_result':y_result,\n",
        "              'confirmed_correct':confirmed_correct}\n",
        "    \n",
        "    return result  "
      ]
    },
    {
      "cell_type": "code",
      "source": [
        "result = predicted(T_g=15, T_p1=30, flow_p=0.4, flow_h=17, R_SHX=0.17, R_GHX=0.21, L_SHX=230, L_GHX=183, rho_p=1000, \n",
        "          rho_h=1000, cap_p=4186, cap_h=4186)\n",
        "if result['confirmed_correct'] == True:\n",
        "    print('The model successfully produced a solution.')\n",
        "else:\n",
        "    print('The model did not find a solution.')"
      ],
      "metadata": {
        "colab": {
          "base_uri": "https://localhost:8080/"
        },
        "id": "kPNvvJOBIbv9",
        "outputId": "03434142-8b5c-4842-dff1-01a824184a14"
      },
      "execution_count": 2,
      "outputs": [
        {
          "output_type": "stream",
          "name": "stdout",
          "text": [
            "The model successfully produced a solution.\n"
          ]
        }
      ]
    },
    {
      "cell_type": "code",
      "source": [
        "print('For the provided parameters, the system provides ' + str(int(result['q_W'])) + ' W of cooling and the outflow \\\n",
        "temperature downstream of the goethermal system is ' + str(round(result['Tp2_C'][0],1)))"
      ],
      "metadata": {
        "colab": {
          "base_uri": "https://localhost:8080/"
        },
        "id": "_LMM7ORCIkgr",
        "outputId": "e2895158-2774-445c-ecd9-754e0f4acaad"
      },
      "execution_count": 3,
      "outputs": [
        {
          "output_type": "stream",
          "name": "stdout",
          "text": [
            "For the provided parameters, the system provides 8084 W of cooling and the outflow temperature downstream of the goethermal system is 25.2\n"
          ]
        }
      ]
    }
  ]
}