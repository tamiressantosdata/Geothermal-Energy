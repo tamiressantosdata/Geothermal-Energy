{
  "nbformat": 4,
  "nbformat_minor": 0,
  "metadata": {
    "colab": {
      "provenance": [],
      "collapsed_sections": []
    },
    "kernelspec": {
      "name": "python3",
      "display_name": "Python 3"
    },
    "language_info": {
      "name": "python"
    }
  },
  "cells": [
    {
      "cell_type": "code",
      "execution_count": 1,
      "metadata": {
        "id": "k9k12xUx6I0K"
      },
      "outputs": [],
      "source": [
        "import numpy as np\n",
        "import pandas as pd\n",
        "import matplotlib.pyplot as plt\n",
        "import seaborn as sns\n",
        "%matplotlib inline\n",
        "from pylab import rcParams\n",
        "\n",
        "# Ignore harmless warnings\n",
        "import warnings\n",
        "warnings.filterwarnings(\"ignore\")\n",
        "\n",
        "from sklearn.model_selection import train_test_split\n",
        "from sklearn.preprocessing import MinMaxScaler\n",
        "\n",
        "from tensorflow.keras.models import Sequential\n",
        "from tensorflow.keras.layers import Dense, Activation\n",
        "from tensorflow.keras.optimizers import Adam\n",
        "from tensorflow.keras.callbacks import EarlyStopping\n",
        "\n",
        "\n",
        "from sklearn.metrics import mean_squared_error, mean_absolute_error,explained_variance_score"
      ]
    },
    {
      "cell_type": "code",
      "source": [
        "rcParams['figure.figsize'] = 14,8\n",
        "rcParams['axes.titlesize'] = 15\n",
        "rcParams['font.size']=10\n",
        "sns.set_style('whitegrid')\n",
        "\n",
        "#show all columns in Jupyter Notebook\n",
        "pd.set_option(\"display.max_columns\", None)"
      ],
      "metadata": {
        "id": "VRDlSYXB7wel"
      },
      "execution_count": 2,
      "outputs": []
    },
    {
      "cell_type": "code",
      "source": [
        "inputs = pd.read_csv('inputs.csv',index_col=0)\n",
        "df_Enthalpy = pd.read_csv('df_Enthalpy.csv',index_col=0)"
      ],
      "metadata": {
        "id": "dbcdiu8S79JS"
      },
      "execution_count": 4,
      "outputs": []
    },
    {
      "cell_type": "code",
      "source": [
        "X_train, X_test, y_train, y_test = train_test_split(inputs.values,df_Enthalpy.values,test_size=0.2,random_state=101)"
      ],
      "metadata": {
        "id": "Bkk5uVoP9Ig7"
      },
      "execution_count": 5,
      "outputs": []
    },
    {
      "cell_type": "code",
      "source": [
        "scaler = MinMaxScaler()"
      ],
      "metadata": {
        "id": "I7YuebMl9Q4K"
      },
      "execution_count": 6,
      "outputs": []
    },
    {
      "cell_type": "code",
      "source": [
        "X_train = scaler.fit_transform(X_train)"
      ],
      "metadata": {
        "id": "jBrKI4RD9UFW"
      },
      "execution_count": 7,
      "outputs": []
    },
    {
      "cell_type": "code",
      "source": [
        "X_test = scaler.transform(X_test)"
      ],
      "metadata": {
        "id": "q3y2_wwa9cJy"
      },
      "execution_count": 8,
      "outputs": []
    },
    {
      "cell_type": "code",
      "source": [
        "X_train.shape"
      ],
      "metadata": {
        "colab": {
          "base_uri": "https://localhost:8080/"
        },
        "id": "7N8hILfu9hV3",
        "outputId": "0c3a7ceb-e5f6-43bb-9fd1-fc4f9088577b"
      },
      "execution_count": 9,
      "outputs": [
        {
          "output_type": "execute_result",
          "data": {
            "text/plain": [
              "(36388, 37)"
            ]
          },
          "metadata": {},
          "execution_count": 9
        }
      ]
    },
    {
      "cell_type": "code",
      "source": [
        "X_test.shape"
      ],
      "metadata": {
        "colab": {
          "base_uri": "https://localhost:8080/"
        },
        "id": "zIx4kYGX9m60",
        "outputId": "6b030e81-a28b-4fe4-9a0a-7c42bcdba6b8"
      },
      "execution_count": 10,
      "outputs": [
        {
          "output_type": "execute_result",
          "data": {
            "text/plain": [
              "(9097, 37)"
            ]
          },
          "metadata": {},
          "execution_count": 10
        }
      ]
    },
    {
      "cell_type": "code",
      "source": [
        "model = Sequential()\n",
        "\n",
        "model.add(Dense(37,activation='relu'))\n",
        "model.add(Dense(37,activation='relu'))\n",
        "model.add(Dense(37,activation='relu'))\n",
        "model.add(Dense(37,activation='relu'))\n",
        "model.add(Dense(20))\n",
        "\n",
        "\n",
        "model.compile(optimizer='adam',loss='mse')"
      ],
      "metadata": {
        "id": "F8J4Tp9T9uyD"
      },
      "execution_count": 11,
      "outputs": []
    },
    {
      "cell_type": "code",
      "source": [
        "# - Hyperparameter Tunning:\n",
        "\n",
        "batchsize = 128\n",
        "epochs = 400"
      ],
      "metadata": {
        "id": "zeR0tBsY92ri"
      },
      "execution_count": 12,
      "outputs": []
    },
    {
      "cell_type": "code",
      "source": [
        "early_stop = EarlyStopping(monitor='val_loss', mode='min', verbose=1, patience=25)"
      ],
      "metadata": {
        "id": "v3cAs9fA99Ft"
      },
      "execution_count": 13,
      "outputs": []
    },
    {
      "cell_type": "code",
      "source": [
        "model.fit(x=X_train,\n",
        "        y=y_train,\n",
        "        validation_data=(X_test,y_test),\n",
        "        batch_size=batchsize,\n",
        "        epochs=epochs,\n",
        "        verbose=1,\n",
        "        callbacks=[early_stop])"
      ],
      "metadata": {
        "colab": {
          "base_uri": "https://localhost:8080/"
        },
        "id": "hbQV365f-FUt",
        "outputId": "e9a07c22-bbeb-434f-afa6-c11ea5f540dd"
      },
      "execution_count": 14,
      "outputs": [
        {
          "output_type": "stream",
          "name": "stdout",
          "text": [
            "Epoch 1/400\n",
            "285/285 [==============================] - 2s 4ms/step - loss: 169919.0938 - val_loss: 40452.7891\n",
            "Epoch 2/400\n",
            "285/285 [==============================] - 1s 3ms/step - loss: 33566.4453 - val_loss: 29349.7129\n",
            "Epoch 3/400\n",
            "285/285 [==============================] - 1s 3ms/step - loss: 28160.1289 - val_loss: 27290.1777\n",
            "Epoch 4/400\n",
            "285/285 [==============================] - 1s 3ms/step - loss: 26333.3047 - val_loss: 25336.2930\n",
            "Epoch 5/400\n",
            "285/285 [==============================] - 1s 3ms/step - loss: 24092.2285 - val_loss: 23029.5684\n",
            "Epoch 6/400\n",
            "285/285 [==============================] - 1s 3ms/step - loss: 21665.7324 - val_loss: 20873.2988\n",
            "Epoch 7/400\n",
            "285/285 [==============================] - 1s 3ms/step - loss: 19983.9727 - val_loss: 19775.7969\n",
            "Epoch 8/400\n",
            "285/285 [==============================] - 1s 3ms/step - loss: 18994.5859 - val_loss: 19311.3789\n",
            "Epoch 9/400\n",
            "285/285 [==============================] - 1s 4ms/step - loss: 18517.2148 - val_loss: 18849.0156\n",
            "Epoch 10/400\n",
            "285/285 [==============================] - 1s 4ms/step - loss: 18228.6504 - val_loss: 18341.8340\n",
            "Epoch 11/400\n",
            "285/285 [==============================] - 1s 4ms/step - loss: 17953.0469 - val_loss: 18459.5605\n",
            "Epoch 12/400\n",
            "285/285 [==============================] - 1s 3ms/step - loss: 17667.1914 - val_loss: 18340.1289\n",
            "Epoch 13/400\n",
            "285/285 [==============================] - 1s 3ms/step - loss: 17438.9355 - val_loss: 17712.1660\n",
            "Epoch 14/400\n",
            "285/285 [==============================] - 1s 3ms/step - loss: 17072.4570 - val_loss: 16998.8613\n",
            "Epoch 15/400\n",
            "285/285 [==============================] - 1s 3ms/step - loss: 16577.1113 - val_loss: 16648.1133\n",
            "Epoch 16/400\n",
            "285/285 [==============================] - 1s 3ms/step - loss: 16002.2529 - val_loss: 16118.1396\n",
            "Epoch 17/400\n",
            "285/285 [==============================] - 1s 3ms/step - loss: 15615.7412 - val_loss: 15616.3496\n",
            "Epoch 18/400\n",
            "285/285 [==============================] - 1s 3ms/step - loss: 15069.1260 - val_loss: 15077.0234\n",
            "Epoch 19/400\n",
            "285/285 [==============================] - 1s 3ms/step - loss: 14731.9102 - val_loss: 14973.1318\n",
            "Epoch 20/400\n",
            "285/285 [==============================] - 1s 3ms/step - loss: 14383.6582 - val_loss: 14777.1650\n",
            "Epoch 21/400\n",
            "285/285 [==============================] - 1s 3ms/step - loss: 14182.4092 - val_loss: 14291.6348\n",
            "Epoch 22/400\n",
            "285/285 [==============================] - 1s 3ms/step - loss: 13965.9951 - val_loss: 14180.9258\n",
            "Epoch 23/400\n",
            "285/285 [==============================] - 1s 3ms/step - loss: 13806.2266 - val_loss: 14042.5498\n",
            "Epoch 24/400\n",
            "285/285 [==============================] - 1s 3ms/step - loss: 13669.8916 - val_loss: 14127.0898\n",
            "Epoch 25/400\n",
            "285/285 [==============================] - 1s 3ms/step - loss: 13606.5088 - val_loss: 13730.7578\n",
            "Epoch 26/400\n",
            "285/285 [==============================] - 1s 3ms/step - loss: 13426.0977 - val_loss: 13654.7666\n",
            "Epoch 27/400\n",
            "285/285 [==============================] - 1s 3ms/step - loss: 13314.6123 - val_loss: 13625.5938\n",
            "Epoch 28/400\n",
            "285/285 [==============================] - 1s 3ms/step - loss: 13171.4141 - val_loss: 13626.0020\n",
            "Epoch 29/400\n",
            "285/285 [==============================] - 1s 3ms/step - loss: 13133.6953 - val_loss: 13452.1592\n",
            "Epoch 30/400\n",
            "285/285 [==============================] - 1s 3ms/step - loss: 13054.7520 - val_loss: 13700.8496\n",
            "Epoch 31/400\n",
            "285/285 [==============================] - 1s 3ms/step - loss: 12939.3896 - val_loss: 13181.4814\n",
            "Epoch 32/400\n",
            "285/285 [==============================] - 1s 3ms/step - loss: 12821.8115 - val_loss: 13165.2109\n",
            "Epoch 33/400\n",
            "285/285 [==============================] - 1s 3ms/step - loss: 12723.8857 - val_loss: 13015.6973\n",
            "Epoch 34/400\n",
            "285/285 [==============================] - 1s 3ms/step - loss: 12633.4619 - val_loss: 12922.1094\n",
            "Epoch 35/400\n",
            "285/285 [==============================] - 1s 3ms/step - loss: 12614.0039 - val_loss: 12930.5400\n",
            "Epoch 36/400\n",
            "285/285 [==============================] - 1s 3ms/step - loss: 12578.5381 - val_loss: 13153.2686\n",
            "Epoch 37/400\n",
            "285/285 [==============================] - 1s 3ms/step - loss: 12462.0010 - val_loss: 12820.8711\n",
            "Epoch 38/400\n",
            "285/285 [==============================] - 1s 3ms/step - loss: 12382.9346 - val_loss: 12647.1338\n",
            "Epoch 39/400\n",
            "285/285 [==============================] - 1s 3ms/step - loss: 12273.7051 - val_loss: 12819.1514\n",
            "Epoch 40/400\n",
            "285/285 [==============================] - 1s 3ms/step - loss: 12258.1504 - val_loss: 12629.9785\n",
            "Epoch 41/400\n",
            "285/285 [==============================] - 1s 3ms/step - loss: 12197.4355 - val_loss: 12515.8984\n",
            "Epoch 42/400\n",
            "285/285 [==============================] - 1s 3ms/step - loss: 12176.9121 - val_loss: 12460.1699\n",
            "Epoch 43/400\n",
            "285/285 [==============================] - 1s 3ms/step - loss: 12151.1084 - val_loss: 12753.8184\n",
            "Epoch 44/400\n",
            "285/285 [==============================] - 1s 3ms/step - loss: 12081.8691 - val_loss: 12630.6475\n",
            "Epoch 45/400\n",
            "285/285 [==============================] - 1s 3ms/step - loss: 12022.8721 - val_loss: 12724.9287\n",
            "Epoch 46/400\n",
            "285/285 [==============================] - 1s 3ms/step - loss: 12003.2559 - val_loss: 12327.3613\n",
            "Epoch 47/400\n",
            "285/285 [==============================] - 1s 3ms/step - loss: 11978.8564 - val_loss: 12197.1807\n",
            "Epoch 48/400\n",
            "285/285 [==============================] - 1s 3ms/step - loss: 11945.7773 - val_loss: 12324.9678\n",
            "Epoch 49/400\n",
            "285/285 [==============================] - 1s 3ms/step - loss: 11869.1934 - val_loss: 12478.2656\n",
            "Epoch 50/400\n",
            "285/285 [==============================] - 1s 3ms/step - loss: 11874.0381 - val_loss: 12233.0137\n",
            "Epoch 51/400\n",
            "285/285 [==============================] - 1s 3ms/step - loss: 11843.6162 - val_loss: 12282.7588\n",
            "Epoch 52/400\n",
            "285/285 [==============================] - 1s 3ms/step - loss: 11802.7090 - val_loss: 12203.2031\n",
            "Epoch 53/400\n",
            "285/285 [==============================] - 1s 3ms/step - loss: 11782.4688 - val_loss: 12162.7188\n",
            "Epoch 54/400\n",
            "285/285 [==============================] - 1s 3ms/step - loss: 11722.3652 - val_loss: 12220.0615\n",
            "Epoch 55/400\n",
            "285/285 [==============================] - 1s 3ms/step - loss: 11737.4170 - val_loss: 12388.4678\n",
            "Epoch 56/400\n",
            "285/285 [==============================] - 1s 3ms/step - loss: 11679.3975 - val_loss: 12079.3428\n",
            "Epoch 57/400\n",
            "285/285 [==============================] - 1s 4ms/step - loss: 11664.1992 - val_loss: 12278.0068\n",
            "Epoch 58/400\n",
            "285/285 [==============================] - 1s 5ms/step - loss: 11666.6660 - val_loss: 12153.9414\n",
            "Epoch 59/400\n",
            "285/285 [==============================] - 1s 4ms/step - loss: 11656.0234 - val_loss: 12213.2119\n",
            "Epoch 60/400\n",
            "285/285 [==============================] - 1s 3ms/step - loss: 11606.2764 - val_loss: 11989.2246\n",
            "Epoch 61/400\n",
            "285/285 [==============================] - 1s 3ms/step - loss: 11582.0742 - val_loss: 11983.8281\n",
            "Epoch 62/400\n",
            "285/285 [==============================] - 1s 3ms/step - loss: 11531.8613 - val_loss: 12377.7373\n",
            "Epoch 63/400\n",
            "285/285 [==============================] - 1s 3ms/step - loss: 11525.4902 - val_loss: 12403.4619\n",
            "Epoch 64/400\n",
            "285/285 [==============================] - 1s 3ms/step - loss: 11537.1123 - val_loss: 11941.3760\n",
            "Epoch 65/400\n",
            "285/285 [==============================] - 2s 5ms/step - loss: 11517.9541 - val_loss: 11924.4121\n",
            "Epoch 66/400\n",
            "285/285 [==============================] - 2s 5ms/step - loss: 11489.1455 - val_loss: 12055.8154\n",
            "Epoch 67/400\n",
            "285/285 [==============================] - 1s 5ms/step - loss: 11447.6250 - val_loss: 11857.0479\n",
            "Epoch 68/400\n",
            "285/285 [==============================] - 1s 4ms/step - loss: 11452.8643 - val_loss: 11817.9492\n",
            "Epoch 69/400\n",
            "285/285 [==============================] - 1s 3ms/step - loss: 11433.4922 - val_loss: 11824.2393\n",
            "Epoch 70/400\n",
            "285/285 [==============================] - 1s 3ms/step - loss: 11403.3223 - val_loss: 11992.0508\n",
            "Epoch 71/400\n",
            "285/285 [==============================] - 1s 3ms/step - loss: 11419.6953 - val_loss: 12294.4805\n",
            "Epoch 72/400\n",
            "285/285 [==============================] - 1s 3ms/step - loss: 11355.6484 - val_loss: 12247.5986\n",
            "Epoch 73/400\n",
            "285/285 [==============================] - 1s 3ms/step - loss: 11339.9219 - val_loss: 11872.6133\n",
            "Epoch 74/400\n",
            "285/285 [==============================] - 1s 3ms/step - loss: 11399.4102 - val_loss: 11793.3164\n",
            "Epoch 75/400\n",
            "285/285 [==============================] - 1s 3ms/step - loss: 11313.9893 - val_loss: 11771.9150\n",
            "Epoch 76/400\n",
            "285/285 [==============================] - 1s 3ms/step - loss: 11319.3936 - val_loss: 11821.0889\n",
            "Epoch 77/400\n",
            "285/285 [==============================] - 1s 3ms/step - loss: 11277.9697 - val_loss: 11892.1885\n",
            "Epoch 78/400\n",
            "285/285 [==============================] - 1s 3ms/step - loss: 11235.8691 - val_loss: 11767.1123\n",
            "Epoch 79/400\n",
            "285/285 [==============================] - 1s 3ms/step - loss: 11312.0615 - val_loss: 11876.3633\n",
            "Epoch 80/400\n",
            "285/285 [==============================] - 1s 3ms/step - loss: 11255.4102 - val_loss: 11785.8213\n",
            "Epoch 81/400\n",
            "285/285 [==============================] - 1s 3ms/step - loss: 11235.8359 - val_loss: 11789.5029\n",
            "Epoch 82/400\n",
            "285/285 [==============================] - 1s 3ms/step - loss: 11211.2520 - val_loss: 11631.8135\n",
            "Epoch 83/400\n",
            "285/285 [==============================] - 1s 3ms/step - loss: 11220.3564 - val_loss: 12026.9521\n",
            "Epoch 84/400\n",
            "285/285 [==============================] - 1s 3ms/step - loss: 11222.0576 - val_loss: 11708.7773\n",
            "Epoch 85/400\n",
            "285/285 [==============================] - 1s 3ms/step - loss: 11130.5225 - val_loss: 11733.3584\n",
            "Epoch 86/400\n",
            "285/285 [==============================] - 1s 3ms/step - loss: 11116.7471 - val_loss: 11736.1748\n",
            "Epoch 87/400\n",
            "285/285 [==============================] - 1s 3ms/step - loss: 11173.1035 - val_loss: 11684.8779\n",
            "Epoch 88/400\n",
            "285/285 [==============================] - 1s 3ms/step - loss: 11198.3018 - val_loss: 12068.1426\n",
            "Epoch 89/400\n",
            "285/285 [==============================] - 1s 3ms/step - loss: 11057.0830 - val_loss: 11723.8877\n",
            "Epoch 90/400\n",
            "285/285 [==============================] - 1s 3ms/step - loss: 11085.7715 - val_loss: 11641.5801\n",
            "Epoch 91/400\n",
            "285/285 [==============================] - 1s 3ms/step - loss: 11033.6133 - val_loss: 11658.9609\n",
            "Epoch 92/400\n",
            "285/285 [==============================] - 1s 3ms/step - loss: 11031.4805 - val_loss: 11870.1143\n",
            "Epoch 93/400\n",
            "285/285 [==============================] - 1s 3ms/step - loss: 11141.5264 - val_loss: 11710.8828\n",
            "Epoch 94/400\n",
            "285/285 [==============================] - 1s 3ms/step - loss: 10998.0352 - val_loss: 11998.8379\n",
            "Epoch 95/400\n",
            "285/285 [==============================] - 1s 3ms/step - loss: 11040.4941 - val_loss: 12050.3750\n",
            "Epoch 96/400\n",
            "285/285 [==============================] - 1s 3ms/step - loss: 10996.9707 - val_loss: 11622.2178\n",
            "Epoch 97/400\n",
            "285/285 [==============================] - 1s 3ms/step - loss: 11010.1104 - val_loss: 11592.0977\n",
            "Epoch 98/400\n",
            "285/285 [==============================] - 1s 3ms/step - loss: 10958.4473 - val_loss: 11539.7109\n",
            "Epoch 99/400\n",
            "285/285 [==============================] - 1s 3ms/step - loss: 10982.2324 - val_loss: 12198.3252\n",
            "Epoch 100/400\n",
            "285/285 [==============================] - 1s 3ms/step - loss: 10955.9854 - val_loss: 11646.0889\n",
            "Epoch 101/400\n",
            "285/285 [==============================] - 1s 3ms/step - loss: 11029.9941 - val_loss: 11503.3594\n",
            "Epoch 102/400\n",
            "285/285 [==============================] - 1s 4ms/step - loss: 11019.2324 - val_loss: 11624.6777\n",
            "Epoch 103/400\n",
            "285/285 [==============================] - 1s 5ms/step - loss: 10888.9473 - val_loss: 11660.9961\n",
            "Epoch 104/400\n",
            "285/285 [==============================] - 2s 6ms/step - loss: 10996.7100 - val_loss: 11532.6279\n",
            "Epoch 105/400\n",
            "285/285 [==============================] - 1s 3ms/step - loss: 10897.8555 - val_loss: 11487.0859\n",
            "Epoch 106/400\n",
            "285/285 [==============================] - 1s 3ms/step - loss: 10948.1680 - val_loss: 11634.2627\n",
            "Epoch 107/400\n",
            "285/285 [==============================] - 1s 3ms/step - loss: 10851.7646 - val_loss: 11511.4648\n",
            "Epoch 108/400\n",
            "285/285 [==============================] - 1s 4ms/step - loss: 10815.9287 - val_loss: 11707.8906\n",
            "Epoch 109/400\n",
            "285/285 [==============================] - 1s 4ms/step - loss: 10882.9453 - val_loss: 12206.7559\n",
            "Epoch 110/400\n",
            "285/285 [==============================] - 1s 5ms/step - loss: 10913.8887 - val_loss: 11654.6523\n",
            "Epoch 111/400\n",
            "285/285 [==============================] - 1s 3ms/step - loss: 10812.3906 - val_loss: 11491.7568\n",
            "Epoch 112/400\n",
            "285/285 [==============================] - 1s 3ms/step - loss: 10870.3975 - val_loss: 11435.1318\n",
            "Epoch 113/400\n",
            "285/285 [==============================] - 1s 3ms/step - loss: 10825.6240 - val_loss: 11460.9570\n",
            "Epoch 114/400\n",
            "285/285 [==============================] - 1s 3ms/step - loss: 10806.7412 - val_loss: 11837.6904\n",
            "Epoch 115/400\n",
            "285/285 [==============================] - 1s 3ms/step - loss: 10833.0596 - val_loss: 11550.0732\n",
            "Epoch 116/400\n",
            "285/285 [==============================] - 1s 3ms/step - loss: 10803.8301 - val_loss: 11674.6807\n",
            "Epoch 117/400\n",
            "285/285 [==============================] - 1s 3ms/step - loss: 10781.1230 - val_loss: 11522.3125\n",
            "Epoch 118/400\n",
            "285/285 [==============================] - 1s 3ms/step - loss: 10802.0469 - val_loss: 11637.0293\n",
            "Epoch 119/400\n",
            "285/285 [==============================] - 1s 3ms/step - loss: 10766.2119 - val_loss: 11580.7344\n",
            "Epoch 120/400\n",
            "285/285 [==============================] - 1s 3ms/step - loss: 10731.9307 - val_loss: 11670.2021\n",
            "Epoch 121/400\n",
            "285/285 [==============================] - 1s 3ms/step - loss: 10753.6641 - val_loss: 11643.6045\n",
            "Epoch 122/400\n",
            "285/285 [==============================] - 1s 3ms/step - loss: 10701.2539 - val_loss: 11447.9814\n",
            "Epoch 123/400\n",
            "285/285 [==============================] - 1s 3ms/step - loss: 10731.5303 - val_loss: 11556.4648\n",
            "Epoch 124/400\n",
            "285/285 [==============================] - 1s 3ms/step - loss: 10749.7207 - val_loss: 11572.0029\n",
            "Epoch 125/400\n",
            "285/285 [==============================] - 1s 3ms/step - loss: 10721.6797 - val_loss: 11356.5078\n",
            "Epoch 126/400\n",
            "285/285 [==============================] - 1s 3ms/step - loss: 10705.5322 - val_loss: 11452.7393\n",
            "Epoch 127/400\n",
            "285/285 [==============================] - 1s 3ms/step - loss: 10724.3008 - val_loss: 11587.8252\n",
            "Epoch 128/400\n",
            "285/285 [==============================] - 1s 3ms/step - loss: 10710.6172 - val_loss: 11779.1562\n",
            "Epoch 129/400\n",
            "285/285 [==============================] - 1s 3ms/step - loss: 10683.4854 - val_loss: 11470.8926\n",
            "Epoch 130/400\n",
            "285/285 [==============================] - 1s 3ms/step - loss: 10663.4736 - val_loss: 11554.0352\n",
            "Epoch 131/400\n",
            "285/285 [==============================] - 1s 3ms/step - loss: 10636.1387 - val_loss: 11330.3818\n",
            "Epoch 132/400\n",
            "285/285 [==============================] - 1s 3ms/step - loss: 10629.8604 - val_loss: 11793.5859\n",
            "Epoch 133/400\n",
            "285/285 [==============================] - 1s 3ms/step - loss: 10694.4141 - val_loss: 11483.2139\n",
            "Epoch 134/400\n",
            "285/285 [==============================] - 1s 3ms/step - loss: 10656.4521 - val_loss: 11398.4707\n",
            "Epoch 135/400\n",
            "285/285 [==============================] - 1s 3ms/step - loss: 10629.2324 - val_loss: 11358.2812\n",
            "Epoch 136/400\n",
            "285/285 [==============================] - 1s 3ms/step - loss: 10669.0166 - val_loss: 11469.2568\n",
            "Epoch 137/400\n",
            "285/285 [==============================] - 1s 3ms/step - loss: 10640.3418 - val_loss: 11786.1553\n",
            "Epoch 138/400\n",
            "285/285 [==============================] - 1s 3ms/step - loss: 10558.1436 - val_loss: 11415.2119\n",
            "Epoch 139/400\n",
            "285/285 [==============================] - 1s 3ms/step - loss: 10679.6240 - val_loss: 11425.3535\n",
            "Epoch 140/400\n",
            "285/285 [==============================] - 1s 3ms/step - loss: 10563.9873 - val_loss: 11376.0225\n",
            "Epoch 141/400\n",
            "285/285 [==============================] - 1s 3ms/step - loss: 10590.4756 - val_loss: 11428.3301\n",
            "Epoch 142/400\n",
            "285/285 [==============================] - 1s 3ms/step - loss: 10593.6533 - val_loss: 11748.5430\n",
            "Epoch 143/400\n",
            "285/285 [==============================] - 1s 3ms/step - loss: 10584.1875 - val_loss: 11325.6650\n",
            "Epoch 144/400\n",
            "285/285 [==============================] - 1s 3ms/step - loss: 10511.2197 - val_loss: 11406.0244\n",
            "Epoch 145/400\n",
            "285/285 [==============================] - 1s 3ms/step - loss: 10578.6621 - val_loss: 11347.2910\n",
            "Epoch 146/400\n",
            "285/285 [==============================] - 1s 3ms/step - loss: 10580.8662 - val_loss: 11359.8525\n",
            "Epoch 147/400\n",
            "285/285 [==============================] - 1s 4ms/step - loss: 10532.7637 - val_loss: 11480.5166\n",
            "Epoch 148/400\n",
            "285/285 [==============================] - 1s 4ms/step - loss: 10542.1836 - val_loss: 11614.3691\n",
            "Epoch 149/400\n",
            "285/285 [==============================] - 1s 4ms/step - loss: 10551.8682 - val_loss: 11373.8945\n",
            "Epoch 150/400\n",
            "285/285 [==============================] - 1s 3ms/step - loss: 10517.8916 - val_loss: 11423.0586\n",
            "Epoch 151/400\n",
            "285/285 [==============================] - 1s 3ms/step - loss: 10544.6318 - val_loss: 11896.7256\n",
            "Epoch 152/400\n",
            "285/285 [==============================] - 1s 3ms/step - loss: 10504.7617 - val_loss: 11489.7725\n",
            "Epoch 153/400\n",
            "285/285 [==============================] - 1s 3ms/step - loss: 10523.0518 - val_loss: 11444.0000\n",
            "Epoch 154/400\n",
            "285/285 [==============================] - 1s 3ms/step - loss: 10471.6816 - val_loss: 11300.9785\n",
            "Epoch 155/400\n",
            "285/285 [==============================] - 1s 3ms/step - loss: 10461.8086 - val_loss: 11441.9053\n",
            "Epoch 156/400\n",
            "285/285 [==============================] - 1s 3ms/step - loss: 10420.0068 - val_loss: 11505.6357\n",
            "Epoch 157/400\n",
            "285/285 [==============================] - 1s 3ms/step - loss: 10484.3809 - val_loss: 11431.9727\n",
            "Epoch 158/400\n",
            "285/285 [==============================] - 1s 3ms/step - loss: 10469.0518 - val_loss: 11281.0010\n",
            "Epoch 159/400\n",
            "285/285 [==============================] - 1s 3ms/step - loss: 10516.1162 - val_loss: 11578.4395\n",
            "Epoch 160/400\n",
            "285/285 [==============================] - 1s 3ms/step - loss: 10408.9590 - val_loss: 11266.8447\n",
            "Epoch 161/400\n",
            "285/285 [==============================] - 1s 3ms/step - loss: 10446.2871 - val_loss: 11195.3877\n",
            "Epoch 162/400\n",
            "285/285 [==============================] - 1s 3ms/step - loss: 10499.6670 - val_loss: 11527.6396\n",
            "Epoch 163/400\n",
            "285/285 [==============================] - 1s 3ms/step - loss: 10408.5078 - val_loss: 11377.2686\n",
            "Epoch 164/400\n",
            "285/285 [==============================] - 1s 3ms/step - loss: 10422.9795 - val_loss: 11277.4707\n",
            "Epoch 165/400\n",
            "285/285 [==============================] - 1s 3ms/step - loss: 10452.8379 - val_loss: 11303.2969\n",
            "Epoch 166/400\n",
            "285/285 [==============================] - 1s 3ms/step - loss: 10400.3799 - val_loss: 11412.8965\n",
            "Epoch 167/400\n",
            "285/285 [==============================] - 1s 3ms/step - loss: 10372.6338 - val_loss: 11429.6260\n",
            "Epoch 168/400\n",
            "285/285 [==============================] - 1s 3ms/step - loss: 10421.1670 - val_loss: 11428.6572\n",
            "Epoch 169/400\n",
            "285/285 [==============================] - 1s 3ms/step - loss: 10359.6768 - val_loss: 11655.7305\n",
            "Epoch 170/400\n",
            "285/285 [==============================] - 1s 3ms/step - loss: 10427.9307 - val_loss: 11463.0850\n",
            "Epoch 171/400\n",
            "285/285 [==============================] - 1s 3ms/step - loss: 10355.2041 - val_loss: 11204.4434\n",
            "Epoch 172/400\n",
            "285/285 [==============================] - 1s 3ms/step - loss: 10330.0283 - val_loss: 11475.9316\n",
            "Epoch 173/400\n",
            "285/285 [==============================] - 1s 3ms/step - loss: 10350.3486 - val_loss: 11219.0996\n",
            "Epoch 174/400\n",
            "285/285 [==============================] - 1s 3ms/step - loss: 10366.8223 - val_loss: 11328.7568\n",
            "Epoch 175/400\n",
            "285/285 [==============================] - 1s 3ms/step - loss: 10342.6455 - val_loss: 11359.0566\n",
            "Epoch 176/400\n",
            "285/285 [==============================] - 1s 3ms/step - loss: 10357.5654 - val_loss: 11378.1035\n",
            "Epoch 177/400\n",
            "285/285 [==============================] - 1s 3ms/step - loss: 10336.5234 - val_loss: 11363.7188\n",
            "Epoch 178/400\n",
            "285/285 [==============================] - 1s 3ms/step - loss: 10300.0977 - val_loss: 11280.7158\n",
            "Epoch 179/400\n",
            "285/285 [==============================] - 1s 3ms/step - loss: 10281.7139 - val_loss: 11313.3213\n",
            "Epoch 180/400\n",
            "285/285 [==============================] - 1s 3ms/step - loss: 10305.6172 - val_loss: 11303.7754\n",
            "Epoch 181/400\n",
            "285/285 [==============================] - 1s 3ms/step - loss: 10275.7881 - val_loss: 11738.3242\n",
            "Epoch 182/400\n",
            "285/285 [==============================] - 1s 3ms/step - loss: 10271.5195 - val_loss: 11474.7754\n",
            "Epoch 183/400\n",
            "285/285 [==============================] - 1s 3ms/step - loss: 10314.7910 - val_loss: 11212.7549\n",
            "Epoch 184/400\n",
            "285/285 [==============================] - 1s 3ms/step - loss: 10268.8555 - val_loss: 11302.0439\n",
            "Epoch 185/400\n",
            "285/285 [==============================] - 1s 3ms/step - loss: 10307.8857 - val_loss: 11374.6240\n",
            "Epoch 186/400\n",
            "285/285 [==============================] - 1s 3ms/step - loss: 10294.2793 - val_loss: 11211.3281\n",
            "Epoch 186: early stopping\n"
          ]
        },
        {
          "output_type": "execute_result",
          "data": {
            "text/plain": [
              "<keras.callbacks.History at 0x7f37eef26950>"
            ]
          },
          "metadata": {},
          "execution_count": 14
        }
      ]
    },
    {
      "cell_type": "code",
      "source": [
        "losses = pd.DataFrame(model.history.history)"
      ],
      "metadata": {
        "id": "sh7-0f1RBbsN"
      },
      "execution_count": 15,
      "outputs": []
    },
    {
      "cell_type": "code",
      "source": [
        "losses.plot()"
      ],
      "metadata": {
        "colab": {
          "base_uri": "https://localhost:8080/",
          "height": 500
        },
        "id": "rb3o4-IIB2HW",
        "outputId": "977332d0-323b-4ef2-ac07-23989c2edb77"
      },
      "execution_count": 16,
      "outputs": [
        {
          "output_type": "execute_result",
          "data": {
            "text/plain": [
              "<matplotlib.axes._subplots.AxesSubplot at 0x7f37eee8f310>"
            ]
          },
          "metadata": {},
          "execution_count": 16
        },
        {
          "output_type": "display_data",
          "data": {
            "text/plain": [
              "<Figure size 1008x576 with 1 Axes>"
            ],
            "image/png": "[encoded data removed]"
          },
          "metadata": {}
        }
      ]
    },
    {
      "cell_type": "code",
      "source": [
        "def eval_metrics_timeseries(real_values,pred,name='Variable'):\n",
        "    print(f\"\"\"\n",
        "        ------- {name} ------\n",
        "        \n",
        "MAE: {mean_absolute_error(real_values,pred):.3f},\n",
        "MSE: {mean_squared_error(real_values,pred):.3f},\n",
        "RMSE: {np.sqrt(mean_squared_error(real_values,pred)):.3f},\n",
        "Explained Variance Score: {explained_variance_score(real_values,pred)*100:.3f}%,\n",
        "\n",
        "Compare Mean values per Year: Predictions VS Real:\n",
        "\n",
        "{pd.concat([pd.DataFrame(real_values).mean(),pd.DataFrame(pred).mean()],axis=1,keys=['Avg real',' Avg Pred'],names='Year')}\n",
        "    \"\"\")"
      ],
      "metadata": {
        "id": "YQMaeOoTCHqp"
      },
      "execution_count": 17,
      "outputs": []
    },
    {
      "cell_type": "code",
      "source": [
        "predictions_enthalpy = model.predict(X_test)"
      ],
      "metadata": {
        "colab": {
          "base_uri": "https://localhost:8080/"
        },
        "id": "ehf0K-EqCKzc",
        "outputId": "c6c661c4-d5e8-4ecf-cc69-91fba39af782"
      },
      "execution_count": 18,
      "outputs": [
        {
          "output_type": "stream",
          "name": "stdout",
          "text": [
            "285/285 [==============================] - 1s 1ms/step\n"
          ]
        }
      ]
    },
    {
      "cell_type": "code",
      "source": [
        "eval_metrics_timeseries(y_test,predictions_enthalpy,name='Power Enthalpy (Kj/Kg)')"
      ],
      "metadata": {
        "colab": {
          "base_uri": "https://localhost:8080/"
        },
        "id": "OJP0M8D3CWIH",
        "outputId": "e23d9f0e-663e-4374-ffdb-dd00258c3dae"
      },
      "execution_count": 19,
      "outputs": [
        {
          "output_type": "stream",
          "name": "stdout",
          "text": [
            "\n",
            "        ------- Power Enthalpy (Kj/Kg) ------\n",
            "        \n",
            "MAE: 68.364,\n",
            "MSE: 11211.327,\n",
            "RMSE: 105.884,\n",
            "Explained Variance Score: 76.378%,\n",
            "\n",
            "Compare Mean values per Year: Predictions VS Real:\n",
            "\n",
            "Year    Avg real    Avg Pred\n",
            "0     720.673024  719.532593\n",
            "1     685.503591  686.211670\n",
            "2     669.999661  671.599915\n",
            "3     659.121084  661.051697\n",
            "4     650.643491  652.674866\n",
            "5     643.678181  645.790710\n",
            "6     637.751328  639.945740\n",
            "7     632.605190  634.865234\n",
            "8     628.050429  630.393250\n",
            "9     623.965584  626.258667\n",
            "10    620.241453  622.611206\n",
            "11    616.822240  619.285095\n",
            "12    613.660062  616.241821\n",
            "13    610.725212  613.382385\n",
            "14    608.000128  610.756104\n",
            "15    605.442206  608.410156\n",
            "16    603.023039  605.962219\n",
            "17    600.744027  603.853882\n",
            "18    598.577764  601.731384\n",
            "19    596.526776  599.653198\n",
            "    \n"
          ]
        }
      ]
    },
    {
      "cell_type": "code",
      "source": [
        "pd.DataFrame(predictions_enthalpy,columns=df_Enthalpy.columns).mean().plot(legend=True,label='Avg Enthalpy PRED',\n",
        "                                                                           title='Avg Power Enthalpy: Predicted Vs Real values')\n",
        "pd.DataFrame(y_test,columns=df_Enthalpy.columns).mean().plot(legend=True,label='Avg Enthalpy REAL')"
      ],
      "metadata": {
        "colab": {
          "base_uri": "https://localhost:8080/",
          "height": 518
        },
        "id": "epRwzGMlCgzx",
        "outputId": "eca02029-8ff7-4f81-ef0c-aa5ca80b3015"
      },
      "execution_count": 20,
      "outputs": [
        {
          "output_type": "execute_result",
          "data": {
            "text/plain": [
              "<matplotlib.axes._subplots.AxesSubplot at 0x7f37ee8c7e90>"
            ]
          },
          "metadata": {},
          "execution_count": 20
        },
        {
          "output_type": "display_data",
          "data": {
            "text/plain": [
              "<Figure size 1008x576 with 1 Axes>"
            ],
            "image/png": "[encoded data removed]"
          },
          "metadata": {}
        }
      ]
    },
    {
      "cell_type": "markdown",
      "source": [
        "##References:\n",
        "###Utah FORGE Reports\n",
        "###https://openei.org/wikiR%26D_Reports#Utah_FORGE_Well_58-32"
      ],
      "metadata": {
        "id": "dYrg7NvhDPcU"
      }
    }
  ]
}