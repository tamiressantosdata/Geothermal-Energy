{
  "cells": [
    {
      "cell_type": "code",
      "execution_count": 4,
      "metadata": {
        "iooxa": {
          "id": {
            "block": "fE07fvbOZXnG23CTJ1J4",
            "project": "mmReuqVTAa9JzPpNr22I",
            "version": 1
          },
          "outputId": null
        },
        "id": "UaR8V7v3dUNF"
      },
      "outputs": [],
      "source": [
        "import openpyxl\n",
        "import pandas as pd\n",
        "from datetime import datetime"
      ]
    },
    {
      "cell_type": "code",
      "execution_count": 5,
      "metadata": {
        "iooxa": {
          "id": {
            "block": "XAwQM8ffvMIGuJgSJGr9",
            "project": "mmReuqVTAa9JzPpNr22I",
            "version": 2
          },
          "outputId": null
        },
        "id": "GZCGuK_hdUNH"
      },
      "outputs": [],
      "source": [
        "\n",
        "\n",
        "flowrate = pd.read_excel(r'Data-FlowRate.xlsx', header=1) "
      ]
    },
    {
      "cell_type": "code",
      "execution_count": 6,
      "metadata": {
        "iooxa": {
          "id": {
            "block": "Ck6YMVamlovJ0JAVaDbr",
            "project": "mmReuqVTAa9JzPpNr22I",
            "version": 2
          },
          "outputId": {
            "block": "OHZeaGR0WZdLclWhdc4O",
            "project": "mmReuqVTAa9JzPpNr22I",
            "version": 1
          }
        },
        "colab": {
          "base_uri": "https://localhost:8080/",
          "height": 112
        },
        "id": "ihirMQJ7dUNK",
        "outputId": "b43b9c35-7a5d-40f9-a52d-53803417a5b9"
      },
      "outputs": [
        {
          "output_type": "execute_result",
          "data": {
            "text/plain": [
              "                raw_datetime  flow_Lpm\n",
              "0  2020-12-11T06:00:00+13:00       0.0\n",
              "1  2020-12-11T06:01:00+13:00       0.0"
            ],
            "text/html": [
              "\n",
              "  <div id=\"df-cb68ce18-1402-4d36-ad0f-fd5bb4f3b293\">\n",
              "    <div class=\"colab-df-container\">\n",
              "      <div>\n",
              "<style scoped>\n",
              "    .dataframe tbody tr th:only-of-type {\n",
              "        vertical-align: middle;\n",
              "    }\n",
              "\n",
              "    .dataframe tbody tr th {\n",
              "        vertical-align: top;\n",
              "    }\n",
              "\n",
              "    .dataframe thead th {\n",
              "        text-align: right;\n",
              "    }\n",
              "</style>\n",
              "<table border=\"1\" class=\"dataframe\">\n",
              "  <thead>\n",
              "    <tr style=\"text-align: right;\">\n",
              "      <th></th>\n",
              "      <th>raw_datetime</th>\n",
              "      <th>flow_Lpm</th>\n",
              "    </tr>\n",
              "  </thead>\n",
              "  <tbody>\n",
              "    <tr>\n",
              "      <th>0</th>\n",
              "      <td>2020-12-11T06:00:00+13:00</td>\n",
              "      <td>0.0</td>\n",
              "    </tr>\n",
              "    <tr>\n",
              "      <th>1</th>\n",
              "      <td>2020-12-11T06:01:00+13:00</td>\n",
              "      <td>0.0</td>\n",
              "    </tr>\n",
              "  </tbody>\n",
              "</table>\n",
              "</div>\n",
              "      <button class=\"colab-df-convert\" onclick=\"convertToInteractive('df-cb68ce18-1402-4d36-ad0f-fd5bb4f3b293')\"\n",
              "              title=\"Convert this dataframe to an interactive table.\"\n",
              "              style=\"display:none;\">\n",
              "        \n",
              "  <svg xmlns=\"http://www.w3.org/2000/svg\" height=\"24px\"viewBox=\"0 0 24 24\"\n",
              "       width=\"24px\">\n",
              "    <path d=\"M0 0h24v24H0V0z\" fill=\"none\"/>\n",
              "    <path d=\"M18.56 5.44l.94 2.06.94-2.06 2.06-.94-2.06-.94-.94-2.06-.94 2.06-2.06.94zm-11 1L8.5 8.5l.94-2.06 2.06-.94-2.06-.94L8.5 2.5l-.94 2.06-2.06.94zm10 10l.94 2.06.94-2.06 2.06-.94-2.06-.94-.94-2.06-.94 2.06-2.06.94z\"/><path d=\"M17.41 7.96l-1.37-1.37c-.4-.4-.92-.59-1.43-.59-.52 0-1.04.2-1.43.59L10.3 9.45l-7.72 7.72c-.78.78-.78 2.05 0 2.83L4 21.41c.39.39.9.59 1.41.59.51 0 1.02-.2 1.41-.59l7.78-7.78 2.81-2.81c.8-.78.8-2.07 0-2.86zM5.41 20L4 18.59l7.72-7.72 1.47 1.35L5.41 20z\"/>\n",
              "  </svg>\n",
              "      </button>\n",
              "      \n",
              "  <style>\n",
              "    .colab-df-container {\n",
              "      display:flex;\n",
              "      flex-wrap:wrap;\n",
              "      gap: 12px;\n",
              "    }\n",
              "\n",
              "    .colab-df-convert {\n",
              "      background-color: #E8F0FE;\n",
              "      border: none;\n",
              "      border-radius: 50%;\n",
              "      cursor: pointer;\n",
              "      display: none;\n",
              "      fill: #1967D2;\n",
              "      height: 32px;\n",
              "      padding: 0 0 0 0;\n",
              "      width: 32px;\n",
              "    }\n",
              "\n",
              "    .colab-df-convert:hover {\n",
              "      background-color: #E2EBFA;\n",
              "      box-shadow: 0px 1px 2px rgba(60, 64, 67, 0.3), 0px 1px 3px 1px rgba(60, 64, 67, 0.15);\n",
              "      fill: #174EA6;\n",
              "    }\n",
              "\n",
              "    [theme=dark] .colab-df-convert {\n",
              "      background-color: #3B4455;\n",
              "      fill: #D2E3FC;\n",
              "    }\n",
              "\n",
              "    [theme=dark] .colab-df-convert:hover {\n",
              "      background-color: #434B5C;\n",
              "      box-shadow: 0px 1px 3px 1px rgba(0, 0, 0, 0.15);\n",
              "      filter: drop-shadow(0px 1px 2px rgba(0, 0, 0, 0.3));\n",
              "      fill: #FFFFFF;\n",
              "    }\n",
              "  </style>\n",
              "\n",
              "      <script>\n",
              "        const buttonEl =\n",
              "          document.querySelector('#df-cb68ce18-1402-4d36-ad0f-fd5bb4f3b293 button.colab-df-convert');\n",
              "        buttonEl.style.display =\n",
              "          google.colab.kernel.accessAllowed ? 'block' : 'none';\n",
              "\n",
              "        async function convertToInteractive(key) {\n",
              "          const element = document.querySelector('#df-cb68ce18-1402-4d36-ad0f-fd5bb4f3b293');\n",
              "          const dataTable =\n",
              "            await google.colab.kernel.invokeFunction('convertToInteractive',\n",
              "                                                     [key], {});\n",
              "          if (!dataTable) return;\n",
              "\n",
              "          const docLinkHtml = 'Like what you see? Visit the ' +\n",
              "            '<a target=\"_blank\" href=https://colab.research.google.com/notebooks/data_table.ipynb>data table notebook</a>'\n",
              "            + ' to learn more about interactive tables.';\n",
              "          element.innerHTML = '';\n",
              "          dataTable['output_type'] = 'display_data';\n",
              "          await google.colab.output.renderOutput(dataTable, element);\n",
              "          const docLink = document.createElement('div');\n",
              "          docLink.innerHTML = docLinkHtml;\n",
              "          element.appendChild(docLink);\n",
              "        }\n",
              "      </script>\n",
              "    </div>\n",
              "  </div>\n",
              "  "
            ]
          },
          "metadata": {},
          "execution_count": 6
        }
      ],
      "source": [
        "flowrate.columns = ['raw_datetime','flow_Lpm'] \n",
        "\n",
        "flowrate.head(2)"
      ]
    },
    {
      "cell_type": "markdown",
      "metadata": {
        "iooxa": {
          "id": {
            "block": "Mj04KyYGfEwQ2rZNKAm2",
            "project": "mmReuqVTAa9JzPpNr22I",
            "version": 1
          }
        },
        "id": "ZWLsh0igdUNL"
      },
      "source": [
        "### 2.1.3 Convert datetime string into Python datetime \n",
        "\n",
        "The datetime is in [ISO format](https://en.wikipedia.org/wiki/ISO_8601) and, because it includes the timezone, this is the most globally useful datetime format. \n",
        "\n",
        "> 2020-12-11T06:00:00+13:00 \n",
        "\n",
        "where T indicates the time data and +13:00 is the time shift between UTC and New Zealand where the pumps were recording data. "
      ]
    },
    {
      "cell_type": "code",
      "execution_count": 7,
      "metadata": {
        "iooxa": {
          "id": {
            "block": "hnDxNSzTzX6ZCuTyvz1h",
            "project": "mmReuqVTAa9JzPpNr22I",
            "version": 2
          },
          "outputId": {
            "block": "wyjsp4o9p6ICo3S4GOpo",
            "project": "mmReuqVTAa9JzPpNr22I",
            "version": 1
          }
        },
        "colab": {
          "base_uri": "https://localhost:8080/"
        },
        "id": "_um7gkbadUNL",
        "outputId": "cfbf6339-53db-4fd5-c5dc-6a43e75a536c"
      },
      "outputs": [
        {
          "output_type": "stream",
          "name": "stdout",
          "text": [
            "<class 'pandas.core.frame.DataFrame'>\n",
            "RangeIndex: 711 entries, 0 to 710\n",
            "Data columns (total 2 columns):\n",
            " #   Column        Non-Null Count  Dtype  \n",
            "---  ------        --------------  -----  \n",
            " 0   raw_datetime  711 non-null    object \n",
            " 1   flow_Lpm      711 non-null    float64\n",
            "dtypes: float64(1), object(1)\n",
            "memory usage: 11.2+ KB\n"
          ]
        }
      ],
      "source": [
        "flowrate.info()"
      ]
    },
    {
      "cell_type": "markdown",
      "metadata": {
        "iooxa": {
          "id": {
            "block": "HytLUJyBpSF8it24TH8E",
            "project": "mmReuqVTAa9JzPpNr22I",
            "version": 1
          }
        },
        "id": "TIcMtiRedUNM"
      },
      "source": [
        "Look at the output above and note that the _raw_datetime_ data type is _object_ and not _datetime_\n",
        "\n",
        "We will use a two-step process to parse this date:\n",
        "\n",
        "1. Convert it to a datetime object with the default UTC timezone\n",
        "2. Convert the datetime object to local time in New Zealand so it can be combined with the pts tool data"
      ]
    },
    {
      "cell_type": "code",
      "execution_count": 8,
      "metadata": {
        "iooxa": {
          "id": {
            "block": "MyHm58bTP0oSeh1EbL0v",
            "project": "mmReuqVTAa9JzPpNr22I",
            "version": 2
          },
          "outputId": {
            "block": "NTMqZWwSzDNjcxDOF54j",
            "project": "mmReuqVTAa9JzPpNr22I",
            "version": 1
          }
        },
        "colab": {
          "base_uri": "https://localhost:8080/",
          "height": 112
        },
        "id": "V6IdHTvHdUNN",
        "outputId": "c7e804fc-993c-4226-d65b-fee43e96f230"
      },
      "outputs": [
        {
          "output_type": "execute_result",
          "data": {
            "text/plain": [
              "                  raw_datetime  flow_Lpm              ISO_datetime\n",
              "709  2020-12-11T17:59:00+13:00       0.0 2020-12-11 17:59:00+13:00\n",
              "710  2020-12-11T18:00:00+13:00       0.0 2020-12-11 18:00:00+13:00"
            ],
            "text/html": [
              "\n",
              "  <div id=\"df-db6ba2e4-9d1d-4abc-b252-82c4b751a75d\">\n",
              "    <div class=\"colab-df-container\">\n",
              "      <div>\n",
              "<style scoped>\n",
              "    .dataframe tbody tr th:only-of-type {\n",
              "        vertical-align: middle;\n",
              "    }\n",
              "\n",
              "    .dataframe tbody tr th {\n",
              "        vertical-align: top;\n",
              "    }\n",
              "\n",
              "    .dataframe thead th {\n",
              "        text-align: right;\n",
              "    }\n",
              "</style>\n",
              "<table border=\"1\" class=\"dataframe\">\n",
              "  <thead>\n",
              "    <tr style=\"text-align: right;\">\n",
              "      <th></th>\n",
              "      <th>raw_datetime</th>\n",
              "      <th>flow_Lpm</th>\n",
              "      <th>ISO_datetime</th>\n",
              "    </tr>\n",
              "  </thead>\n",
              "  <tbody>\n",
              "    <tr>\n",
              "      <th>709</th>\n",
              "      <td>2020-12-11T17:59:00+13:00</td>\n",
              "      <td>0.0</td>\n",
              "      <td>2020-12-11 17:59:00+13:00</td>\n",
              "    </tr>\n",
              "    <tr>\n",
              "      <th>710</th>\n",
              "      <td>2020-12-11T18:00:00+13:00</td>\n",
              "      <td>0.0</td>\n",
              "      <td>2020-12-11 18:00:00+13:00</td>\n",
              "    </tr>\n",
              "  </tbody>\n",
              "</table>\n",
              "</div>\n",
              "      <button class=\"colab-df-convert\" onclick=\"convertToInteractive('df-db6ba2e4-9d1d-4abc-b252-82c4b751a75d')\"\n",
              "              title=\"Convert this dataframe to an interactive table.\"\n",
              "              style=\"display:none;\">\n",
              "        \n",
              "  <svg xmlns=\"http://www.w3.org/2000/svg\" height=\"24px\"viewBox=\"0 0 24 24\"\n",
              "       width=\"24px\">\n",
              "    <path d=\"M0 0h24v24H0V0z\" fill=\"none\"/>\n",
              "    <path d=\"M18.56 5.44l.94 2.06.94-2.06 2.06-.94-2.06-.94-.94-2.06-.94 2.06-2.06.94zm-11 1L8.5 8.5l.94-2.06 2.06-.94-2.06-.94L8.5 2.5l-.94 2.06-2.06.94zm10 10l.94 2.06.94-2.06 2.06-.94-2.06-.94-.94-2.06-.94 2.06-2.06.94z\"/><path d=\"M17.41 7.96l-1.37-1.37c-.4-.4-.92-.59-1.43-.59-.52 0-1.04.2-1.43.59L10.3 9.45l-7.72 7.72c-.78.78-.78 2.05 0 2.83L4 21.41c.39.39.9.59 1.41.59.51 0 1.02-.2 1.41-.59l7.78-7.78 2.81-2.81c.8-.78.8-2.07 0-2.86zM5.41 20L4 18.59l7.72-7.72 1.47 1.35L5.41 20z\"/>\n",
              "  </svg>\n",
              "      </button>\n",
              "      \n",
              "  <style>\n",
              "    .colab-df-container {\n",
              "      display:flex;\n",
              "      flex-wrap:wrap;\n",
              "      gap: 12px;\n",
              "    }\n",
              "\n",
              "    .colab-df-convert {\n",
              "      background-color: #E8F0FE;\n",
              "      border: none;\n",
              "      border-radius: 50%;\n",
              "      cursor: pointer;\n",
              "      display: none;\n",
              "      fill: #1967D2;\n",
              "      height: 32px;\n",
              "      padding: 0 0 0 0;\n",
              "      width: 32px;\n",
              "    }\n",
              "\n",
              "    .colab-df-convert:hover {\n",
              "      background-color: #E2EBFA;\n",
              "      box-shadow: 0px 1px 2px rgba(60, 64, 67, 0.3), 0px 1px 3px 1px rgba(60, 64, 67, 0.15);\n",
              "      fill: #174EA6;\n",
              "    }\n",
              "\n",
              "    [theme=dark] .colab-df-convert {\n",
              "      background-color: #3B4455;\n",
              "      fill: #D2E3FC;\n",
              "    }\n",
              "\n",
              "    [theme=dark] .colab-df-convert:hover {\n",
              "      background-color: #434B5C;\n",
              "      box-shadow: 0px 1px 3px 1px rgba(0, 0, 0, 0.15);\n",
              "      filter: drop-shadow(0px 1px 2px rgba(0, 0, 0, 0.3));\n",
              "      fill: #FFFFFF;\n",
              "    }\n",
              "  </style>\n",
              "\n",
              "      <script>\n",
              "        const buttonEl =\n",
              "          document.querySelector('#df-db6ba2e4-9d1d-4abc-b252-82c4b751a75d button.colab-df-convert');\n",
              "        buttonEl.style.display =\n",
              "          google.colab.kernel.accessAllowed ? 'block' : 'none';\n",
              "\n",
              "        async function convertToInteractive(key) {\n",
              "          const element = document.querySelector('#df-db6ba2e4-9d1d-4abc-b252-82c4b751a75d');\n",
              "          const dataTable =\n",
              "            await google.colab.kernel.invokeFunction('convertToInteractive',\n",
              "                                                     [key], {});\n",
              "          if (!dataTable) return;\n",
              "\n",
              "          const docLinkHtml = 'Like what you see? Visit the ' +\n",
              "            '<a target=\"_blank\" href=https://colab.research.google.com/notebooks/data_table.ipynb>data table notebook</a>'\n",
              "            + ' to learn more about interactive tables.';\n",
              "          element.innerHTML = '';\n",
              "          dataTable['output_type'] = 'display_data';\n",
              "          await google.colab.output.renderOutput(dataTable, element);\n",
              "          const docLink = document.createElement('div');\n",
              "          docLink.innerHTML = docLinkHtml;\n",
              "          element.appendChild(docLink);\n",
              "        }\n",
              "      </script>\n",
              "    </div>\n",
              "  </div>\n",
              "  "
            ]
          },
          "metadata": {},
          "execution_count": 8
        }
      ],
      "source": [
        "# use a method that recognises the ISO format to parse the datetime\n",
        "\n",
        "list = []\n",
        "for date in flowrate['raw_datetime']:\n",
        "    newdate = datetime.fromisoformat(date)\n",
        "    list.append(newdate)\n",
        "flowrate['ISO_datetime'] = list\n",
        "\n",
        "flowrate.tail(2)"
      ]
    },
    {
      "cell_type": "markdown",
      "metadata": {
        "iooxa": {
          "id": {
            "block": "n1FGWrr9U5cTFkTzFauT",
            "project": "mmReuqVTAa9JzPpNr22I",
            "version": 1
          }
        },
        "id": "51nPhD8tdUNO"
      },
      "source": [
        "The method fromisoformate() is new in version Python 3.7\n",
        "\n",
        "More information can be found [here](https://docs.python.org/3/library/datetime.html) and [here](https://pythontic.com/datetime/date/fromisoformat)"
      ]
    },
    {
      "cell_type": "code",
      "execution_count": 9,
      "metadata": {
        "iooxa": {
          "id": {
            "block": "HVm6Xfee9rCcySq8FrcM",
            "project": "mmReuqVTAa9JzPpNr22I",
            "version": 2
          },
          "outputId": {
            "block": "7ZZ614JH8uV2QNWG0qyC",
            "project": "mmReuqVTAa9JzPpNr22I",
            "version": 1
          }
        },
        "colab": {
          "base_uri": "https://localhost:8080/"
        },
        "id": "aV5Wy7f8dUNP",
        "outputId": "137e7c31-3dba-4baf-b1d2-41621deabb3a"
      },
      "outputs": [
        {
          "output_type": "stream",
          "name": "stdout",
          "text": [
            "<class 'pandas.core.frame.DataFrame'>\n",
            "RangeIndex: 711 entries, 0 to 710\n",
            "Data columns (total 3 columns):\n",
            " #   Column        Non-Null Count  Dtype                    \n",
            "---  ------        --------------  -----                    \n",
            " 0   raw_datetime  711 non-null    object                   \n",
            " 1   flow_Lpm      711 non-null    float64                  \n",
            " 2   ISO_datetime  711 non-null    datetime64[ns, UTC+13:00]\n",
            "dtypes: datetime64[ns, UTC+13:00](1), float64(1), object(1)\n",
            "memory usage: 16.8+ KB\n"
          ]
        }
      ],
      "source": [
        "flowrate.info()"
      ]
    },
    {
      "cell_type": "code",
      "execution_count": 10,
      "metadata": {
        "iooxa": {
          "id": {
            "block": "YpzJ4SDmAJKvvKrq7W9a",
            "project": "mmReuqVTAa9JzPpNr22I",
            "version": 2
          },
          "outputId": {
            "block": "L0WoQMprc81JUoXjWc2x",
            "project": "mmReuqVTAa9JzPpNr22I",
            "version": 1
          }
        },
        "colab": {
          "base_uri": "https://localhost:8080/",
          "height": 206
        },
        "id": "nmZpHDBWdUNQ",
        "outputId": "0ec3b6fb-12ab-46f6-856e-fa6f9dc9bd16"
      },
      "outputs": [
        {
          "output_type": "execute_result",
          "data": {
            "text/plain": [
              "                raw_datetime  flow_Lpm              ISO_datetime  \\\n",
              "0  2020-12-11T06:00:00+13:00       0.0 2020-12-11 06:00:00+13:00   \n",
              "1  2020-12-11T06:01:00+13:00       0.0 2020-12-11 06:01:00+13:00   \n",
              "2  2020-12-11T06:02:00+13:00       0.0 2020-12-11 06:02:00+13:00   \n",
              "3  2020-12-11T06:03:00+13:00       0.0 2020-12-11 06:03:00+13:00   \n",
              "4  2020-12-11T06:04:00+13:00       0.0 2020-12-11 06:04:00+13:00   \n",
              "\n",
              "             datetime  \n",
              "0 2020-12-11 06:00:00  \n",
              "1 2020-12-11 06:01:00  \n",
              "2 2020-12-11 06:02:00  \n",
              "3 2020-12-11 06:03:00  \n",
              "4 2020-12-11 06:04:00  "
            ],
            "text/html": [
              "\n",
              "  <div id=\"df-645e7d26-353e-4645-8df9-b4ade0112a92\">\n",
              "    <div class=\"colab-df-container\">\n",
              "      <div>\n",
              "<style scoped>\n",
              "    .dataframe tbody tr th:only-of-type {\n",
              "        vertical-align: middle;\n",
              "    }\n",
              "\n",
              "    .dataframe tbody tr th {\n",
              "        vertical-align: top;\n",
              "    }\n",
              "\n",
              "    .dataframe thead th {\n",
              "        text-align: right;\n",
              "    }\n",
              "</style>\n",
              "<table border=\"1\" class=\"dataframe\">\n",
              "  <thead>\n",
              "    <tr style=\"text-align: right;\">\n",
              "      <th></th>\n",
              "      <th>raw_datetime</th>\n",
              "      <th>flow_Lpm</th>\n",
              "      <th>ISO_datetime</th>\n",
              "      <th>datetime</th>\n",
              "    </tr>\n",
              "  </thead>\n",
              "  <tbody>\n",
              "    <tr>\n",
              "      <th>0</th>\n",
              "      <td>2020-12-11T06:00:00+13:00</td>\n",
              "      <td>0.0</td>\n",
              "      <td>2020-12-11 06:00:00+13:00</td>\n",
              "      <td>2020-12-11 06:00:00</td>\n",
              "    </tr>\n",
              "    <tr>\n",
              "      <th>1</th>\n",
              "      <td>2020-12-11T06:01:00+13:00</td>\n",
              "      <td>0.0</td>\n",
              "      <td>2020-12-11 06:01:00+13:00</td>\n",
              "      <td>2020-12-11 06:01:00</td>\n",
              "    </tr>\n",
              "    <tr>\n",
              "      <th>2</th>\n",
              "      <td>2020-12-11T06:02:00+13:00</td>\n",
              "      <td>0.0</td>\n",
              "      <td>2020-12-11 06:02:00+13:00</td>\n",
              "      <td>2020-12-11 06:02:00</td>\n",
              "    </tr>\n",
              "    <tr>\n",
              "      <th>3</th>\n",
              "      <td>2020-12-11T06:03:00+13:00</td>\n",
              "      <td>0.0</td>\n",
              "      <td>2020-12-11 06:03:00+13:00</td>\n",
              "      <td>2020-12-11 06:03:00</td>\n",
              "    </tr>\n",
              "    <tr>\n",
              "      <th>4</th>\n",
              "      <td>2020-12-11T06:04:00+13:00</td>\n",
              "      <td>0.0</td>\n",
              "      <td>2020-12-11 06:04:00+13:00</td>\n",
              "      <td>2020-12-11 06:04:00</td>\n",
              "    </tr>\n",
              "  </tbody>\n",
              "</table>\n",
              "</div>\n",
              "      <button class=\"colab-df-convert\" onclick=\"convertToInteractive('df-645e7d26-353e-4645-8df9-b4ade0112a92')\"\n",
              "              title=\"Convert this dataframe to an interactive table.\"\n",
              "              style=\"display:none;\">\n",
              "        \n",
              "  <svg xmlns=\"http://www.w3.org/2000/svg\" height=\"24px\"viewBox=\"0 0 24 24\"\n",
              "       width=\"24px\">\n",
              "    <path d=\"M0 0h24v24H0V0z\" fill=\"none\"/>\n",
              "    <path d=\"M18.56 5.44l.94 2.06.94-2.06 2.06-.94-2.06-.94-.94-2.06-.94 2.06-2.06.94zm-11 1L8.5 8.5l.94-2.06 2.06-.94-2.06-.94L8.5 2.5l-.94 2.06-2.06.94zm10 10l.94 2.06.94-2.06 2.06-.94-2.06-.94-.94-2.06-.94 2.06-2.06.94z\"/><path d=\"M17.41 7.96l-1.37-1.37c-.4-.4-.92-.59-1.43-.59-.52 0-1.04.2-1.43.59L10.3 9.45l-7.72 7.72c-.78.78-.78 2.05 0 2.83L4 21.41c.39.39.9.59 1.41.59.51 0 1.02-.2 1.41-.59l7.78-7.78 2.81-2.81c.8-.78.8-2.07 0-2.86zM5.41 20L4 18.59l7.72-7.72 1.47 1.35L5.41 20z\"/>\n",
              "  </svg>\n",
              "      </button>\n",
              "      \n",
              "  <style>\n",
              "    .colab-df-container {\n",
              "      display:flex;\n",
              "      flex-wrap:wrap;\n",
              "      gap: 12px;\n",
              "    }\n",
              "\n",
              "    .colab-df-convert {\n",
              "      background-color: #E8F0FE;\n",
              "      border: none;\n",
              "      border-radius: 50%;\n",
              "      cursor: pointer;\n",
              "      display: none;\n",
              "      fill: #1967D2;\n",
              "      height: 32px;\n",
              "      padding: 0 0 0 0;\n",
              "      width: 32px;\n",
              "    }\n",
              "\n",
              "    .colab-df-convert:hover {\n",
              "      background-color: #E2EBFA;\n",
              "      box-shadow: 0px 1px 2px rgba(60, 64, 67, 0.3), 0px 1px 3px 1px rgba(60, 64, 67, 0.15);\n",
              "      fill: #174EA6;\n",
              "    }\n",
              "\n",
              "    [theme=dark] .colab-df-convert {\n",
              "      background-color: #3B4455;\n",
              "      fill: #D2E3FC;\n",
              "    }\n",
              "\n",
              "    [theme=dark] .colab-df-convert:hover {\n",
              "      background-color: #434B5C;\n",
              "      box-shadow: 0px 1px 3px 1px rgba(0, 0, 0, 0.15);\n",
              "      filter: drop-shadow(0px 1px 2px rgba(0, 0, 0, 0.3));\n",
              "      fill: #FFFFFF;\n",
              "    }\n",
              "  </style>\n",
              "\n",
              "      <script>\n",
              "        const buttonEl =\n",
              "          document.querySelector('#df-645e7d26-353e-4645-8df9-b4ade0112a92 button.colab-df-convert');\n",
              "        buttonEl.style.display =\n",
              "          google.colab.kernel.accessAllowed ? 'block' : 'none';\n",
              "\n",
              "        async function convertToInteractive(key) {\n",
              "          const element = document.querySelector('#df-645e7d26-353e-4645-8df9-b4ade0112a92');\n",
              "          const dataTable =\n",
              "            await google.colab.kernel.invokeFunction('convertToInteractive',\n",
              "                                                     [key], {});\n",
              "          if (!dataTable) return;\n",
              "\n",
              "          const docLinkHtml = 'Like what you see? Visit the ' +\n",
              "            '<a target=\"_blank\" href=https://colab.research.google.com/notebooks/data_table.ipynb>data table notebook</a>'\n",
              "            + ' to learn more about interactive tables.';\n",
              "          element.innerHTML = '';\n",
              "          dataTable['output_type'] = 'display_data';\n",
              "          await google.colab.output.renderOutput(dataTable, element);\n",
              "          const docLink = document.createElement('div');\n",
              "          docLink.innerHTML = docLinkHtml;\n",
              "          element.appendChild(docLink);\n",
              "        }\n",
              "      </script>\n",
              "    </div>\n",
              "  </div>\n",
              "  "
            ]
          },
          "metadata": {},
          "execution_count": 10
        }
      ],
      "source": [
        "list = []\n",
        "for date in flowrate.ISO_datetime:\n",
        "    newdate = pd.to_datetime(datetime.strftime(date,'%Y-%m-%d %H:%M:%S'))\n",
        "    list.append(newdate)\n",
        "flowrate['datetime'] = list\n",
        "\n",
        "flowrate.head()"
      ]
    },
    {
      "cell_type": "code",
      "execution_count": 11,
      "metadata": {
        "iooxa": {
          "id": {
            "block": "WvDArWfvoM5ImPYB2YW0",
            "project": "mmReuqVTAa9JzPpNr22I",
            "version": 2
          },
          "outputId": {
            "block": "lLo98YRejPuSHAM7WjSR",
            "project": "mmReuqVTAa9JzPpNr22I",
            "version": 1
          }
        },
        "colab": {
          "base_uri": "https://localhost:8080/"
        },
        "id": "XP1t9AJ5dUNR",
        "outputId": "298819e0-4e74-467b-da85-a5d0d35f8e68"
      },
      "outputs": [
        {
          "output_type": "stream",
          "name": "stdout",
          "text": [
            "<class 'pandas.core.frame.DataFrame'>\n",
            "RangeIndex: 711 entries, 0 to 710\n",
            "Data columns (total 4 columns):\n",
            " #   Column        Non-Null Count  Dtype                    \n",
            "---  ------        --------------  -----                    \n",
            " 0   raw_datetime  711 non-null    object                   \n",
            " 1   flow_Lpm      711 non-null    float64                  \n",
            " 2   ISO_datetime  711 non-null    datetime64[ns, UTC+13:00]\n",
            " 3   datetime      711 non-null    datetime64[ns]           \n",
            "dtypes: datetime64[ns, UTC+13:00](1), datetime64[ns](1), float64(1), object(1)\n",
            "memory usage: 22.3+ KB\n"
          ]
        }
      ],
      "source": [
        "flowrate.info()"
      ]
    },
    {
      "cell_type": "markdown",
      "metadata": {
        "iooxa": {
          "id": {
            "block": "6BFTl8xFoDEaZNGUic1c",
            "project": "mmReuqVTAa9JzPpNr22I",
            "version": 1
          }
        },
        "id": "GeZmvtGpdUNR"
      },
      "source": [
        "Now we have a Python datetime object that we can combine with the PTS data which does not have timezone information.  "
      ]
    },
    {
      "cell_type": "markdown",
      "metadata": {
        "iooxa": {
          "id": {
            "block": "soaYNI5DXzIquCDLvcXP",
            "project": "mmReuqVTAa9JzPpNr22I",
            "version": 1
          }
        },
        "id": "ptiX3erqdUNS"
      },
      "source": [
        "### 2.1.4 Add a flowrate field in our desired units\n",
        "\n",
        "Conversions for typical geothermal flowrate units:\n",
        "\n",
        "- L/sec to t/hr 3.6\n",
        "- L/min to t/hr 0.060"
      ]
    },
    {
      "cell_type": "code",
      "execution_count": 12,
      "metadata": {
        "iooxa": {
          "id": {
            "block": "MaZLlmJ5MsVfCyoSxsRE",
            "project": "mmReuqVTAa9JzPpNr22I",
            "version": 2
          },
          "outputId": {
            "block": "zTLrvR0D11VlqNTG67S5",
            "project": "mmReuqVTAa9JzPpNr22I",
            "version": 1
          }
        },
        "colab": {
          "base_uri": "https://localhost:8080/",
          "height": 112
        },
        "id": "kfm4dSkCdUNS",
        "outputId": "41d9961e-107d-45a3-e74c-c64ab8085457"
      },
      "outputs": [
        {
          "output_type": "execute_result",
          "data": {
            "text/plain": [
              "                raw_datetime  flow_Lpm              ISO_datetime  \\\n",
              "0  2020-12-11T06:00:00+13:00       0.0 2020-12-11 06:00:00+13:00   \n",
              "1  2020-12-11T06:01:00+13:00       0.0 2020-12-11 06:01:00+13:00   \n",
              "\n",
              "             datetime  flow_tph  \n",
              "0 2020-12-11 06:00:00       0.0  \n",
              "1 2020-12-11 06:01:00       0.0  "
            ],
            "text/html": [
              "\n",
              "  <div id=\"df-d966aa33-921d-4ce2-b468-a50792b98d9d\">\n",
              "    <div class=\"colab-df-container\">\n",
              "      <div>\n",
              "<style scoped>\n",
              "    .dataframe tbody tr th:only-of-type {\n",
              "        vertical-align: middle;\n",
              "    }\n",
              "\n",
              "    .dataframe tbody tr th {\n",
              "        vertical-align: top;\n",
              "    }\n",
              "\n",
              "    .dataframe thead th {\n",
              "        text-align: right;\n",
              "    }\n",
              "</style>\n",
              "<table border=\"1\" class=\"dataframe\">\n",
              "  <thead>\n",
              "    <tr style=\"text-align: right;\">\n",
              "      <th></th>\n",
              "      <th>raw_datetime</th>\n",
              "      <th>flow_Lpm</th>\n",
              "      <th>ISO_datetime</th>\n",
              "      <th>datetime</th>\n",
              "      <th>flow_tph</th>\n",
              "    </tr>\n",
              "  </thead>\n",
              "  <tbody>\n",
              "    <tr>\n",
              "      <th>0</th>\n",
              "      <td>2020-12-11T06:00:00+13:00</td>\n",
              "      <td>0.0</td>\n",
              "      <td>2020-12-11 06:00:00+13:00</td>\n",
              "      <td>2020-12-11 06:00:00</td>\n",
              "      <td>0.0</td>\n",
              "    </tr>\n",
              "    <tr>\n",
              "      <th>1</th>\n",
              "      <td>2020-12-11T06:01:00+13:00</td>\n",
              "      <td>0.0</td>\n",
              "      <td>2020-12-11 06:01:00+13:00</td>\n",
              "      <td>2020-12-11 06:01:00</td>\n",
              "      <td>0.0</td>\n",
              "    </tr>\n",
              "  </tbody>\n",
              "</table>\n",
              "</div>\n",
              "      <button class=\"colab-df-convert\" onclick=\"convertToInteractive('df-d966aa33-921d-4ce2-b468-a50792b98d9d')\"\n",
              "              title=\"Convert this dataframe to an interactive table.\"\n",
              "              style=\"display:none;\">\n",
              "        \n",
              "  <svg xmlns=\"http://www.w3.org/2000/svg\" height=\"24px\"viewBox=\"0 0 24 24\"\n",
              "       width=\"24px\">\n",
              "    <path d=\"M0 0h24v24H0V0z\" fill=\"none\"/>\n",
              "    <path d=\"M18.56 5.44l.94 2.06.94-2.06 2.06-.94-2.06-.94-.94-2.06-.94 2.06-2.06.94zm-11 1L8.5 8.5l.94-2.06 2.06-.94-2.06-.94L8.5 2.5l-.94 2.06-2.06.94zm10 10l.94 2.06.94-2.06 2.06-.94-2.06-.94-.94-2.06-.94 2.06-2.06.94z\"/><path d=\"M17.41 7.96l-1.37-1.37c-.4-.4-.92-.59-1.43-.59-.52 0-1.04.2-1.43.59L10.3 9.45l-7.72 7.72c-.78.78-.78 2.05 0 2.83L4 21.41c.39.39.9.59 1.41.59.51 0 1.02-.2 1.41-.59l7.78-7.78 2.81-2.81c.8-.78.8-2.07 0-2.86zM5.41 20L4 18.59l7.72-7.72 1.47 1.35L5.41 20z\"/>\n",
              "  </svg>\n",
              "      </button>\n",
              "      \n",
              "  <style>\n",
              "    .colab-df-container {\n",
              "      display:flex;\n",
              "      flex-wrap:wrap;\n",
              "      gap: 12px;\n",
              "    }\n",
              "\n",
              "    .colab-df-convert {\n",
              "      background-color: #E8F0FE;\n",
              "      border: none;\n",
              "      border-radius: 50%;\n",
              "      cursor: pointer;\n",
              "      display: none;\n",
              "      fill: #1967D2;\n",
              "      height: 32px;\n",
              "      padding: 0 0 0 0;\n",
              "      width: 32px;\n",
              "    }\n",
              "\n",
              "    .colab-df-convert:hover {\n",
              "      background-color: #E2EBFA;\n",
              "      box-shadow: 0px 1px 2px rgba(60, 64, 67, 0.3), 0px 1px 3px 1px rgba(60, 64, 67, 0.15);\n",
              "      fill: #174EA6;\n",
              "    }\n",
              "\n",
              "    [theme=dark] .colab-df-convert {\n",
              "      background-color: #3B4455;\n",
              "      fill: #D2E3FC;\n",
              "    }\n",
              "\n",
              "    [theme=dark] .colab-df-convert:hover {\n",
              "      background-color: #434B5C;\n",
              "      box-shadow: 0px 1px 3px 1px rgba(0, 0, 0, 0.15);\n",
              "      filter: drop-shadow(0px 1px 2px rgba(0, 0, 0, 0.3));\n",
              "      fill: #FFFFFF;\n",
              "    }\n",
              "  </style>\n",
              "\n",
              "      <script>\n",
              "        const buttonEl =\n",
              "          document.querySelector('#df-d966aa33-921d-4ce2-b468-a50792b98d9d button.colab-df-convert');\n",
              "        buttonEl.style.display =\n",
              "          google.colab.kernel.accessAllowed ? 'block' : 'none';\n",
              "\n",
              "        async function convertToInteractive(key) {\n",
              "          const element = document.querySelector('#df-d966aa33-921d-4ce2-b468-a50792b98d9d');\n",
              "          const dataTable =\n",
              "            await google.colab.kernel.invokeFunction('convertToInteractive',\n",
              "                                                     [key], {});\n",
              "          if (!dataTable) return;\n",
              "\n",
              "          const docLinkHtml = 'Like what you see? Visit the ' +\n",
              "            '<a target=\"_blank\" href=https://colab.research.google.com/notebooks/data_table.ipynb>data table notebook</a>'\n",
              "            + ' to learn more about interactive tables.';\n",
              "          element.innerHTML = '';\n",
              "          dataTable['output_type'] = 'display_data';\n",
              "          await google.colab.output.renderOutput(dataTable, element);\n",
              "          const docLink = document.createElement('div');\n",
              "          docLink.innerHTML = docLinkHtml;\n",
              "          element.appendChild(docLink);\n",
              "        }\n",
              "      </script>\n",
              "    </div>\n",
              "  </div>\n",
              "  "
            ]
          },
          "metadata": {},
          "execution_count": 12
        }
      ],
      "source": [
        "flowrate['flow_tph'] = flowrate.flow_Lpm * 0.060\n",
        "\n",
        "flowrate.head(2) # 23 to see the non-zero values"
      ]
    },
    {
      "cell_type": "markdown",
      "metadata": {
        "iooxa": {
          "id": {
            "block": "EI77qWidXjIrwTdTxzeq",
            "project": "mmReuqVTAa9JzPpNr22I",
            "version": 1
          }
        },
        "id": "Z-nIlDcIdUNT"
      },
      "source": [
        "### 2.1.5 Trim excess columns from the dataframe\n",
        "\n",
        "Now we just drop the columns that we don't want from the dataframe"
      ]
    },
    {
      "cell_type": "code",
      "execution_count": 13,
      "metadata": {
        "iooxa": {
          "id": {
            "block": "Vaaev33GaFciqtS3yEu5",
            "project": "mmReuqVTAa9JzPpNr22I",
            "version": 2
          },
          "outputId": {
            "block": "M5MWzVSwPhEXTXioMhMm",
            "project": "mmReuqVTAa9JzPpNr22I",
            "version": 1
          }
        },
        "colab": {
          "base_uri": "https://localhost:8080/",
          "height": 112
        },
        "id": "5Xdl370qdUNT",
        "outputId": "40e16e9e-0ed8-4788-9e2d-412e42f25ceb"
      },
      "outputs": [
        {
          "output_type": "execute_result",
          "data": {
            "text/plain": [
              "             datetime  flow_tph\n",
              "0 2020-12-11 06:00:00       0.0\n",
              "1 2020-12-11 06:01:00       0.0"
            ],
            "text/html": [
              "\n",
              "  <div id=\"df-9b20df30-a149-4da9-8c0e-a70bb2a65981\">\n",
              "    <div class=\"colab-df-container\">\n",
              "      <div>\n",
              "<style scoped>\n",
              "    .dataframe tbody tr th:only-of-type {\n",
              "        vertical-align: middle;\n",
              "    }\n",
              "\n",
              "    .dataframe tbody tr th {\n",
              "        vertical-align: top;\n",
              "    }\n",
              "\n",
              "    .dataframe thead th {\n",
              "        text-align: right;\n",
              "    }\n",
              "</style>\n",
              "<table border=\"1\" class=\"dataframe\">\n",
              "  <thead>\n",
              "    <tr style=\"text-align: right;\">\n",
              "      <th></th>\n",
              "      <th>datetime</th>\n",
              "      <th>flow_tph</th>\n",
              "    </tr>\n",
              "  </thead>\n",
              "  <tbody>\n",
              "    <tr>\n",
              "      <th>0</th>\n",
              "      <td>2020-12-11 06:00:00</td>\n",
              "      <td>0.0</td>\n",
              "    </tr>\n",
              "    <tr>\n",
              "      <th>1</th>\n",
              "      <td>2020-12-11 06:01:00</td>\n",
              "      <td>0.0</td>\n",
              "    </tr>\n",
              "  </tbody>\n",
              "</table>\n",
              "</div>\n",
              "      <button class=\"colab-df-convert\" onclick=\"convertToInteractive('df-9b20df30-a149-4da9-8c0e-a70bb2a65981')\"\n",
              "              title=\"Convert this dataframe to an interactive table.\"\n",
              "              style=\"display:none;\">\n",
              "        \n",
              "  <svg xmlns=\"http://www.w3.org/2000/svg\" height=\"24px\"viewBox=\"0 0 24 24\"\n",
              "       width=\"24px\">\n",
              "    <path d=\"M0 0h24v24H0V0z\" fill=\"none\"/>\n",
              "    <path d=\"M18.56 5.44l.94 2.06.94-2.06 2.06-.94-2.06-.94-.94-2.06-.94 2.06-2.06.94zm-11 1L8.5 8.5l.94-2.06 2.06-.94-2.06-.94L8.5 2.5l-.94 2.06-2.06.94zm10 10l.94 2.06.94-2.06 2.06-.94-2.06-.94-.94-2.06-.94 2.06-2.06.94z\"/><path d=\"M17.41 7.96l-1.37-1.37c-.4-.4-.92-.59-1.43-.59-.52 0-1.04.2-1.43.59L10.3 9.45l-7.72 7.72c-.78.78-.78 2.05 0 2.83L4 21.41c.39.39.9.59 1.41.59.51 0 1.02-.2 1.41-.59l7.78-7.78 2.81-2.81c.8-.78.8-2.07 0-2.86zM5.41 20L4 18.59l7.72-7.72 1.47 1.35L5.41 20z\"/>\n",
              "  </svg>\n",
              "      </button>\n",
              "      \n",
              "  <style>\n",
              "    .colab-df-container {\n",
              "      display:flex;\n",
              "      flex-wrap:wrap;\n",
              "      gap: 12px;\n",
              "    }\n",
              "\n",
              "    .colab-df-convert {\n",
              "      background-color: #E8F0FE;\n",
              "      border: none;\n",
              "      border-radius: 50%;\n",
              "      cursor: pointer;\n",
              "      display: none;\n",
              "      fill: #1967D2;\n",
              "      height: 32px;\n",
              "      padding: 0 0 0 0;\n",
              "      width: 32px;\n",
              "    }\n",
              "\n",
              "    .colab-df-convert:hover {\n",
              "      background-color: #E2EBFA;\n",
              "      box-shadow: 0px 1px 2px rgba(60, 64, 67, 0.3), 0px 1px 3px 1px rgba(60, 64, 67, 0.15);\n",
              "      fill: #174EA6;\n",
              "    }\n",
              "\n",
              "    [theme=dark] .colab-df-convert {\n",
              "      background-color: #3B4455;\n",
              "      fill: #D2E3FC;\n",
              "    }\n",
              "\n",
              "    [theme=dark] .colab-df-convert:hover {\n",
              "      background-color: #434B5C;\n",
              "      box-shadow: 0px 1px 3px 1px rgba(0, 0, 0, 0.15);\n",
              "      filter: drop-shadow(0px 1px 2px rgba(0, 0, 0, 0.3));\n",
              "      fill: #FFFFFF;\n",
              "    }\n",
              "  </style>\n",
              "\n",
              "      <script>\n",
              "        const buttonEl =\n",
              "          document.querySelector('#df-9b20df30-a149-4da9-8c0e-a70bb2a65981 button.colab-df-convert');\n",
              "        buttonEl.style.display =\n",
              "          google.colab.kernel.accessAllowed ? 'block' : 'none';\n",
              "\n",
              "        async function convertToInteractive(key) {\n",
              "          const element = document.querySelector('#df-9b20df30-a149-4da9-8c0e-a70bb2a65981');\n",
              "          const dataTable =\n",
              "            await google.colab.kernel.invokeFunction('convertToInteractive',\n",
              "                                                     [key], {});\n",
              "          if (!dataTable) return;\n",
              "\n",
              "          const docLinkHtml = 'Like what you see? Visit the ' +\n",
              "            '<a target=\"_blank\" href=https://colab.research.google.com/notebooks/data_table.ipynb>data table notebook</a>'\n",
              "            + ' to learn more about interactive tables.';\n",
              "          element.innerHTML = '';\n",
              "          dataTable['output_type'] = 'display_data';\n",
              "          await google.colab.output.renderOutput(dataTable, element);\n",
              "          const docLink = document.createElement('div');\n",
              "          docLink.innerHTML = docLinkHtml;\n",
              "          element.appendChild(docLink);\n",
              "        }\n",
              "      </script>\n",
              "    </div>\n",
              "  </div>\n",
              "  "
            ]
          },
          "metadata": {},
          "execution_count": 13
        }
      ],
      "source": [
        "flowrate.drop(columns = ['raw_datetime', 'flow_Lpm', 'ISO_datetime'], inplace = True)\n",
        "\n",
        "flowrate.head(2)"
      ]
    },
    {
      "cell_type": "code",
      "execution_count": 15,
      "metadata": {
        "iooxa": {
          "id": {
            "block": "hf7FUr31yjWOIPj7fVVa",
            "project": "mmReuqVTAa9JzPpNr22I",
            "version": 2
          },
          "outputId": null
        },
        "id": "pRkUQA61dUNW"
      },
      "outputs": [],
      "source": [
        "pts = pd.read_excel(r'Data-PTS.xlsx') "
      ]
    },
    {
      "cell_type": "code",
      "execution_count": 16,
      "metadata": {
        "iooxa": {
          "id": {
            "block": "fJXX8wbHbsydE9x2RLXE",
            "project": "mmReuqVTAa9JzPpNr22I",
            "version": 2
          },
          "outputId": {
            "block": "bFwYj2XhS1scgduCBN9t",
            "project": "mmReuqVTAa9JzPpNr22I",
            "version": 1
          }
        },
        "colab": {
          "base_uri": "https://localhost:8080/"
        },
        "id": "qN5RtlWmdUNX",
        "outputId": "f793973c-3983-4fc8-bd4a-860fb4b5cbda"
      },
      "outputs": [
        {
          "output_type": "execute_result",
          "data": {
            "text/plain": [
              "(101294, 26)"
            ]
          },
          "metadata": {},
          "execution_count": 16
        }
      ],
      "source": [
        "pts.shape"
      ]
    },
    {
      "cell_type": "code",
      "execution_count": 17,
      "metadata": {
        "iooxa": {
          "id": {
            "block": "OdgCM1r85MBVNnJYmqlW",
            "project": "mmReuqVTAa9JzPpNr22I",
            "version": 2
          },
          "outputId": {
            "block": "eNdu1lweTTSSL0DPKCiy",
            "project": "mmReuqVTAa9JzPpNr22I",
            "version": 1
          }
        },
        "colab": {
          "base_uri": "https://localhost:8080/",
          "height": 358
        },
        "id": "gB7PEC7cdUNY",
        "outputId": "382feb68-d518-48cc-e55d-bf7997726907"
      },
      "outputs": [
        {
          "output_type": "execute_result",
          "data": {
            "text/plain": [
              "                  Date             Time    Timestamp    DEPTH SPEED  \\\n",
              "0           yyyy-mm-dd     hh:mm:ss.sss         days        m   m/s   \n",
              "1  2020-12-11 00:00:00  00:26:44.800000  44176.39357 -6.32025   NaN   \n",
              "2  2020-12-11 00:00:00         00:26:45  44176.39358 -6.32025   NaN   \n",
              "\n",
              "  Cable Weight       WHP Temperature  Pressure  Frequency  ... SGS Voltage  \\\n",
              "0           kg      barg          ∞C      bara         Hz  ...           V   \n",
              "1    24.957275 -0.607066   19.702093  0.498792  40.648876  ...           0   \n",
              "2    25.211151 -0.606777    19.68925  0.485864  41.483227  ...           0   \n",
              "\n",
              "  Internal Temp 1 Internal Temp 2 Internal Temp 3 Cal Temp Error Code 1  \\\n",
              "0              ∞C              ∞C              ∞C       ∞C        Count   \n",
              "1       24.999414       24.999414         21.8269        0            0   \n",
              "2       24.999414       24.999414         21.8269        0            0   \n",
              "\n",
              "  Error Code 2 Error Code 3 Records Saved Bad Pages  \n",
              "0        Count        Count         Count     Count  \n",
              "1            0            0       7948034         0  \n",
              "2            0            0       7948034         0  \n",
              "\n",
              "[3 rows x 26 columns]"
            ],
            "text/html": [
              "\n",
              "  <div id=\"df-87b63461-806b-491b-9fb2-fc2204893b0f\">\n",
              "    <div class=\"colab-df-container\">\n",
              "      <div>\n",
              "<style scoped>\n",
              "    .dataframe tbody tr th:only-of-type {\n",
              "        vertical-align: middle;\n",
              "    }\n",
              "\n",
              "    .dataframe tbody tr th {\n",
              "        vertical-align: top;\n",
              "    }\n",
              "\n",
              "    .dataframe thead th {\n",
              "        text-align: right;\n",
              "    }\n",
              "</style>\n",
              "<table border=\"1\" class=\"dataframe\">\n",
              "  <thead>\n",
              "    <tr style=\"text-align: right;\">\n",
              "      <th></th>\n",
              "      <th>Date</th>\n",
              "      <th>Time</th>\n",
              "      <th>Timestamp</th>\n",
              "      <th>DEPTH</th>\n",
              "      <th>SPEED</th>\n",
              "      <th>Cable Weight</th>\n",
              "      <th>WHP</th>\n",
              "      <th>Temperature</th>\n",
              "      <th>Pressure</th>\n",
              "      <th>Frequency</th>\n",
              "      <th>...</th>\n",
              "      <th>SGS Voltage</th>\n",
              "      <th>Internal Temp 1</th>\n",
              "      <th>Internal Temp 2</th>\n",
              "      <th>Internal Temp 3</th>\n",
              "      <th>Cal Temp</th>\n",
              "      <th>Error Code 1</th>\n",
              "      <th>Error Code 2</th>\n",
              "      <th>Error Code 3</th>\n",
              "      <th>Records Saved</th>\n",
              "      <th>Bad Pages</th>\n",
              "    </tr>\n",
              "  </thead>\n",
              "  <tbody>\n",
              "    <tr>\n",
              "      <th>0</th>\n",
              "      <td>yyyy-mm-dd</td>\n",
              "      <td>hh:mm:ss.sss</td>\n",
              "      <td>days</td>\n",
              "      <td>m</td>\n",
              "      <td>m/s</td>\n",
              "      <td>kg</td>\n",
              "      <td>barg</td>\n",
              "      <td>∞C</td>\n",
              "      <td>bara</td>\n",
              "      <td>Hz</td>\n",
              "      <td>...</td>\n",
              "      <td>V</td>\n",
              "      <td>∞C</td>\n",
              "      <td>∞C</td>\n",
              "      <td>∞C</td>\n",
              "      <td>∞C</td>\n",
              "      <td>Count</td>\n",
              "      <td>Count</td>\n",
              "      <td>Count</td>\n",
              "      <td>Count</td>\n",
              "      <td>Count</td>\n",
              "    </tr>\n",
              "    <tr>\n",
              "      <th>1</th>\n",
              "      <td>2020-12-11 00:00:00</td>\n",
              "      <td>00:26:44.800000</td>\n",
              "      <td>44176.39357</td>\n",
              "      <td>-6.32025</td>\n",
              "      <td>NaN</td>\n",
              "      <td>24.957275</td>\n",
              "      <td>-0.607066</td>\n",
              "      <td>19.702093</td>\n",
              "      <td>0.498792</td>\n",
              "      <td>40.648876</td>\n",
              "      <td>...</td>\n",
              "      <td>0</td>\n",
              "      <td>24.999414</td>\n",
              "      <td>24.999414</td>\n",
              "      <td>21.8269</td>\n",
              "      <td>0</td>\n",
              "      <td>0</td>\n",
              "      <td>0</td>\n",
              "      <td>0</td>\n",
              "      <td>7948034</td>\n",
              "      <td>0</td>\n",
              "    </tr>\n",
              "    <tr>\n",
              "      <th>2</th>\n",
              "      <td>2020-12-11 00:00:00</td>\n",
              "      <td>00:26:45</td>\n",
              "      <td>44176.39358</td>\n",
              "      <td>-6.32025</td>\n",
              "      <td>NaN</td>\n",
              "      <td>25.211151</td>\n",
              "      <td>-0.606777</td>\n",
              "      <td>19.68925</td>\n",
              "      <td>0.485864</td>\n",
              "      <td>41.483227</td>\n",
              "      <td>...</td>\n",
              "      <td>0</td>\n",
              "      <td>24.999414</td>\n",
              "      <td>24.999414</td>\n",
              "      <td>21.8269</td>\n",
              "      <td>0</td>\n",
              "      <td>0</td>\n",
              "      <td>0</td>\n",
              "      <td>0</td>\n",
              "      <td>7948034</td>\n",
              "      <td>0</td>\n",
              "    </tr>\n",
              "  </tbody>\n",
              "</table>\n",
              "<p>3 rows × 26 columns</p>\n",
              "</div>\n",
              "      <button class=\"colab-df-convert\" onclick=\"convertToInteractive('df-87b63461-806b-491b-9fb2-fc2204893b0f')\"\n",
              "              title=\"Convert this dataframe to an interactive table.\"\n",
              "              style=\"display:none;\">\n",
              "        \n",
              "  <svg xmlns=\"http://www.w3.org/2000/svg\" height=\"24px\"viewBox=\"0 0 24 24\"\n",
              "       width=\"24px\">\n",
              "    <path d=\"M0 0h24v24H0V0z\" fill=\"none\"/>\n",
              "    <path d=\"M18.56 5.44l.94 2.06.94-2.06 2.06-.94-2.06-.94-.94-2.06-.94 2.06-2.06.94zm-11 1L8.5 8.5l.94-2.06 2.06-.94-2.06-.94L8.5 2.5l-.94 2.06-2.06.94zm10 10l.94 2.06.94-2.06 2.06-.94-2.06-.94-.94-2.06-.94 2.06-2.06.94z\"/><path d=\"M17.41 7.96l-1.37-1.37c-.4-.4-.92-.59-1.43-.59-.52 0-1.04.2-1.43.59L10.3 9.45l-7.72 7.72c-.78.78-.78 2.05 0 2.83L4 21.41c.39.39.9.59 1.41.59.51 0 1.02-.2 1.41-.59l7.78-7.78 2.81-2.81c.8-.78.8-2.07 0-2.86zM5.41 20L4 18.59l7.72-7.72 1.47 1.35L5.41 20z\"/>\n",
              "  </svg>\n",
              "      </button>\n",
              "      \n",
              "  <style>\n",
              "    .colab-df-container {\n",
              "      display:flex;\n",
              "      flex-wrap:wrap;\n",
              "      gap: 12px;\n",
              "    }\n",
              "\n",
              "    .colab-df-convert {\n",
              "      background-color: #E8F0FE;\n",
              "      border: none;\n",
              "      border-radius: 50%;\n",
              "      cursor: pointer;\n",
              "      display: none;\n",
              "      fill: #1967D2;\n",
              "      height: 32px;\n",
              "      padding: 0 0 0 0;\n",
              "      width: 32px;\n",
              "    }\n",
              "\n",
              "    .colab-df-convert:hover {\n",
              "      background-color: #E2EBFA;\n",
              "      box-shadow: 0px 1px 2px rgba(60, 64, 67, 0.3), 0px 1px 3px 1px rgba(60, 64, 67, 0.15);\n",
              "      fill: #174EA6;\n",
              "    }\n",
              "\n",
              "    [theme=dark] .colab-df-convert {\n",
              "      background-color: #3B4455;\n",
              "      fill: #D2E3FC;\n",
              "    }\n",
              "\n",
              "    [theme=dark] .colab-df-convert:hover {\n",
              "      background-color: #434B5C;\n",
              "      box-shadow: 0px 1px 3px 1px rgba(0, 0, 0, 0.15);\n",
              "      filter: drop-shadow(0px 1px 2px rgba(0, 0, 0, 0.3));\n",
              "      fill: #FFFFFF;\n",
              "    }\n",
              "  </style>\n",
              "\n",
              "      <script>\n",
              "        const buttonEl =\n",
              "          document.querySelector('#df-87b63461-806b-491b-9fb2-fc2204893b0f button.colab-df-convert');\n",
              "        buttonEl.style.display =\n",
              "          google.colab.kernel.accessAllowed ? 'block' : 'none';\n",
              "\n",
              "        async function convertToInteractive(key) {\n",
              "          const element = document.querySelector('#df-87b63461-806b-491b-9fb2-fc2204893b0f');\n",
              "          const dataTable =\n",
              "            await google.colab.kernel.invokeFunction('convertToInteractive',\n",
              "                                                     [key], {});\n",
              "          if (!dataTable) return;\n",
              "\n",
              "          const docLinkHtml = 'Like what you see? Visit the ' +\n",
              "            '<a target=\"_blank\" href=https://colab.research.google.com/notebooks/data_table.ipynb>data table notebook</a>'\n",
              "            + ' to learn more about interactive tables.';\n",
              "          element.innerHTML = '';\n",
              "          dataTable['output_type'] = 'display_data';\n",
              "          await google.colab.output.renderOutput(dataTable, element);\n",
              "          const docLink = document.createElement('div');\n",
              "          docLink.innerHTML = docLinkHtml;\n",
              "          element.appendChild(docLink);\n",
              "        }\n",
              "      </script>\n",
              "    </div>\n",
              "  </div>\n",
              "  "
            ]
          },
          "metadata": {},
          "execution_count": 17
        }
      ],
      "source": [
        "pts.head(3)"
      ]
    },
    {
      "cell_type": "code",
      "execution_count": 20,
      "metadata": {
        "iooxa": {
          "id": {
            "block": "3TBoCJrLMKA7WHfBZeCw",
            "project": "mmReuqVTAa9JzPpNr22I",
            "version": 2
          },
          "outputId": {
            "block": "fnFVhFuFev20Ibcv5SjU",
            "project": "mmReuqVTAa9JzPpNr22I",
            "version": 1
          }
        },
        "colab": {
          "base_uri": "https://localhost:8080/",
          "height": 358
        },
        "id": "nDv0dZdAdUNZ",
        "outputId": "4fa9bdfb-d0cb-4710-eaf7-ba823d061e36"
      },
      "outputs": [
        {
          "output_type": "execute_result",
          "data": {
            "text/plain": [
              "                  Date             Time    Timestamp  depth_m speed_mps  \\\n",
              "0           yyyy-mm-dd     hh:mm:ss.sss         days        m       m/s   \n",
              "1  2020-12-11 00:00:00  00:26:44.800000  44176.39357 -6.32025       NaN   \n",
              "2  2020-12-11 00:00:00         00:26:45  44176.39358 -6.32025       NaN   \n",
              "\n",
              "  cweight_kg  whp_barg  temp_degC pressure_bara frequency_hz  ... SGS Voltage  \\\n",
              "0         kg      barg         ∞C          bara           Hz  ...           V   \n",
              "1  24.957275 -0.607066  19.702093      0.498792    40.648876  ...           0   \n",
              "2  25.211151 -0.606777   19.68925      0.485864    41.483227  ...           0   \n",
              "\n",
              "  Internal Temp 1 Internal Temp 2 Internal Temp 3 Cal Temp Error Code 1  \\\n",
              "0              ∞C              ∞C              ∞C       ∞C        Count   \n",
              "1       24.999414       24.999414         21.8269        0            0   \n",
              "2       24.999414       24.999414         21.8269        0            0   \n",
              "\n",
              "  Error Code 2 Error Code 3 Records Saved Bad Pages  \n",
              "0        Count        Count         Count     Count  \n",
              "1            0            0       7948034         0  \n",
              "2            0            0       7948034         0  \n",
              "\n",
              "[3 rows x 26 columns]"
            ],
            "text/html": [
              "\n",
              "  <div id=\"df-817c5818-4df4-4e88-b73e-b859feafd74c\">\n",
              "    <div class=\"colab-df-container\">\n",
              "      <div>\n",
              "<style scoped>\n",
              "    .dataframe tbody tr th:only-of-type {\n",
              "        vertical-align: middle;\n",
              "    }\n",
              "\n",
              "    .dataframe tbody tr th {\n",
              "        vertical-align: top;\n",
              "    }\n",
              "\n",
              "    .dataframe thead th {\n",
              "        text-align: right;\n",
              "    }\n",
              "</style>\n",
              "<table border=\"1\" class=\"dataframe\">\n",
              "  <thead>\n",
              "    <tr style=\"text-align: right;\">\n",
              "      <th></th>\n",
              "      <th>Date</th>\n",
              "      <th>Time</th>\n",
              "      <th>Timestamp</th>\n",
              "      <th>depth_m</th>\n",
              "      <th>speed_mps</th>\n",
              "      <th>cweight_kg</th>\n",
              "      <th>whp_barg</th>\n",
              "      <th>temp_degC</th>\n",
              "      <th>pressure_bara</th>\n",
              "      <th>frequency_hz</th>\n",
              "      <th>...</th>\n",
              "      <th>SGS Voltage</th>\n",
              "      <th>Internal Temp 1</th>\n",
              "      <th>Internal Temp 2</th>\n",
              "      <th>Internal Temp 3</th>\n",
              "      <th>Cal Temp</th>\n",
              "      <th>Error Code 1</th>\n",
              "      <th>Error Code 2</th>\n",
              "      <th>Error Code 3</th>\n",
              "      <th>Records Saved</th>\n",
              "      <th>Bad Pages</th>\n",
              "    </tr>\n",
              "  </thead>\n",
              "  <tbody>\n",
              "    <tr>\n",
              "      <th>0</th>\n",
              "      <td>yyyy-mm-dd</td>\n",
              "      <td>hh:mm:ss.sss</td>\n",
              "      <td>days</td>\n",
              "      <td>m</td>\n",
              "      <td>m/s</td>\n",
              "      <td>kg</td>\n",
              "      <td>barg</td>\n",
              "      <td>∞C</td>\n",
              "      <td>bara</td>\n",
              "      <td>Hz</td>\n",
              "      <td>...</td>\n",
              "      <td>V</td>\n",
              "      <td>∞C</td>\n",
              "      <td>∞C</td>\n",
              "      <td>∞C</td>\n",
              "      <td>∞C</td>\n",
              "      <td>Count</td>\n",
              "      <td>Count</td>\n",
              "      <td>Count</td>\n",
              "      <td>Count</td>\n",
              "      <td>Count</td>\n",
              "    </tr>\n",
              "    <tr>\n",
              "      <th>1</th>\n",
              "      <td>2020-12-11 00:00:00</td>\n",
              "      <td>00:26:44.800000</td>\n",
              "      <td>44176.39357</td>\n",
              "      <td>-6.32025</td>\n",
              "      <td>NaN</td>\n",
              "      <td>24.957275</td>\n",
              "      <td>-0.607066</td>\n",
              "      <td>19.702093</td>\n",
              "      <td>0.498792</td>\n",
              "      <td>40.648876</td>\n",
              "      <td>...</td>\n",
              "      <td>0</td>\n",
              "      <td>24.999414</td>\n",
              "      <td>24.999414</td>\n",
              "      <td>21.8269</td>\n",
              "      <td>0</td>\n",
              "      <td>0</td>\n",
              "      <td>0</td>\n",
              "      <td>0</td>\n",
              "      <td>7948034</td>\n",
              "      <td>0</td>\n",
              "    </tr>\n",
              "    <tr>\n",
              "      <th>2</th>\n",
              "      <td>2020-12-11 00:00:00</td>\n",
              "      <td>00:26:45</td>\n",
              "      <td>44176.39358</td>\n",
              "      <td>-6.32025</td>\n",
              "      <td>NaN</td>\n",
              "      <td>25.211151</td>\n",
              "      <td>-0.606777</td>\n",
              "      <td>19.68925</td>\n",
              "      <td>0.485864</td>\n",
              "      <td>41.483227</td>\n",
              "      <td>...</td>\n",
              "      <td>0</td>\n",
              "      <td>24.999414</td>\n",
              "      <td>24.999414</td>\n",
              "      <td>21.8269</td>\n",
              "      <td>0</td>\n",
              "      <td>0</td>\n",
              "      <td>0</td>\n",
              "      <td>0</td>\n",
              "      <td>7948034</td>\n",
              "      <td>0</td>\n",
              "    </tr>\n",
              "  </tbody>\n",
              "</table>\n",
              "<p>3 rows × 26 columns</p>\n",
              "</div>\n",
              "      <button class=\"colab-df-convert\" onclick=\"convertToInteractive('df-817c5818-4df4-4e88-b73e-b859feafd74c')\"\n",
              "              title=\"Convert this dataframe to an interactive table.\"\n",
              "              style=\"display:none;\">\n",
              "        \n",
              "  <svg xmlns=\"http://www.w3.org/2000/svg\" height=\"24px\"viewBox=\"0 0 24 24\"\n",
              "       width=\"24px\">\n",
              "    <path d=\"M0 0h24v24H0V0z\" fill=\"none\"/>\n",
              "    <path d=\"M18.56 5.44l.94 2.06.94-2.06 2.06-.94-2.06-.94-.94-2.06-.94 2.06-2.06.94zm-11 1L8.5 8.5l.94-2.06 2.06-.94-2.06-.94L8.5 2.5l-.94 2.06-2.06.94zm10 10l.94 2.06.94-2.06 2.06-.94-2.06-.94-.94-2.06-.94 2.06-2.06.94z\"/><path d=\"M17.41 7.96l-1.37-1.37c-.4-.4-.92-.59-1.43-.59-.52 0-1.04.2-1.43.59L10.3 9.45l-7.72 7.72c-.78.78-.78 2.05 0 2.83L4 21.41c.39.39.9.59 1.41.59.51 0 1.02-.2 1.41-.59l7.78-7.78 2.81-2.81c.8-.78.8-2.07 0-2.86zM5.41 20L4 18.59l7.72-7.72 1.47 1.35L5.41 20z\"/>\n",
              "  </svg>\n",
              "      </button>\n",
              "      \n",
              "  <style>\n",
              "    .colab-df-container {\n",
              "      display:flex;\n",
              "      flex-wrap:wrap;\n",
              "      gap: 12px;\n",
              "    }\n",
              "\n",
              "    .colab-df-convert {\n",
              "      background-color: #E8F0FE;\n",
              "      border: none;\n",
              "      border-radius: 50%;\n",
              "      cursor: pointer;\n",
              "      display: none;\n",
              "      fill: #1967D2;\n",
              "      height: 32px;\n",
              "      padding: 0 0 0 0;\n",
              "      width: 32px;\n",
              "    }\n",
              "\n",
              "    .colab-df-convert:hover {\n",
              "      background-color: #E2EBFA;\n",
              "      box-shadow: 0px 1px 2px rgba(60, 64, 67, 0.3), 0px 1px 3px 1px rgba(60, 64, 67, 0.15);\n",
              "      fill: #174EA6;\n",
              "    }\n",
              "\n",
              "    [theme=dark] .colab-df-convert {\n",
              "      background-color: #3B4455;\n",
              "      fill: #D2E3FC;\n",
              "    }\n",
              "\n",
              "    [theme=dark] .colab-df-convert:hover {\n",
              "      background-color: #434B5C;\n",
              "      box-shadow: 0px 1px 3px 1px rgba(0, 0, 0, 0.15);\n",
              "      filter: drop-shadow(0px 1px 2px rgba(0, 0, 0, 0.3));\n",
              "      fill: #FFFFFF;\n",
              "    }\n",
              "  </style>\n",
              "\n",
              "      <script>\n",
              "        const buttonEl =\n",
              "          document.querySelector('#df-817c5818-4df4-4e88-b73e-b859feafd74c button.colab-df-convert');\n",
              "        buttonEl.style.display =\n",
              "          google.colab.kernel.accessAllowed ? 'block' : 'none';\n",
              "\n",
              "        async function convertToInteractive(key) {\n",
              "          const element = document.querySelector('#df-817c5818-4df4-4e88-b73e-b859feafd74c');\n",
              "          const dataTable =\n",
              "            await google.colab.kernel.invokeFunction('convertToInteractive',\n",
              "                                                     [key], {});\n",
              "          if (!dataTable) return;\n",
              "\n",
              "          const docLinkHtml = 'Like what you see? Visit the ' +\n",
              "            '<a target=\"_blank\" href=https://colab.research.google.com/notebooks/data_table.ipynb>data table notebook</a>'\n",
              "            + ' to learn more about interactive tables.';\n",
              "          element.innerHTML = '';\n",
              "          dataTable['output_type'] = 'display_data';\n",
              "          await google.colab.output.renderOutput(dataTable, element);\n",
              "          const docLink = document.createElement('div');\n",
              "          docLink.innerHTML = docLinkHtml;\n",
              "          element.appendChild(docLink);\n",
              "        }\n",
              "      </script>\n",
              "    </div>\n",
              "  </div>\n",
              "  "
            ]
          },
          "metadata": {},
          "execution_count": 20
        }
      ],
      "source": [
        "# dictionary method for renaming some columns\n",
        "dict = {\n",
        "    'DEPTH':'depth_m',\n",
        "    'SPEED': 'speed_mps',\n",
        "    'Cable Weight': 'cweight_kg',\n",
        "    'WHP': 'whp_barg',\n",
        "    'Temperature': 'temp_degC',\n",
        "    'Pressure': 'pressure_bara',\n",
        "    'Frequency': 'frequency_hz'\n",
        "}\n",
        "\n",
        "pts.rename(columns=dict, inplace=True)\n",
        "\n",
        "pts.head(3)"
      ]
    },
    {
      "cell_type": "markdown",
      "metadata": {
        "iooxa": {
          "id": {
            "block": "NVriHzL7wjFkFtjeke5c",
            "project": "mmReuqVTAa9JzPpNr22I",
            "version": 1
          }
        },
        "id": "7Cne0nowdUNa"
      },
      "source": [
        "### 2.2.3 Drop units row\n",
        "\n",
        "Note that we are using the index value to drop the row of units and then we remake the index. Therefore, if we run this cell over and over, it will keep dropping the first row of data. \n",
        "\n",
        "If you are unsure what state your dataframe is in or how many times you have run the cell below, it is useful to run the process from the start again (i.e., go back to step _2.1.1 Import pts data using Pandas_ and work down from there). "
      ]
    },
    {
      "cell_type": "code",
      "execution_count": 21,
      "metadata": {
        "iooxa": {
          "id": {
            "block": "y0gzm2QBEHr5yGDvnNO0",
            "project": "mmReuqVTAa9JzPpNr22I",
            "version": 1
          },
          "outputId": null
        },
        "id": "VX47LlPddUNb"
      },
      "outputs": [],
      "source": [
        "# drop units row using the index value of that row\n",
        "pts.drop(0, inplace=True)\n",
        "\n",
        "# re-index the dataframe\n",
        "pts.reset_index(drop=True, inplace=True)\n",
        "\n",
        "# WARNING if you run this cell again, it will drop the first line of data"
      ]
    },
    {
      "cell_type": "code",
      "execution_count": 22,
      "metadata": {
        "iooxa": {
          "id": {
            "block": "8sp0DJpYqDxS3LcIJZW6",
            "project": "mmReuqVTAa9JzPpNr22I",
            "version": 2
          },
          "outputId": {
            "block": "fbtwJRhlyDRYz3z1OwD9",
            "project": "mmReuqVTAa9JzPpNr22I",
            "version": 1
          }
        },
        "colab": {
          "base_uri": "https://localhost:8080/",
          "height": 310
        },
        "id": "zC5uWIfydUNb",
        "outputId": "a6fd225c-3dec-4a62-ded3-fe2e362ca08d"
      },
      "outputs": [
        {
          "output_type": "execute_result",
          "data": {
            "text/plain": [
              "                  Date             Time    Timestamp  depth_m speed_mps  \\\n",
              "0  2020-12-11 00:00:00  00:26:44.800000  44176.39357 -6.32025       NaN   \n",
              "1  2020-12-11 00:00:00         00:26:45  44176.39358 -6.32025       NaN   \n",
              "\n",
              "  cweight_kg  whp_barg  temp_degC pressure_bara frequency_hz  ... SGS Voltage  \\\n",
              "0  24.957275 -0.607066  19.702093      0.498792    40.648876  ...           0   \n",
              "1  25.211151 -0.606777   19.68925      0.485864    41.483227  ...           0   \n",
              "\n",
              "  Internal Temp 1 Internal Temp 2 Internal Temp 3 Cal Temp Error Code 1  \\\n",
              "0       24.999414       24.999414         21.8269        0            0   \n",
              "1       24.999414       24.999414         21.8269        0            0   \n",
              "\n",
              "  Error Code 2 Error Code 3 Records Saved Bad Pages  \n",
              "0            0            0       7948034         0  \n",
              "1            0            0       7948034         0  \n",
              "\n",
              "[2 rows x 26 columns]"
            ],
            "text/html": [
              "\n",
              "  <div id=\"df-e4dfac89-b9f5-411a-800a-f530b19419e9\">\n",
              "    <div class=\"colab-df-container\">\n",
              "      <div>\n",
              "<style scoped>\n",
              "    .dataframe tbody tr th:only-of-type {\n",
              "        vertical-align: middle;\n",
              "    }\n",
              "\n",
              "    .dataframe tbody tr th {\n",
              "        vertical-align: top;\n",
              "    }\n",
              "\n",
              "    .dataframe thead th {\n",
              "        text-align: right;\n",
              "    }\n",
              "</style>\n",
              "<table border=\"1\" class=\"dataframe\">\n",
              "  <thead>\n",
              "    <tr style=\"text-align: right;\">\n",
              "      <th></th>\n",
              "      <th>Date</th>\n",
              "      <th>Time</th>\n",
              "      <th>Timestamp</th>\n",
              "      <th>depth_m</th>\n",
              "      <th>speed_mps</th>\n",
              "      <th>cweight_kg</th>\n",
              "      <th>whp_barg</th>\n",
              "      <th>temp_degC</th>\n",
              "      <th>pressure_bara</th>\n",
              "      <th>frequency_hz</th>\n",
              "      <th>...</th>\n",
              "      <th>SGS Voltage</th>\n",
              "      <th>Internal Temp 1</th>\n",
              "      <th>Internal Temp 2</th>\n",
              "      <th>Internal Temp 3</th>\n",
              "      <th>Cal Temp</th>\n",
              "      <th>Error Code 1</th>\n",
              "      <th>Error Code 2</th>\n",
              "      <th>Error Code 3</th>\n",
              "      <th>Records Saved</th>\n",
              "      <th>Bad Pages</th>\n",
              "    </tr>\n",
              "  </thead>\n",
              "  <tbody>\n",
              "    <tr>\n",
              "      <th>0</th>\n",
              "      <td>2020-12-11 00:00:00</td>\n",
              "      <td>00:26:44.800000</td>\n",
              "      <td>44176.39357</td>\n",
              "      <td>-6.32025</td>\n",
              "      <td>NaN</td>\n",
              "      <td>24.957275</td>\n",
              "      <td>-0.607066</td>\n",
              "      <td>19.702093</td>\n",
              "      <td>0.498792</td>\n",
              "      <td>40.648876</td>\n",
              "      <td>...</td>\n",
              "      <td>0</td>\n",
              "      <td>24.999414</td>\n",
              "      <td>24.999414</td>\n",
              "      <td>21.8269</td>\n",
              "      <td>0</td>\n",
              "      <td>0</td>\n",
              "      <td>0</td>\n",
              "      <td>0</td>\n",
              "      <td>7948034</td>\n",
              "      <td>0</td>\n",
              "    </tr>\n",
              "    <tr>\n",
              "      <th>1</th>\n",
              "      <td>2020-12-11 00:00:00</td>\n",
              "      <td>00:26:45</td>\n",
              "      <td>44176.39358</td>\n",
              "      <td>-6.32025</td>\n",
              "      <td>NaN</td>\n",
              "      <td>25.211151</td>\n",
              "      <td>-0.606777</td>\n",
              "      <td>19.68925</td>\n",
              "      <td>0.485864</td>\n",
              "      <td>41.483227</td>\n",
              "      <td>...</td>\n",
              "      <td>0</td>\n",
              "      <td>24.999414</td>\n",
              "      <td>24.999414</td>\n",
              "      <td>21.8269</td>\n",
              "      <td>0</td>\n",
              "      <td>0</td>\n",
              "      <td>0</td>\n",
              "      <td>0</td>\n",
              "      <td>7948034</td>\n",
              "      <td>0</td>\n",
              "    </tr>\n",
              "  </tbody>\n",
              "</table>\n",
              "<p>2 rows × 26 columns</p>\n",
              "</div>\n",
              "      <button class=\"colab-df-convert\" onclick=\"convertToInteractive('df-e4dfac89-b9f5-411a-800a-f530b19419e9')\"\n",
              "              title=\"Convert this dataframe to an interactive table.\"\n",
              "              style=\"display:none;\">\n",
              "        \n",
              "  <svg xmlns=\"http://www.w3.org/2000/svg\" height=\"24px\"viewBox=\"0 0 24 24\"\n",
              "       width=\"24px\">\n",
              "    <path d=\"M0 0h24v24H0V0z\" fill=\"none\"/>\n",
              "    <path d=\"M18.56 5.44l.94 2.06.94-2.06 2.06-.94-2.06-.94-.94-2.06-.94 2.06-2.06.94zm-11 1L8.5 8.5l.94-2.06 2.06-.94-2.06-.94L8.5 2.5l-.94 2.06-2.06.94zm10 10l.94 2.06.94-2.06 2.06-.94-2.06-.94-.94-2.06-.94 2.06-2.06.94z\"/><path d=\"M17.41 7.96l-1.37-1.37c-.4-.4-.92-.59-1.43-.59-.52 0-1.04.2-1.43.59L10.3 9.45l-7.72 7.72c-.78.78-.78 2.05 0 2.83L4 21.41c.39.39.9.59 1.41.59.51 0 1.02-.2 1.41-.59l7.78-7.78 2.81-2.81c.8-.78.8-2.07 0-2.86zM5.41 20L4 18.59l7.72-7.72 1.47 1.35L5.41 20z\"/>\n",
              "  </svg>\n",
              "      </button>\n",
              "      \n",
              "  <style>\n",
              "    .colab-df-container {\n",
              "      display:flex;\n",
              "      flex-wrap:wrap;\n",
              "      gap: 12px;\n",
              "    }\n",
              "\n",
              "    .colab-df-convert {\n",
              "      background-color: #E8F0FE;\n",
              "      border: none;\n",
              "      border-radius: 50%;\n",
              "      cursor: pointer;\n",
              "      display: none;\n",
              "      fill: #1967D2;\n",
              "      height: 32px;\n",
              "      padding: 0 0 0 0;\n",
              "      width: 32px;\n",
              "    }\n",
              "\n",
              "    .colab-df-convert:hover {\n",
              "      background-color: #E2EBFA;\n",
              "      box-shadow: 0px 1px 2px rgba(60, 64, 67, 0.3), 0px 1px 3px 1px rgba(60, 64, 67, 0.15);\n",
              "      fill: #174EA6;\n",
              "    }\n",
              "\n",
              "    [theme=dark] .colab-df-convert {\n",
              "      background-color: #3B4455;\n",
              "      fill: #D2E3FC;\n",
              "    }\n",
              "\n",
              "    [theme=dark] .colab-df-convert:hover {\n",
              "      background-color: #434B5C;\n",
              "      box-shadow: 0px 1px 3px 1px rgba(0, 0, 0, 0.15);\n",
              "      filter: drop-shadow(0px 1px 2px rgba(0, 0, 0, 0.3));\n",
              "      fill: #FFFFFF;\n",
              "    }\n",
              "  </style>\n",
              "\n",
              "      <script>\n",
              "        const buttonEl =\n",
              "          document.querySelector('#df-e4dfac89-b9f5-411a-800a-f530b19419e9 button.colab-df-convert');\n",
              "        buttonEl.style.display =\n",
              "          google.colab.kernel.accessAllowed ? 'block' : 'none';\n",
              "\n",
              "        async function convertToInteractive(key) {\n",
              "          const element = document.querySelector('#df-e4dfac89-b9f5-411a-800a-f530b19419e9');\n",
              "          const dataTable =\n",
              "            await google.colab.kernel.invokeFunction('convertToInteractive',\n",
              "                                                     [key], {});\n",
              "          if (!dataTable) return;\n",
              "\n",
              "          const docLinkHtml = 'Like what you see? Visit the ' +\n",
              "            '<a target=\"_blank\" href=https://colab.research.google.com/notebooks/data_table.ipynb>data table notebook</a>'\n",
              "            + ' to learn more about interactive tables.';\n",
              "          element.innerHTML = '';\n",
              "          dataTable['output_type'] = 'display_data';\n",
              "          await google.colab.output.renderOutput(dataTable, element);\n",
              "          const docLink = document.createElement('div');\n",
              "          docLink.innerHTML = docLinkHtml;\n",
              "          element.appendChild(docLink);\n",
              "        }\n",
              "      </script>\n",
              "    </div>\n",
              "  </div>\n",
              "  "
            ]
          },
          "metadata": {},
          "execution_count": 22
        }
      ],
      "source": [
        "pts.head(2)"
      ]
    },
    {
      "cell_type": "code",
      "execution_count": 23,
      "metadata": {
        "iooxa": {
          "id": {
            "block": "nW1vhrhloQP4Yoi0ArA4",
            "project": "mmReuqVTAa9JzPpNr22I",
            "version": 2
          },
          "outputId": {
            "block": "omH3UpRjD6TndRrUDrk3",
            "project": "mmReuqVTAa9JzPpNr22I",
            "version": 1
          }
        },
        "colab": {
          "base_uri": "https://localhost:8080/"
        },
        "id": "ZxcgfbJPdUNd",
        "outputId": "5bdec2b0-3b06-462a-d757-f6b3fd70bb0e"
      },
      "outputs": [
        {
          "output_type": "stream",
          "name": "stdout",
          "text": [
            "This workbook is using the 1900 date system.\n"
          ]
        }
      ],
      "source": [
        "\n",
        "wb = openpyxl.load_workbook(filename=r'Data-PTS.xlsx')\n",
        "\n",
        "if wb.epoch == openpyxl.utils.datetime.CALENDAR_WINDOWS_1900: \n",
        "    print(\"This workbook is using the 1900 date system.\")\n",
        "if wb.epoch == openpyxl.utils.datetime.CALENDAR_MAC_1904: \n",
        "    print(\"This workbook is using the 1904 date system.\")\n"
      ]
    },
    {
      "cell_type": "code",
      "execution_count": 24,
      "metadata": {
        "iooxa": {
          "id": {
            "block": "YClw7gmigjTCS9W0DmDF",
            "project": "mmReuqVTAa9JzPpNr22I",
            "version": 1
          },
          "outputId": null
        },
        "id": "ULOUI3xtdUNe"
      },
      "outputs": [],
      "source": [
        "list = []\n",
        "for date in pts.Timestamp:\n",
        "    newdate = openpyxl.utils.datetime.from_excel(date)\n",
        "    list.append(newdate)\n",
        "pts['datetime'] = list"
      ]
    },
    {
      "cell_type": "code",
      "execution_count": 25,
      "metadata": {
        "iooxa": {
          "id": {
            "block": "rIKpo6SSbQw1qs8n1QBa",
            "project": "mmReuqVTAa9JzPpNr22I",
            "version": 2
          },
          "outputId": {
            "block": "z0ESi4Y3Ixl714DzupuK",
            "project": "mmReuqVTAa9JzPpNr22I",
            "version": 1
          }
        },
        "colab": {
          "base_uri": "https://localhost:8080/",
          "height": 376
        },
        "id": "hXG6mkkudUNf",
        "outputId": "b08ab0ca-a38d-4adb-b937-102e6e55f5a3"
      },
      "outputs": [
        {
          "output_type": "execute_result",
          "data": {
            "text/plain": [
              "                  Date             Time    Timestamp  depth_m speed_mps  \\\n",
              "0  2020-12-11 00:00:00  00:26:44.800000  44176.39357 -6.32025       NaN   \n",
              "1  2020-12-11 00:00:00         00:26:45  44176.39358 -6.32025       NaN   \n",
              "2  2020-12-11 00:00:00  00:26:45.200000  44176.39358 -6.32025       NaN   \n",
              "\n",
              "  cweight_kg  whp_barg  temp_degC pressure_bara frequency_hz  ...  \\\n",
              "0  24.957275 -0.607066  19.702093      0.498792    40.648876  ...   \n",
              "1  25.211151 -0.606777   19.68925      0.485864    41.483227  ...   \n",
              "2  24.981985 -0.606582   19.69439      0.475091     42.96333  ...   \n",
              "\n",
              "  Internal Temp 1 Internal Temp 2 Internal Temp 3 Cal Temp Error Code 1  \\\n",
              "0       24.999414       24.999414         21.8269        0            0   \n",
              "1       24.999414       24.999414         21.8269        0            0   \n",
              "2       24.999414       24.999414         21.8269        0            0   \n",
              "\n",
              "  Error Code 2 Error Code 3 Records Saved Bad Pages                datetime  \n",
              "0            0            0       7948034         0 2020-12-11 09:26:44.448  \n",
              "1            0            0       7948034         0 2020-12-11 09:26:45.312  \n",
              "2            0            0       7948034         0 2020-12-11 09:26:45.312  \n",
              "\n",
              "[3 rows x 27 columns]"
            ],
            "text/html": [
              "\n",
              "  <div id=\"df-b34578cb-9b85-42f2-ba8f-6ca812312b3e\">\n",
              "    <div class=\"colab-df-container\">\n",
              "      <div>\n",
              "<style scoped>\n",
              "    .dataframe tbody tr th:only-of-type {\n",
              "        vertical-align: middle;\n",
              "    }\n",
              "\n",
              "    .dataframe tbody tr th {\n",
              "        vertical-align: top;\n",
              "    }\n",
              "\n",
              "    .dataframe thead th {\n",
              "        text-align: right;\n",
              "    }\n",
              "</style>\n",
              "<table border=\"1\" class=\"dataframe\">\n",
              "  <thead>\n",
              "    <tr style=\"text-align: right;\">\n",
              "      <th></th>\n",
              "      <th>Date</th>\n",
              "      <th>Time</th>\n",
              "      <th>Timestamp</th>\n",
              "      <th>depth_m</th>\n",
              "      <th>speed_mps</th>\n",
              "      <th>cweight_kg</th>\n",
              "      <th>whp_barg</th>\n",
              "      <th>temp_degC</th>\n",
              "      <th>pressure_bara</th>\n",
              "      <th>frequency_hz</th>\n",
              "      <th>...</th>\n",
              "      <th>Internal Temp 1</th>\n",
              "      <th>Internal Temp 2</th>\n",
              "      <th>Internal Temp 3</th>\n",
              "      <th>Cal Temp</th>\n",
              "      <th>Error Code 1</th>\n",
              "      <th>Error Code 2</th>\n",
              "      <th>Error Code 3</th>\n",
              "      <th>Records Saved</th>\n",
              "      <th>Bad Pages</th>\n",
              "      <th>datetime</th>\n",
              "    </tr>\n",
              "  </thead>\n",
              "  <tbody>\n",
              "    <tr>\n",
              "      <th>0</th>\n",
              "      <td>2020-12-11 00:00:00</td>\n",
              "      <td>00:26:44.800000</td>\n",
              "      <td>44176.39357</td>\n",
              "      <td>-6.32025</td>\n",
              "      <td>NaN</td>\n",
              "      <td>24.957275</td>\n",
              "      <td>-0.607066</td>\n",
              "      <td>19.702093</td>\n",
              "      <td>0.498792</td>\n",
              "      <td>40.648876</td>\n",
              "      <td>...</td>\n",
              "      <td>24.999414</td>\n",
              "      <td>24.999414</td>\n",
              "      <td>21.8269</td>\n",
              "      <td>0</td>\n",
              "      <td>0</td>\n",
              "      <td>0</td>\n",
              "      <td>0</td>\n",
              "      <td>7948034</td>\n",
              "      <td>0</td>\n",
              "      <td>2020-12-11 09:26:44.448</td>\n",
              "    </tr>\n",
              "    <tr>\n",
              "      <th>1</th>\n",
              "      <td>2020-12-11 00:00:00</td>\n",
              "      <td>00:26:45</td>\n",
              "      <td>44176.39358</td>\n",
              "      <td>-6.32025</td>\n",
              "      <td>NaN</td>\n",
              "      <td>25.211151</td>\n",
              "      <td>-0.606777</td>\n",
              "      <td>19.68925</td>\n",
              "      <td>0.485864</td>\n",
              "      <td>41.483227</td>\n",
              "      <td>...</td>\n",
              "      <td>24.999414</td>\n",
              "      <td>24.999414</td>\n",
              "      <td>21.8269</td>\n",
              "      <td>0</td>\n",
              "      <td>0</td>\n",
              "      <td>0</td>\n",
              "      <td>0</td>\n",
              "      <td>7948034</td>\n",
              "      <td>0</td>\n",
              "      <td>2020-12-11 09:26:45.312</td>\n",
              "    </tr>\n",
              "    <tr>\n",
              "      <th>2</th>\n",
              "      <td>2020-12-11 00:00:00</td>\n",
              "      <td>00:26:45.200000</td>\n",
              "      <td>44176.39358</td>\n",
              "      <td>-6.32025</td>\n",
              "      <td>NaN</td>\n",
              "      <td>24.981985</td>\n",
              "      <td>-0.606582</td>\n",
              "      <td>19.69439</td>\n",
              "      <td>0.475091</td>\n",
              "      <td>42.96333</td>\n",
              "      <td>...</td>\n",
              "      <td>24.999414</td>\n",
              "      <td>24.999414</td>\n",
              "      <td>21.8269</td>\n",
              "      <td>0</td>\n",
              "      <td>0</td>\n",
              "      <td>0</td>\n",
              "      <td>0</td>\n",
              "      <td>7948034</td>\n",
              "      <td>0</td>\n",
              "      <td>2020-12-11 09:26:45.312</td>\n",
              "    </tr>\n",
              "  </tbody>\n",
              "</table>\n",
              "<p>3 rows × 27 columns</p>\n",
              "</div>\n",
              "      <button class=\"colab-df-convert\" onclick=\"convertToInteractive('df-b34578cb-9b85-42f2-ba8f-6ca812312b3e')\"\n",
              "              title=\"Convert this dataframe to an interactive table.\"\n",
              "              style=\"display:none;\">\n",
              "        \n",
              "  <svg xmlns=\"http://www.w3.org/2000/svg\" height=\"24px\"viewBox=\"0 0 24 24\"\n",
              "       width=\"24px\">\n",
              "    <path d=\"M0 0h24v24H0V0z\" fill=\"none\"/>\n",
              "    <path d=\"M18.56 5.44l.94 2.06.94-2.06 2.06-.94-2.06-.94-.94-2.06-.94 2.06-2.06.94zm-11 1L8.5 8.5l.94-2.06 2.06-.94-2.06-.94L8.5 2.5l-.94 2.06-2.06.94zm10 10l.94 2.06.94-2.06 2.06-.94-2.06-.94-.94-2.06-.94 2.06-2.06.94z\"/><path d=\"M17.41 7.96l-1.37-1.37c-.4-.4-.92-.59-1.43-.59-.52 0-1.04.2-1.43.59L10.3 9.45l-7.72 7.72c-.78.78-.78 2.05 0 2.83L4 21.41c.39.39.9.59 1.41.59.51 0 1.02-.2 1.41-.59l7.78-7.78 2.81-2.81c.8-.78.8-2.07 0-2.86zM5.41 20L4 18.59l7.72-7.72 1.47 1.35L5.41 20z\"/>\n",
              "  </svg>\n",
              "      </button>\n",
              "      \n",
              "  <style>\n",
              "    .colab-df-container {\n",
              "      display:flex;\n",
              "      flex-wrap:wrap;\n",
              "      gap: 12px;\n",
              "    }\n",
              "\n",
              "    .colab-df-convert {\n",
              "      background-color: #E8F0FE;\n",
              "      border: none;\n",
              "      border-radius: 50%;\n",
              "      cursor: pointer;\n",
              "      display: none;\n",
              "      fill: #1967D2;\n",
              "      height: 32px;\n",
              "      padding: 0 0 0 0;\n",
              "      width: 32px;\n",
              "    }\n",
              "\n",
              "    .colab-df-convert:hover {\n",
              "      background-color: #E2EBFA;\n",
              "      box-shadow: 0px 1px 2px rgba(60, 64, 67, 0.3), 0px 1px 3px 1px rgba(60, 64, 67, 0.15);\n",
              "      fill: #174EA6;\n",
              "    }\n",
              "\n",
              "    [theme=dark] .colab-df-convert {\n",
              "      background-color: #3B4455;\n",
              "      fill: #D2E3FC;\n",
              "    }\n",
              "\n",
              "    [theme=dark] .colab-df-convert:hover {\n",
              "      background-color: #434B5C;\n",
              "      box-shadow: 0px 1px 3px 1px rgba(0, 0, 0, 0.15);\n",
              "      filter: drop-shadow(0px 1px 2px rgba(0, 0, 0, 0.3));\n",
              "      fill: #FFFFFF;\n",
              "    }\n",
              "  </style>\n",
              "\n",
              "      <script>\n",
              "        const buttonEl =\n",
              "          document.querySelector('#df-b34578cb-9b85-42f2-ba8f-6ca812312b3e button.colab-df-convert');\n",
              "        buttonEl.style.display =\n",
              "          google.colab.kernel.accessAllowed ? 'block' : 'none';\n",
              "\n",
              "        async function convertToInteractive(key) {\n",
              "          const element = document.querySelector('#df-b34578cb-9b85-42f2-ba8f-6ca812312b3e');\n",
              "          const dataTable =\n",
              "            await google.colab.kernel.invokeFunction('convertToInteractive',\n",
              "                                                     [key], {});\n",
              "          if (!dataTable) return;\n",
              "\n",
              "          const docLinkHtml = 'Like what you see? Visit the ' +\n",
              "            '<a target=\"_blank\" href=https://colab.research.google.com/notebooks/data_table.ipynb>data table notebook</a>'\n",
              "            + ' to learn more about interactive tables.';\n",
              "          element.innerHTML = '';\n",
              "          dataTable['output_type'] = 'display_data';\n",
              "          await google.colab.output.renderOutput(dataTable, element);\n",
              "          const docLink = document.createElement('div');\n",
              "          docLink.innerHTML = docLinkHtml;\n",
              "          element.appendChild(docLink);\n",
              "        }\n",
              "      </script>\n",
              "    </div>\n",
              "  </div>\n",
              "  "
            ]
          },
          "metadata": {},
          "execution_count": 25
        }
      ],
      "source": [
        "pts.head(3)"
      ]
    },
    {
      "cell_type": "code",
      "execution_count": 26,
      "metadata": {
        "iooxa": {
          "id": {
            "block": "OpPeMqBmsoBWPIfUwl6C",
            "project": "mmReuqVTAa9JzPpNr22I",
            "version": 2
          },
          "outputId": {
            "block": "1Yc5PQ9b6p4bzJPy9op7",
            "project": "mmReuqVTAa9JzPpNr22I",
            "version": 1
          }
        },
        "colab": {
          "base_uri": "https://localhost:8080/"
        },
        "id": "1cQTbLPWdUNg",
        "outputId": "54750c26-2299-47fc-b234-f920cedefbc7"
      },
      "outputs": [
        {
          "output_type": "execute_result",
          "data": {
            "text/plain": [
              "Index(['Date', 'Time', 'Timestamp', 'depth_m', 'speed_mps', 'cweight_kg',\n",
              "       'whp_barg', 'temp_degC', 'pressure_bara', 'frequency_hz', 'Reed 0',\n",
              "       'Reed 1', 'Reed 2', 'Reed 3', 'Battery Voltage', 'PRT Ref Voltage',\n",
              "       'SGS Voltage', 'Internal Temp 1', 'Internal Temp 2', 'Internal Temp 3',\n",
              "       'Cal Temp', 'Error Code 1', 'Error Code 2', 'Error Code 3',\n",
              "       'Records Saved', 'Bad Pages', 'datetime'],\n",
              "      dtype='object')"
            ]
          },
          "metadata": {},
          "execution_count": 26
        }
      ],
      "source": [
        "pts.columns"
      ]
    },
    {
      "cell_type": "code",
      "execution_count": 27,
      "metadata": {
        "iooxa": {
          "id": {
            "block": "WE10NayG3VA9MsIXcf1n",
            "project": "mmReuqVTAa9JzPpNr22I",
            "version": 1
          },
          "outputId": null
        },
        "id": "1zN7fah3dUNg"
      },
      "outputs": [],
      "source": [
        "pts.drop(columns = ['Date', 'Time', 'Timestamp','Reed 0',\n",
        "       'Reed 1', 'Reed 2', 'Reed 3', 'Battery Voltage', \n",
        "       'PRT Ref Voltage','SGS Voltage', 'Internal Temp 1', \n",
        "       'Internal Temp 2', 'Internal Temp 3','Cal Temp', \n",
        "       'Error Code 1', 'Error Code 2', 'Error Code 3',\n",
        "       'Records Saved', 'Bad Pages',], inplace = True)"
      ]
    },
    {
      "cell_type": "code",
      "execution_count": 28,
      "metadata": {
        "iooxa": {
          "id": {
            "block": "KEHcfVKDdWIgeF75xFSy",
            "project": "mmReuqVTAa9JzPpNr22I",
            "version": 2
          },
          "outputId": {
            "block": "8Ji3lJ15kErZLF1sQ1HM",
            "project": "mmReuqVTAa9JzPpNr22I",
            "version": 1
          }
        },
        "colab": {
          "base_uri": "https://localhost:8080/",
          "height": 143
        },
        "id": "Xvc6nzGfdUNh",
        "outputId": "5067fc98-4aff-4c54-d946-0b19293020cf"
      },
      "outputs": [
        {
          "output_type": "execute_result",
          "data": {
            "text/plain": [
              "   depth_m speed_mps cweight_kg  whp_barg  temp_degC pressure_bara  \\\n",
              "0 -6.32025       NaN  24.957275 -0.607066  19.702093      0.498792   \n",
              "1 -6.32025       NaN  25.211151 -0.606777   19.68925      0.485864   \n",
              "2 -6.32025       NaN  24.981985 -0.606582   19.69439      0.475091   \n",
              "\n",
              "  frequency_hz                datetime  \n",
              "0    40.648876 2020-12-11 09:26:44.448  \n",
              "1    41.483227 2020-12-11 09:26:45.312  \n",
              "2     42.96333 2020-12-11 09:26:45.312  "
            ],
            "text/html": [
              "\n",
              "  <div id=\"df-af3edafd-2cbf-4c74-a777-ff7ab4a48dea\">\n",
              "    <div class=\"colab-df-container\">\n",
              "      <div>\n",
              "<style scoped>\n",
              "    .dataframe tbody tr th:only-of-type {\n",
              "        vertical-align: middle;\n",
              "    }\n",
              "\n",
              "    .dataframe tbody tr th {\n",
              "        vertical-align: top;\n",
              "    }\n",
              "\n",
              "    .dataframe thead th {\n",
              "        text-align: right;\n",
              "    }\n",
              "</style>\n",
              "<table border=\"1\" class=\"dataframe\">\n",
              "  <thead>\n",
              "    <tr style=\"text-align: right;\">\n",
              "      <th></th>\n",
              "      <th>depth_m</th>\n",
              "      <th>speed_mps</th>\n",
              "      <th>cweight_kg</th>\n",
              "      <th>whp_barg</th>\n",
              "      <th>temp_degC</th>\n",
              "      <th>pressure_bara</th>\n",
              "      <th>frequency_hz</th>\n",
              "      <th>datetime</th>\n",
              "    </tr>\n",
              "  </thead>\n",
              "  <tbody>\n",
              "    <tr>\n",
              "      <th>0</th>\n",
              "      <td>-6.32025</td>\n",
              "      <td>NaN</td>\n",
              "      <td>24.957275</td>\n",
              "      <td>-0.607066</td>\n",
              "      <td>19.702093</td>\n",
              "      <td>0.498792</td>\n",
              "      <td>40.648876</td>\n",
              "      <td>2020-12-11 09:26:44.448</td>\n",
              "    </tr>\n",
              "    <tr>\n",
              "      <th>1</th>\n",
              "      <td>-6.32025</td>\n",
              "      <td>NaN</td>\n",
              "      <td>25.211151</td>\n",
              "      <td>-0.606777</td>\n",
              "      <td>19.68925</td>\n",
              "      <td>0.485864</td>\n",
              "      <td>41.483227</td>\n",
              "      <td>2020-12-11 09:26:45.312</td>\n",
              "    </tr>\n",
              "    <tr>\n",
              "      <th>2</th>\n",
              "      <td>-6.32025</td>\n",
              "      <td>NaN</td>\n",
              "      <td>24.981985</td>\n",
              "      <td>-0.606582</td>\n",
              "      <td>19.69439</td>\n",
              "      <td>0.475091</td>\n",
              "      <td>42.96333</td>\n",
              "      <td>2020-12-11 09:26:45.312</td>\n",
              "    </tr>\n",
              "  </tbody>\n",
              "</table>\n",
              "</div>\n",
              "      <button class=\"colab-df-convert\" onclick=\"convertToInteractive('df-af3edafd-2cbf-4c74-a777-ff7ab4a48dea')\"\n",
              "              title=\"Convert this dataframe to an interactive table.\"\n",
              "              style=\"display:none;\">\n",
              "        \n",
              "  <svg xmlns=\"http://www.w3.org/2000/svg\" height=\"24px\"viewBox=\"0 0 24 24\"\n",
              "       width=\"24px\">\n",
              "    <path d=\"M0 0h24v24H0V0z\" fill=\"none\"/>\n",
              "    <path d=\"M18.56 5.44l.94 2.06.94-2.06 2.06-.94-2.06-.94-.94-2.06-.94 2.06-2.06.94zm-11 1L8.5 8.5l.94-2.06 2.06-.94-2.06-.94L8.5 2.5l-.94 2.06-2.06.94zm10 10l.94 2.06.94-2.06 2.06-.94-2.06-.94-.94-2.06-.94 2.06-2.06.94z\"/><path d=\"M17.41 7.96l-1.37-1.37c-.4-.4-.92-.59-1.43-.59-.52 0-1.04.2-1.43.59L10.3 9.45l-7.72 7.72c-.78.78-.78 2.05 0 2.83L4 21.41c.39.39.9.59 1.41.59.51 0 1.02-.2 1.41-.59l7.78-7.78 2.81-2.81c.8-.78.8-2.07 0-2.86zM5.41 20L4 18.59l7.72-7.72 1.47 1.35L5.41 20z\"/>\n",
              "  </svg>\n",
              "      </button>\n",
              "      \n",
              "  <style>\n",
              "    .colab-df-container {\n",
              "      display:flex;\n",
              "      flex-wrap:wrap;\n",
              "      gap: 12px;\n",
              "    }\n",
              "\n",
              "    .colab-df-convert {\n",
              "      background-color: #E8F0FE;\n",
              "      border: none;\n",
              "      border-radius: 50%;\n",
              "      cursor: pointer;\n",
              "      display: none;\n",
              "      fill: #1967D2;\n",
              "      height: 32px;\n",
              "      padding: 0 0 0 0;\n",
              "      width: 32px;\n",
              "    }\n",
              "\n",
              "    .colab-df-convert:hover {\n",
              "      background-color: #E2EBFA;\n",
              "      box-shadow: 0px 1px 2px rgba(60, 64, 67, 0.3), 0px 1px 3px 1px rgba(60, 64, 67, 0.15);\n",
              "      fill: #174EA6;\n",
              "    }\n",
              "\n",
              "    [theme=dark] .colab-df-convert {\n",
              "      background-color: #3B4455;\n",
              "      fill: #D2E3FC;\n",
              "    }\n",
              "\n",
              "    [theme=dark] .colab-df-convert:hover {\n",
              "      background-color: #434B5C;\n",
              "      box-shadow: 0px 1px 3px 1px rgba(0, 0, 0, 0.15);\n",
              "      filter: drop-shadow(0px 1px 2px rgba(0, 0, 0, 0.3));\n",
              "      fill: #FFFFFF;\n",
              "    }\n",
              "  </style>\n",
              "\n",
              "      <script>\n",
              "        const buttonEl =\n",
              "          document.querySelector('#df-af3edafd-2cbf-4c74-a777-ff7ab4a48dea button.colab-df-convert');\n",
              "        buttonEl.style.display =\n",
              "          google.colab.kernel.accessAllowed ? 'block' : 'none';\n",
              "\n",
              "        async function convertToInteractive(key) {\n",
              "          const element = document.querySelector('#df-af3edafd-2cbf-4c74-a777-ff7ab4a48dea');\n",
              "          const dataTable =\n",
              "            await google.colab.kernel.invokeFunction('convertToInteractive',\n",
              "                                                     [key], {});\n",
              "          if (!dataTable) return;\n",
              "\n",
              "          const docLinkHtml = 'Like what you see? Visit the ' +\n",
              "            '<a target=\"_blank\" href=https://colab.research.google.com/notebooks/data_table.ipynb>data table notebook</a>'\n",
              "            + ' to learn more about interactive tables.';\n",
              "          element.innerHTML = '';\n",
              "          dataTable['output_type'] = 'display_data';\n",
              "          await google.colab.output.renderOutput(dataTable, element);\n",
              "          const docLink = document.createElement('div');\n",
              "          docLink.innerHTML = docLinkHtml;\n",
              "          element.appendChild(docLink);\n",
              "        }\n",
              "      </script>\n",
              "    </div>\n",
              "  </div>\n",
              "  "
            ]
          },
          "metadata": {},
          "execution_count": 28
        }
      ],
      "source": [
        "pts.head(3)"
      ]
    },
    {
      "cell_type": "code",
      "execution_count": 29,
      "metadata": {
        "iooxa": {
          "id": {
            "block": "VrTqGcBLQkTRAtyEJBNE",
            "project": "mmReuqVTAa9JzPpNr22I",
            "version": 2
          },
          "outputId": {
            "block": "3I55AzB3dtQDECrcD0dr",
            "project": "mmReuqVTAa9JzPpNr22I",
            "version": 1
          }
        },
        "colab": {
          "base_uri": "https://localhost:8080/"
        },
        "id": "GM6H9m3BdUNi",
        "outputId": "d5848039-5d59-4f79-ae6a-53e987bc9e00"
      },
      "outputs": [
        {
          "output_type": "execute_result",
          "data": {
            "text/plain": [
              "depth_m                  object\n",
              "speed_mps                object\n",
              "cweight_kg               object\n",
              "whp_barg                 object\n",
              "temp_degC                object\n",
              "pressure_bara            object\n",
              "frequency_hz             object\n",
              "datetime         datetime64[ns]\n",
              "dtype: object"
            ]
          },
          "metadata": {},
          "execution_count": 29
        }
      ],
      "source": [
        "pts.dtypes"
      ]
    },
    {
      "cell_type": "code",
      "execution_count": 30,
      "metadata": {
        "iooxa": {
          "id": {
            "block": "ast0rBbFWN2hY4a5VVJp",
            "project": "mmReuqVTAa9JzPpNr22I",
            "version": 2
          },
          "outputId": {
            "block": "YZeDCTXqqut22C8b6b6Z",
            "project": "mmReuqVTAa9JzPpNr22I",
            "version": 1
          }
        },
        "colab": {
          "base_uri": "https://localhost:8080/"
        },
        "id": "CoTrj_JDdUNi",
        "outputId": "5e6da90a-8c0b-481b-fdd7-27a10b0c12a1"
      },
      "outputs": [
        {
          "output_type": "execute_result",
          "data": {
            "text/plain": [
              "depth_m                 float64\n",
              "speed_mps               float64\n",
              "cweight_kg              float64\n",
              "whp_barg                float64\n",
              "temp_degC               float64\n",
              "pressure_bara           float64\n",
              "frequency_hz            float64\n",
              "datetime         datetime64[ns]\n",
              "dtype: object"
            ]
          },
          "metadata": {},
          "execution_count": 30
        }
      ],
      "source": [
        "pts[\n",
        "    ['depth_m', 'speed_mps','cweight_kg','whp_barg','temp_degC','pressure_bara','frequency_hz']\n",
        "] = pts[\n",
        "    ['depth_m','speed_mps','cweight_kg','whp_barg','temp_degC','pressure_bara','frequency_hz']\n",
        "    ].apply(pd.to_numeric)\n",
        "\n",
        "pts.dtypes"
      ]
    },
    {
      "cell_type": "code",
      "execution_count": 31,
      "metadata": {
        "iooxa": {
          "id": {
            "block": "a1xftRDFvOnbT1c865Lw",
            "project": "mmReuqVTAa9JzPpNr22I",
            "version": 2
          },
          "outputId": {
            "block": "pEEK0fMlPNYlQoNCp5Ck",
            "project": "mmReuqVTAa9JzPpNr22I",
            "version": 1
          }
        },
        "colab": {
          "base_uri": "https://localhost:8080/"
        },
        "id": "XrLO-qJtdUNj",
        "outputId": "cd59ed66-5825-4aa9-eed4-e7181f7118c5"
      },
      "outputs": [
        {
          "output_type": "execute_result",
          "data": {
            "text/plain": [
              "Index(['depth_m', 'speed_mps', 'cweight_kg', 'whp_barg', 'temp_degC',\n",
              "       'pressure_bara', 'frequency_hz', 'datetime'],\n",
              "      dtype='object')"
            ]
          },
          "metadata": {},
          "execution_count": 31
        }
      ],
      "source": [
        "pts.columns"
      ]
    },
    {
      "cell_type": "code",
      "execution_count": 32,
      "metadata": {
        "iooxa": {
          "id": {
            "block": "nCM6b2FwsVWFFKSfJyRT",
            "project": "mmReuqVTAa9JzPpNr22I",
            "version": 1
          },
          "outputId": null
        },
        "id": "a0JIuWSodUNk"
      },
      "outputs": [],
      "source": [
        "def timedelta_seconds(dataframe_col, test_start):\n",
        "    '''\n",
        "    Make a float in seconds since the start of the test\n",
        "\n",
        "    args:   dataframe_col: dataframe column containing datetime objects\n",
        "            test_start: test start time formatted '2020-12-11 09:00:00'\n",
        "\n",
        "    returns: float in seconds since the start of the test\n",
        "    '''\n",
        "    test_start_datetime = pd.to_datetime(test_start)\n",
        "    list = []\n",
        "    for datetime in dataframe_col:\n",
        "        time_delta = datetime - test_start_datetime\n",
        "        seconds = time_delta.total_seconds()\n",
        "        list.append(seconds)\n",
        "    return list\n",
        "\n",
        "test_start_datetime = '2020-12-11 09:26:44.448'\n",
        "\n",
        "flowrate['timedelta_sec'] = timedelta_seconds(flowrate.datetime, test_start_datetime)\n",
        "pts['timedelta_sec'] = timedelta_seconds(pts.datetime, test_start_datetime)\n"
      ]
    },
    {
      "cell_type": "code",
      "execution_count": 33,
      "metadata": {
        "iooxa": {
          "id": {
            "block": "oIjYzYwSCbZ6mGWyH4fE",
            "project": "mmReuqVTAa9JzPpNr22I",
            "version": 2
          },
          "outputId": {
            "block": "Uw3t0K484Z068mzpJzrw",
            "project": "mmReuqVTAa9JzPpNr22I",
            "version": 1
          }
        },
        "colab": {
          "base_uri": "https://localhost:8080/",
          "height": 649
        },
        "id": "kPc0HmLKdUNo",
        "outputId": "58e4ddc1-972c-41de-e3ef-3293c19464b9"
      },
      "outputs": [
        {
          "output_type": "display_data",
          "data": {
            "text/plain": [
              "<Figure size 1296x864 with 4 Axes>"
            ],
            "image/png": "[encoded data removed]"
          },
          "metadata": {
            "needs_background": "light"
          }
        }
      ],
      "source": [
        "import matplotlib.pyplot as plt \n",
        "import matplotlib.dates as mdates\n",
        "\n",
        "fig, (ax1, ax2, ax3, ax4) = plt.subplots(4, 1,figsize=(18,12),sharex=True)\n",
        "\n",
        "ax1.plot(flowrate.datetime, flowrate.flow_tph, label='Surface pump flowrate', \n",
        "    c='k', linewidth=0.8, marker='.')\n",
        "ax1.set_ylabel('Surface flowrate [t/hr]')\n",
        "ax1.set_ylim(0,150)\n",
        "\n",
        "for ax in [ax2, ax3, ax4]:\n",
        "    ax.plot(pts.datetime, pts.depth_m, label='PTS tool depth', \n",
        "        c='k', linewidth=1.5)\n",
        "    ax.set_ylabel('PTS tool depth [m]')\n",
        "    ax.set_ylim(1000,0)\n",
        "\n",
        "ax4.set_xlabel('Time [hh:mm]')\n",
        "ax4.xaxis.set_major_formatter(mdates.DateFormatter('%H:%M'))\n",
        " \n",
        "injectivity_index = [ # purple\n",
        "    (pd.to_datetime('2020-12-11 10:28:00'),pd.to_datetime('2020-12-11 10:30:00')),\n",
        "    (pd.to_datetime('2020-12-11 12:51:00'),pd.to_datetime('2020-12-11 12:53:00')),\n",
        "    (pd.to_datetime('2020-12-11 15:20:00'),pd.to_datetime('2020-12-11 15:23:00')), # pumps shut off too soon\n",
        "    ]\n",
        "injectivity_index_alt = [ # light purple \n",
        "    (pd.to_datetime('2020-12-11 14:38:00'),pd.to_datetime('2020-12-11 14:40:00')) # alternate used because of pump issue\n",
        "    ]\n",
        "pressure_transient = [ # green\n",
        "    (pd.to_datetime('2020-12-11 10:36:00'),pd.to_datetime('2020-12-11 12:10:00')),\n",
        "    (pd.to_datetime('2020-12-11 12:55:15'),pd.to_datetime('2020-12-11 14:40:00')), \n",
        "    ]\n",
        "temperature_profile = [ # red\n",
        "    (pd.to_datetime('2020-12-11 10:03:00'),pd.to_datetime('2020-12-11 10:11:30')),\n",
        "    (pd.to_datetime('2020-12-11 12:28:30'),pd.to_datetime('2020-12-11 12:36:00')),\n",
        "    (pd.to_datetime('2020-12-11 14:57:30'),pd.to_datetime('2020-12-11 15:05:00')),\n",
        "    (pd.to_datetime('2020-12-11 16:09:00'),pd.to_datetime('2020-12-11 16:15:30'))\n",
        "    ]\n",
        "fluid_velocity = [ # yellow\n",
        "    (pd.to_datetime('2020-12-11 09:46:00'),pd.to_datetime('2020-12-11 10:25:00')),\n",
        "    (pd.to_datetime('2020-12-11 12:10:30'),pd.to_datetime('2020-12-11 12:51:00')),\n",
        "    (pd.to_datetime('2020-12-11 14:40:30'),pd.to_datetime('2020-12-11 15:19:00')),\n",
        "    ]\n",
        "\n",
        "ax1.set_title('Pressure transient analysis (not included in this tutorial)')\n",
        "for top, bottom in pressure_transient:\n",
        "    ax1.axvspan(top, bottom, color='#369a33', alpha=0.3) # green\n",
        "\n",
        "ax2.set_title('Temperature profile analysis - Notebook 2')\n",
        "for top, bottom in temperature_profile:\n",
        "    ax2.axvspan(top, bottom, color='#9a3336', alpha = 0.5) # red \n",
        "\n",
        "ax3.set_title('Determine well capacity (injectivity index) - Notebook 3')\n",
        "for top, bottom in injectivity_index:\n",
        "    ax3.axvspan(top, bottom, color='#33369a', alpha=.6) # purple\n",
        "\n",
        "for top, bottom in injectivity_index_alt:\n",
        "    ax3.axvspan(top, bottom, color='#33369a', alpha=.3) # light purple\n",
        "    \n",
        "ax4.set_title('Feed zones from fluid velocity analysis - Notebook 4')\n",
        "for top, bottom in fluid_velocity:\n",
        "    ax4.axvspan(top, bottom, color='#ffc000', alpha=.3) # yellow \n",
        "\n",
        "for ax in [ax1, ax2, ax3, ax4]:\n",
        "    ax.grid()\n",
        " \n",
        "plt.show();"
      ]
    },
    {
      "cell_type": "markdown",
      "metadata": {
        "iooxa": {
          "id": {
            "block": "Edapbj09achzt97OCl4D",
            "project": "mmReuqVTAa9JzPpNr22I",
            "version": 1
          }
        },
        "id": "l5_Xya9SdUNp"
      },
      "source": [
        "#### Overview of the completion test (plot above)\n",
        "\n",
        "The highlighted areas on the plot above are the data we will extract for analysis during this tutorial. \n",
        "\n",
        "The zig-zags in the PTS tool depth show the tool going up and down inside the well. Injectivity index (well capacity) uses pressure and flow rate just after these tool passes are complete and before the pump rate is changed (dark purple). However, after the third set of passes (i.e., during the third flowrate) the pumps were shut off too soon, so we will use the pressure and flow rate just prior to the passes (light purple).\n",
        "\n",
        "#### Use the plot below to explore the entire dataset"
      ]
    },
    {
      "cell_type": "code",
      "execution_count": 34,
      "metadata": {
        "iooxa": {
          "id": {
            "block": "uoigj1oiuRgDYiaeXzDj",
            "project": "mmReuqVTAa9JzPpNr22I",
            "version": 1
          },
          "outputId": null
        },
        "id": "Ww0MpKlrdUNq"
      },
      "outputs": [],
      "source": [
        "def overview_fig(pts_df,flowrate_df,title=''):\n",
        "    fig, (ax1, ax2, ax3, ax4, ax5, ax6) = plt.subplots(6, 1,figsize=(10,15),sharex=True)\n",
        "    ax1.set_title(title,y=1.1,fontsize=15)\n",
        "\n",
        "    ax1.plot(flowrate_df.datetime, flowrate_df.flow_tph, label='Surface pump flowrate', \n",
        "        c='k', linewidth=0.8, marker='.')\n",
        "    ax1.set_ylabel('Surface flowrate [t/hr]')\n",
        "    ax1.set_ylim(0,150)\n",
        "    \n",
        "    ax2.plot(pts_df.datetime, pts_df.depth_m, label='PTS tool depth', \n",
        "        c='k', linewidth=0.8)\n",
        "    ax2.set_ylabel('PTS tool depth [m]')\n",
        "    ax2.set_ylim(1000,0)\n",
        "    \n",
        "    ax3.plot(pts_df.datetime, pts_df.pressure_bara, label='PTS pressure', \n",
        "        c='tab:blue', linewidth=0.8)\n",
        "    ax3.set_ylabel('PTS pressure [bara]')\n",
        "    \n",
        "    ax4.plot(pts_df.datetime, pts_df.temp_degC, label='PTS temperature', \n",
        "        c='tab:red', linewidth=0.8)\n",
        "    ax4.set_ylabel('PTS temperature')\n",
        "    \n",
        "    ax5.plot(pts_df.datetime, pts_df.frequency_hz, label='PTS impeller frequency', \n",
        "        c='tab:green', linewidth=0.8)\n",
        "    ax5.set_ylim(-30,30)\n",
        "    ax5.set_ylabel('PTS impeller frequency [hz]')\n",
        "    # 1 hz = 60 rpm\n",
        "\n",
        "    ax6.plot(pts_df.datetime, pts_df.speed_mps, label='PTS tool speed', \n",
        "        c='tab:orange', linewidth=0.8)\n",
        "    ax6.set_ylim(-2,2)\n",
        "    ax6.set_ylabel('PTS tool speed [mps]')\n",
        "    \n",
        "    ax6.set_xlabel('Time [hh:mm]')\n",
        "    plt.gca().xaxis.set_major_formatter(mdates.DateFormatter('%H:%M'))\n",
        "    \n",
        "    for ax in [ax1,ax2,ax3,ax4,ax5,ax6]:\n",
        "        ax.grid()\n",
        "    \n",
        "    return plt"
      ]
    },
    {
      "cell_type": "code",
      "execution_count": 35,
      "metadata": {
        "iooxa": {
          "id": {
            "block": "A4zY8RFp07RNhFRXswcP",
            "project": "mmReuqVTAa9JzPpNr22I",
            "version": 2
          },
          "outputId": {
            "block": "YteUPsYCdASYQu8NdNvo",
            "project": "mmReuqVTAa9JzPpNr22I",
            "version": 1
          }
        },
        "colab": {
          "base_uri": "https://localhost:8080/",
          "height": 881
        },
        "id": "WTtENJF-dUNs",
        "outputId": "f43a18a6-ed88-4433-c0c3-950606b23484"
      },
      "outputs": [
        {
          "output_type": "display_data",
          "data": {
            "text/plain": [
              "<Figure size 720x1080 with 6 Axes>"
            ],
            "image/png": "[encoded data removed]"
          },
          "metadata": {
            "needs_background": "light"
          }
        }
      ],
      "source": [
        "overview_fig(pts,flowrate);"
      ]
    },
    {
      "cell_type": "markdown",
      "metadata": {
        "iooxa": {
          "id": {
            "block": "xad220gtnyM9R5vYGPFG",
            "project": "mmReuqVTAa9JzPpNr22I",
            "version": 1
          }
        },
        "id": "NMdesRKKdUNs"
      },
      "source": [
        "Note that I sometimes use a ; at the end of the code in the cell to suppress extra output, as is has been done above."
      ]
    },
    {
      "cell_type": "markdown",
      "metadata": {
        "iooxa": {
          "id": {
            "block": "F3gJD6r2sfnWV5gdoJJF",
            "project": "mmReuqVTAa9JzPpNr22I",
            "version": 1
          }
        },
        "id": "CWzfiXCLdUNt"
      },
      "source": [
        "*** negrito\n",
        "\n",
        "###  references\n",
        "\n",
        "Kaya, E., Zarrouk, S.J., and O’Sullivan, M.J. (2011): Reinjection in geothermal fields: a review of worldwide experience. Renew. Sustain. Energy Rev. 15 (1), 47-68. \n",
        "\n",
        "Zarrouk, S.J. and McLean, K. (2019): Geothermal well test analysis: fundamentals, applications, and advanced techniques. 1st edition, Elsevier. \n",
        "\n",
        "***\n",
        "\n",
        "© 2021 [Irene Wallis](https://www.cubicearth.nz/) and [Katie McLean](https://www.linkedin.com/in/katie-mclean-25994315/) \n",
        "\n",
        "Licensed under the Apache License, Version 2.0\n",
        "\n",
        "\n",
        "***"
      ]
    },
    {
      "cell_type": "code",
      "execution_count": null,
      "metadata": {
        "iooxa": null,
        "id": "_pV0bBf2dUNu"
      },
      "outputs": [],
      "source": []
    }
  ],
  "metadata": {
    "iooxa": {
      "id": {
        "block": "xsmu9oKVnHvU3tpyB9XG",
        "project": "mmReuqVTAa9JzPpNr22I",
        "version": 2
      }
    },
    "kernelspec": {
      "display_name": "Python 3",
      "language": "python",
      "name": "python3"
    },
    "language_info": {
      "codemirror_mode": {
        "name": "ipython",
        "version": 3
      },
      "file_extension": ".py",
      "mimetype": "text/x-python",
      "name": "python",
      "nbconvert_exporter": "python",
      "pygments_lexer": "ipython3",
      "version": "3.7.9"
    },
    "colab": {
      "provenance": []
    }
  },
  "nbformat": 4,
  "nbformat_minor": 0
}