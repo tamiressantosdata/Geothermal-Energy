{
  "cells": [
    {
      "cell_type": "markdown",
      "source": [
        "## It allows your to evaluate fluid flow distribution in a multi-fractured doublet (EGS) Enhanced Geothermal System model."
      ],
      "metadata": {
        "id": "wjUbNSabu_G1"
      }
    },
    {
      "cell_type": "code",
      "execution_count": 1,
      "metadata": {
        "id": "rGNDKo_OoV1g"
      },
      "outputs": [],
      "source": [
        "import numpy as np  #Importing NumPy\n",
        "import math "
      ]
    },
    {
      "cell_type": "code",
      "execution_count": 2,
      "metadata": {
        "id": "wr4aLMAGoV1h"
      },
      "outputs": [],
      "source": [
        "from scipy.optimize import fsolve\n",
        "import matplotlib.pyplot as plt"
      ]
    },
    {
      "cell_type": "code",
      "execution_count": 3,
      "metadata": {
        "id": "RdMXB5znoV1i"
      },
      "outputs": [],
      "source": [
        "#Calculate fracture permeabilities\n",
        "import random\n",
        "def FracturePermeability(n,Kb,FractureWidth,FractureHeight,premact):\n",
        "    Kf=np.zeros(n)\n",
        "    for i in range(n):\n",
        "        if premact==0:\n",
        "            Kf[i]=Kb\n",
        "        else:\n",
        "            rndnum=(random.uniform(1, 10))\n",
        "            rndnum1=(random.choice([-1, 0, 1]))  #Magnitude\n",
        "            Kf[i]=rndnum*Kb*(10**rndnum1)\n",
        "    return Kf"
      ]
    },
    {
      "cell_type": "code",
      "execution_count": 4,
      "metadata": {
        "id": "1K81R4q4oV1j"
      },
      "outputs": [],
      "source": [
        "#Adaptive Perforations\n",
        "def AdaptivePerforation(WellsOrientation,VariablePermeability,AdaptivePerf,NumberOfFractures,Diameter_Perforation,BaseDiameter_Perforation,Permeability_Fracture):\n",
        "    GMean = math.prod(Permeability_Fracture)**(1/len(Permeability_Fracture))\n",
        "    if WellsOrientation==1 or WellsOrientation==3:\n",
        "        for i in range(NumberOfFractures):\n",
        "            if VariablePermeability==0:\n",
        "                if AdaptivePerf==1:\n",
        "                    #Diameter_Perforation[i]=BaseDiameter_Perforation*(1.3**(math.log(GMean/Permeability_Fracture[i],10)))\n",
        "                    Diameter_Perforation[i]=((i+2)**0.4/NumberOfFractures**0.3)*BaseDiameter_Perforation\n",
        "                else:\n",
        "                    Diameter_Perforation[i]=BaseDiameter_Perforation\n",
        "            else:\n",
        "                if AdaptivePerf==1:\n",
        "                    Diameter_Perforation[i]=BaseDiameter_Perforation*(1.3**(math.log(GMean/Permeability_Fracture[i],10)))\n",
        "                else:\n",
        "                    Diameter_Perforation[i]=BaseDiameter_Perforation\n",
        "    elif WellsOrientation==2:\n",
        "        if NumberOfFractures%2==0:\n",
        "            for i in range(int(NumberOfFractures/2)):\n",
        "                if VariablePermeability==0:\n",
        "                    if AdaptivePerf==1:\n",
        "                        Diameter_Perforation[i]=((i+2)**0.4/NumberOfFractures**0.3)*BaseDiameter_Perforation\n",
        "                    else:\n",
        "                        Diameter_Perforation[i]=BaseDiameter_Perforation\n",
        "                    Diameter_Perforation[int(NumberOfFractures-1)-i]=Diameter_Perforation[i]\n",
        "                else:\n",
        "                    if AdaptivePerf==1:\n",
        "                        Diameter_Perforation[i]=BaseDiameter_Perforation*(1.3**(math.log(GMean/Permeability_Fracture[i],10)))\n",
        "                    else:\n",
        "                        Diameter_Perforation[i]=BaseDiameter_Perforation        \n",
        "        else:\n",
        "            for i in range(int((NumberOfFractures+1)/2)):\n",
        "                if VariablePermeability==0:\n",
        "                    if AdaptivePerf==1:\n",
        "                        Diameter_Perforation[i]=((i+2)**0.4/NumberOfFractures**0.3)*BaseDiameter_Perforation\n",
        "                    else:\n",
        "                        Diameter_Perforation[i]=BaseDiameter_Perforation\n",
        "                    if i!=int((NumberOfFractures-1)/2):\n",
        "                        Diameter_Perforation[int(NumberOfFractures-1)-i]=Diameter_Perforation[i]\n",
        "                else:\n",
        "                    if AdaptivePerf==1:\n",
        "                        Diameter_Perforation[i]=BaseDiameter_Perforation*(1.3**(math.log(GMean/Permeability_Fracture[i],10)))\n",
        "                    else:\n",
        "                        Diameter_Perforation[i]=BaseDiameter_Perforation\n",
        "    return Diameter_Perforation"
      ]
    },
    {
      "cell_type": "code",
      "execution_count": 5,
      "metadata": {
        "id": "JHLwwcU9oV1m"
      },
      "outputs": [],
      "source": [
        "#Reynolds Number\n",
        "def Rep(q,D):\n",
        "    re=1000*(q/(math.pi*D**2*0.25))*D/(8.91e-4)\n",
        "    return re"
      ]
    },
    {
      "cell_type": "code",
      "execution_count": 6,
      "metadata": {
        "id": "LGB50_T-oV1n"
      },
      "outputs": [],
      "source": [
        "#Colebrook–White equation\n",
        "def cole(f,e,D,Rep):\n",
        "    resid=(1/f**0.5)+2*math.log10((e/(3.7*D))+2.51/(Rep*f**0.5))\n",
        "    return resid"
      ]
    },
    {
      "cell_type": "code",
      "execution_count": 7,
      "metadata": {
        "id": "ntjb6k56oV1p"
      },
      "outputs": [],
      "source": [
        "#Pressure Drop in Pipe\n",
        "def Fhal(e,D,Rep):\n",
        "    if Rep<=4000: #Haaland’s equation\n",
        "        f=1/(-1.8*math.log10(((e/D)/3.7)**1.1+(6.9/Rep)))**2\n",
        "    else:  #Colebrook–White equation\n",
        "        f=fsolve(cole,0.01,args=(e,D,Rep),xtol=1e-10)\n",
        "    return f"
      ]
    },
    {
      "cell_type": "code",
      "execution_count": 8,
      "metadata": {
        "id": "DkjQcJoPoV1r"
      },
      "outputs": [],
      "source": [
        "#Fanning friction factor\n",
        "def Ffan(Rep):\n",
        "    f=16/Rep\n",
        "    return f"
      ]
    },
    {
      "cell_type": "code",
      "execution_count": 9,
      "metadata": {
        "id": "YTIzN5O9oV1r"
      },
      "outputs": [],
      "source": [
        "#Pressure drop in Frac\n",
        "#P. A. WITHERSPOON #Validity of Cubic Law for Fluid Flow in a Deformable Rock Fracture \n",
        "def Pfrac(q,L,W,af,ff):\n",
        "    Pfrac=12*8.91e-4*q*L*ff/(W*af**3)\n",
        "    return Pfrac"
      ]
    },
    {
      "cell_type": "code",
      "execution_count": 10,
      "metadata": {
        "id": "fiX3QfvUoV1s"
      },
      "outputs": [],
      "source": [
        "#Flow rate in Fracs with Darcy and all Perforations\n",
        "def temp1(Qfrac,Pfrac,L,A,k,Cd,Np,DPinj,DPpro):\n",
        "    resid=Pfrac-(Qfrac*L*8.91e-4/(k*A))-(Qfrac**2*1000*0.808060652/((Cd**2)*(Np**2)*(DPinj**4)))-(Qfrac**2*1000*0.808060652/((Cd**2)*(Np**2)*(DPpro**4)))\n",
        "    return resid\n",
        "def Q_all_perfs(Pfrac,L,A,k,Cd,Np,DPinj,DPpro):\n",
        "    Qfrac=fsolve(temp1,0.01,args=(Pfrac,L,A,k,Cd,Np,DPinj,DPpro),xtol=1e-10)\n",
        "    return Qfrac"
      ]
    },
    {
      "cell_type": "code",
      "execution_count": 11,
      "metadata": {
        "id": "whVbP5dhoV1t"
      },
      "outputs": [],
      "source": [
        "#Flow rate in Fracs with Darcy and only Injection Perforations\n",
        "def temp2(Qfrac,Pfrac,L,A,k,Cd,Np,DPinj):\n",
        "    resid=Pfrac-(Qfrac*L*8.91e-4/(k*A))-(Qfrac**2*1000*0.808060652/((Cd**2)*(Np**2)*(DPinj**4)))\n",
        "    return resid\n",
        "def Q_Injection_perfs(Pfrac,L,A,k,Cd,Np,DPinj):\n",
        "    Qfrac=fsolve(temp2,0.01,args=(Pfrac,L,A,k,Cd,Np,DPinj),xtol=1e-10)\n",
        "    return Qfrac"
      ]
    },
    {
      "cell_type": "code",
      "execution_count": 12,
      "metadata": {
        "id": "wMAsDo_LoV1t"
      },
      "outputs": [],
      "source": [
        "#Flow rate in Fracs with Darcy and only Production Perforations\n",
        "def temp3(Qfrac,Pfrac,L,A,k,Cd,Np,DPpro):\n",
        "    resid=Pfrac-(Qfrac*L*8.91e-4/(k*A))-(Qfrac**2*1000*0.808060652/((Cd**2)*(Np**2)*(DPpro**4)))\n",
        "    return resid\n",
        "def Q_Production_perfs(Pfrac,L,A,k,Cd,Np,DPpro):\n",
        "    Qfrac=fsolve(temp3,0.01,args=(Pfrac,L,A,k,Cd,Np,DPpro),xtol=1e-10)\n",
        "    return Qfrac"
      ]
    },
    {
      "cell_type": "code",
      "execution_count": 13,
      "metadata": {
        "id": "39koE-NsoV1u"
      },
      "outputs": [],
      "source": [
        "#Flow rate in Fracs with Darcy and no Perforations\n",
        "def temp4(Qfrac,Pfrac,L,A,k):\n",
        "    resid=Pfrac-(Qfrac*L*8.91e-4/(k*A))-(Qfrac**2*1000*0.808060652)-(Qfrac**2*1000*0.808060652)\n",
        "    return resid\n",
        "def Q_No_perfs(Pfrac,L,A,k):\n",
        "    Qfrac=fsolve(temp4,0.01,args=(Pfrac,L,A,k),xtol=1e-10)\n",
        "    return Qfrac"
      ]
    },
    {
      "cell_type": "code",
      "execution_count": 14,
      "metadata": {
        "id": "88qmFE6ToV1v"
      },
      "outputs": [],
      "source": [
        "#Pressure drop in Frac Darcy\n",
        "#Darcy's Law\n",
        "def Pfdarcy(q,L,A,k):\n",
        "    Pfrac=q*8.91e-4*L/(k*A)\n",
        "    return Pfrac"
      ]
    },
    {
      "cell_type": "code",
      "execution_count": 15,
      "metadata": {
        "id": "J2lTD1vhoV1v"
      },
      "outputs": [],
      "source": [
        "#Flow rate in Fracs Darcy\n",
        "#Darcy's Law\n",
        "def Qfdarcy(Pfrac,L,A,k):\n",
        "    q=Pfrac*k*A/(L*8.91e-4)\n",
        "    return q"
      ]
    },
    {
      "cell_type": "code",
      "execution_count": 16,
      "metadata": {
        "id": "DzT_jjMQoV1v"
      },
      "outputs": [],
      "source": [
        "#Pressure drop in Perforations\n",
        "#Weddle and Cramer\n",
        "def Pperf(q,Cd,Np,Dp):\n",
        "    Pperf=0.808060652*(q**2)*1000/((Cd**2)*(Np**2)*(Dp**4))\n",
        "    return Pperf"
      ]
    },
    {
      "cell_type": "code",
      "execution_count": 17,
      "metadata": {
        "id": "xEX_oJp7oV1w"
      },
      "outputs": [],
      "source": [
        "#Pressure plots\n",
        "def pplots(P,n,name,save,path):\n",
        "    distpct=np.empty(n)\n",
        "    temp=np.empty(n)\n",
        "    plt.figure(figsize = (8,5))\n",
        "    pmin=min(P)\n",
        "    pmax=max(P)\n",
        "    plt.ylim(ymin=pmin*0.95)\n",
        "    plt.ylim(ymax=pmax*1.05)\n",
        "    if name==\"Width\":\n",
        "        plt.ylim(ymin=pmin*0.90*1000)\n",
        "        plt.ylim(ymax=pmax*1.1*1000)\n",
        "    # set width of bar\n",
        "    barWidth = 1*(n-1)/(n+1)\n",
        "\n",
        "    for i in range(0,n):\n",
        "        distpct[i]=P[i]\n",
        "        if name==\"Width\":\n",
        "            distpct[i]=P[i]*1000\n",
        "    x = np.linspace(1, n, n)\n",
        "    plt.bar(x,distpct,width=barWidth,zorder=2,color='teal')\n",
        "    # Add xticks on the middle of the group bars\n",
        "    plt.xticks(np.arange(1, n+1, step=1))\n",
        "    plt.xlabel('Fracture Number', fontweight='bold',fontsize=14)\n",
        "    plt.ylabel('Pressure (Pa)', fontweight='bold',fontsize=14)\n",
        "    plt.title('\\n%s Pressure Distribution in Fractures' %name, fontweight='bold',fontsize=18)\n",
        "    if name==\"Permeability\":\n",
        "        plt.yscale('log')\n",
        "        plt.grid(which='minor', linestyle=':', linewidth='0.5', color='black')\n",
        "        plt.title('\\n%s Distribution in Fractures' %name, fontweight='bold',fontsize=18)\n",
        "        plt.ylabel('Permeability m2', fontweight='bold',fontsize=14)\n",
        "        plt.hlines(math.prod(P)**(1/len(P)), 0, n+1, colors='r', linestyles='solid',zorder=3)  \n",
        "    #plt.legend(loc=\"upper center\",ncol=3,bbox_to_anchor= (0.5, -0.15),prop={'size': 12},frameon=True)\n",
        "    plt.grid(which='major', axis='both',color='lightgrey',zorder=1)\n",
        "    if save==\"yes\":\n",
        "        plt.savefig(r'%s/%s.png' %(path,name), bbox_inches='tight')\n",
        "    return plt.show()"
      ]
    },
    {
      "cell_type": "code",
      "source": [
        "#For Fracture\n",
        "NumberOfFractures=10\n",
        "TotalWellLength=1000 #m, Length of the well\n",
        "BasePermeability=1e-12 #m2, #Fracture base Permebility\n",
        "FractureHeight=100 #m Fracture entrance length\n",
        "FractureWidth=5.0 #m Fracture entrance pseudo width\n",
        "BaseFractureLength=100 #m Height of fractures\n",
        "Area_FractureEntrance=FractureHeight*FractureWidth #Area of fracture for the fluid to enter\n",
        "\n",
        "#For Pipe\n",
        "Diameter_InjectionWell=0.1524#*(0.5/0.1524)   #m Diameter of the Injection Pipe\n",
        "Diameter_ProductionWell=0.1524#*(0.5/0.1524)  #m Diameter of the Production Pipe\n",
        "Area_InjectionWell=math.pi*Diameter_InjectionWell**2*0.25 #meters sq.\n",
        "Area_ProductionWell=math.pi*Diameter_InjectionWell**2*0.25 #meters sq.\n",
        "DensityWater=1000 #kg/s\n",
        "e=0.015/1000  #roughness in m\n",
        "BaseInjectionWellSection=TotalWellLength/NumberOfFractures #m Length of Inj pipe section\n",
        "BaseProductionWellSection=TotalWellLength/NumberOfFractures #m Length of Prod pipe section\n",
        "\n",
        "#For Perforation\n",
        "LengthOfPerfZone=1 #m, length og each perf zone\n",
        "Cd=0.75 #Discharge Coefficient\n",
        "NumberOfPerfPerMeter=10 # Number of perforations per meter\n",
        "NumberOfPerfs=LengthOfPerfZone*NumberOfPerfPerMeter #Number of Perforations\n",
        "BaseDiameter_InjectionPerforation=0.003175*3#*0.5 #m, Diameter of perforations\n",
        "BaseDiameter_ProductionPerforation=0.003175*3#*0.5 #m, Diameter of perforations"
      ],
      "metadata": {
        "id": "pyNvYw7So7GM"
      },
      "execution_count": 18,
      "outputs": []
    },
    {
      "cell_type": "code",
      "source": [
        "#Initialization\n",
        "Pressure_Injection=np.zeros(NumberOfFractures+1)\n",
        "Pressure_Production=np.zeros(NumberOfFractures+1)\n",
        "Pressure_Fracture=np.zeros(NumberOfFractures)\n",
        "Flowrate_Fracture=np.zeros(NumberOfFractures)\n",
        "FractureLength=np.zeros(NumberOfFractures)\n",
        "InjectionWellSection=np.zeros(NumberOfFractures+1)\n",
        "ProductionWellSection=np.zeros(NumberOfFractures+1)\n",
        "Permeability_Fracture=np.zeros(NumberOfFractures)\n",
        "Diameter_InjectionPerforation=np.zeros(NumberOfFractures)\n",
        "Diameter_ProductionPerforation=np.zeros(NumberOfFractures)\n",
        "WellAngle=0"
      ],
      "metadata": {
        "id": "bygqfAXapDqs"
      },
      "execution_count": 19,
      "outputs": []
    },
    {
      "cell_type": "code",
      "source": [
        "#Flow Rate and Pressure\n",
        "Flowrate_Initial=50 #kg/s\n",
        "Pressure_Injection[0]=3e7"
      ],
      "metadata": {
        "id": "moLvckBepGTr"
      },
      "execution_count": 20,
      "outputs": []
    },
    {
      "cell_type": "code",
      "source": [
        "#Turn on pressure drop in injection well\n",
        "InjectionWellActivate=1 #if 1, the pressure drop in the well is on\n",
        "#Turn on pressure drop in production well\n",
        "ProductionWellActivate=1 #if 1, the pressure drop in the well is on\n",
        "#Activate Perforation\n",
        "ActivateInjectionPerforations=1  #If 0, perforation pressure drop is zero.\n",
        "#activate production well perforation\n",
        "ActivateProductionPerforations=1\n",
        "\n",
        "#Variable Permeablity\n",
        "# If 0, All fractures have same permeability\n",
        "# If 1, The permeability values are assigned at random with respect to the base value\n",
        "# If 2, Option to input custom permeability values.\n",
        "VariablePermeability=0\n",
        "\n",
        "\n",
        "#ORIENTATION OF WELLS\n",
        "# If 1, The wells are Parallel\n",
        "# If 2, The wells are Anti-Parallel\n",
        "# If 3, The wells are Non-Parallel  # Input the Difference between first and last fracture\n",
        "WellsOrientation=2\n",
        "\n",
        "if WellsOrientation==3:\n",
        "    d1=float(input(\"Enter the difference between the first and last fracture size: \"))\n",
        "    BaseFractureLength=BaseFractureLength-d1/2\n",
        "    WellAngle=math.atan((d1/2)/((NumberOfFractures-1)*BaseInjectionWellSection)) #Angle of Injection well\n",
        "    print(math.degrees(WellAngle)*2)\n",
        "for i in range(NumberOfFractures):\n",
        "    Flowrate_Fracture[i]=Flowrate_Initial/NumberOfFractures\n",
        "    FractureLength[i]=abs(BaseFractureLength+(NumberOfFractures-i-1)*math.tan(WellAngle)*BaseInjectionWellSection+(NumberOfFractures-i-1)*math.tan(WellAngle)*BaseProductionWellSection)\n",
        "for i in range(NumberOfFractures+1):\n",
        "    InjectionWellSection[i]=BaseInjectionWellSection/math.cos(WellAngle)\n",
        "    ProductionWellSection[i]=BaseProductionWellSection/math.cos(WellAngle)\n",
        "\n",
        "#Adaptive Perforation (Still in test phase)\n",
        "# If 0, Adaptive Perforations are turned off\n",
        "# If 1, Adaptive Perforations are turned on\n",
        "# If 2, Custom input for Perforations\n",
        "AdaptivePerf=1"
      ],
      "metadata": {
        "id": "KdHVTPqkpUMA"
      },
      "execution_count": 21,
      "outputs": []
    },
    {
      "cell_type": "code",
      "source": [
        "#Calculate Fracture Permeability\n",
        "#Function is defined as:\n",
        "# var1*BasePermeability*(10^var2), where Var1 varies from 1 to 10 and Var2 varies from -1, 0 or 1, at random.\n",
        "if VariablePermeability!=2:\n",
        "    Permeability_Fracture=FracturePermeability(NumberOfFractures,BasePermeability,FractureWidth,FractureHeight,VariablePermeability)\n",
        "else:\n",
        "    for i in range(NumberOfFractures):\n",
        "        #Define any custom function\n",
        "        if i%2==0:\n",
        "            Permeability_Fracture[i]=BasePermeability/2\n",
        "        else:\n",
        "            Permeability_Fracture[i]=BasePermeability"
      ],
      "metadata": {
        "id": "E2cEzsawpiqR"
      },
      "execution_count": 22,
      "outputs": []
    },
    {
      "cell_type": "code",
      "source": [
        "#Define a custom fucntion for Perforation diameters\n",
        "if AdaptivePerf==2:\n",
        "    for i in range(NumberOfFractures):\n",
        "        #Define any custom function\n",
        "        Diameter_InjectionPerforation[i]=BaseDiameter_InjectionPerforation*0.9\n",
        "        Diameter_ProductionPerforation[i]=BaseDiameter_InjectionPerforation*0.8"
      ],
      "metadata": {
        "id": "81g_R1cdpqVF"
      },
      "execution_count": 26,
      "outputs": []
    },
    {
      "cell_type": "code",
      "execution_count": 35,
      "metadata": {
        "id": "eHDUIwNNtUo2",
        "colab": {
          "base_uri": "https://localhost:8080/"
        },
        "outputId": "ef5d5700-e7d4-435a-abe7-7ff7df8faa77"
      },
      "outputs": [
        {
          "output_type": "stream",
          "name": "stderr",
          "text": [
            "/usr/local/lib/python3.7/dist-packages/ipykernel_launcher.py:4: RuntimeWarning: divide by zero encountered in double_scalars\n",
            "  after removing the cwd from sys.path.\n",
            "/usr/local/lib/python3.7/dist-packages/ipykernel_launcher.py:3: RuntimeWarning: divide by zero encountered in true_divide\n",
            "  This is separate from the ipykernel package so we can avoid doing imports until\n",
            "/usr/local/lib/python3.7/dist-packages/ipykernel_launcher.py:3: RuntimeWarning: invalid value encountered in subtract\n",
            "  This is separate from the ipykernel package so we can avoid doing imports until\n",
            "/usr/local/lib/python3.7/dist-packages/scipy/optimize/minpack.py:175: RuntimeWarning: The iteration is not making good progress, as measured by the \n",
            "  improvement from the last ten iterations.\n",
            "  warnings.warn(msg, RuntimeWarning)\n"
          ]
        },
        {
          "output_type": "stream",
          "name": "stdout",
          "text": [
            "1000\n"
          ]
        }
      ],
      "source": [
        "MaxIterations=1000 #number of iterations\n",
        "#mmax=10000 #max number of iterations\n",
        "Tolerance=1e-6 #Tolerance\n",
        "Flowrate_Update=np.zeros(NumberOfFractures)\n",
        "Flowrate_Frac1=np.zeros(MaxIterations)\n",
        "Flowrate_Frac5=np.zeros(MaxIterations)\n",
        "\n",
        "for j in range(MaxIterations):\n",
        "    Flowrate_Cumulative=Flowrate_Initial/1000\n",
        "    #pressure drop in injection well\n",
        "    for i in range(NumberOfFractures):\n",
        "        if InjectionWellActivate==0:\n",
        "            Pressure_Injection[i+1]=Pressure_Injection[i]\n",
        "        else:            \n",
        "            Pressure_Injection[i+1]=Pressure_Injection[i]-Fhal(e,Diameter_InjectionWell,Rep(Flowrate_Cumulative,Diameter_InjectionWell))*2*InjectionWellSection[i+1]*DensityWater*(Flowrate_Cumulative/Area_InjectionWell)**2/Diameter_InjectionWell\n",
        "        Flowrate_Cumulative=Flowrate_Cumulative-Flowrate_Fracture[i]/1000\n",
        "\n",
        "    #Pressure drop in Production well\n",
        "    Flowrate_Cumulative=Flowrate_Fracture[NumberOfFractures-1]/1000\n",
        "    if WellsOrientation!=2:\n",
        "        #pressure drops in last Fracture\n",
        "        if ActivateInjectionPerforations==1 and ActivateProductionPerforations==1: #Activate all perforations\n",
        "            Pressure_Production[NumberOfFractures]=Pressure_Injection[NumberOfFractures]-Pfdarcy(Flowrate_Fracture[NumberOfFractures-1]/1000,FractureLength[NumberOfFractures-1],Area_FractureEntrance,Permeability_Fracture[NumberOfFractures-1])-Pperf(Flowrate_Fracture[NumberOfFractures-1]/1000,Cd,NumberOfPerfs,Diameter_InjectionPerforation[NumberOfFractures-1])-Pperf(Flowrate_Fracture[NumberOfFractures-1]/1000,Cd,NumberOfPerfs,Diameter_ProductionPerforation[NumberOfFractures-1])\n",
        "        elif ActivateInjectionPerforations==0 and ActivateProductionPerforations==1: #Activate only production perforations\n",
        "            Pressure_Production[NumberOfFractures]=Pressure_Injection[NumberOfFractures]-Pfdarcy(Flowrate_Fracture[NumberOfFractures-1]/1000,FractureLength[NumberOfFractures-1],Area_FractureEntrance,Permeability_Fracture[NumberOfFractures-1])-Pperf(Flowrate_Fracture[NumberOfFractures-1]/1000,Cd,NumberOfPerfs,Diameter_ProductionPerforation[NumberOfFractures-1])\n",
        "        elif ActivateInjectionPerforations==1 and ActivateProductionPerforations==0: #Activate only injection perforations\n",
        "            Pressure_Production[NumberOfFractures]=Pressure_Injection[NumberOfFractures]-Pfdarcy(Flowrate_Fracture[NumberOfFractures-1]/1000,FractureLength[NumberOfFractures-1],Area_FractureEntrance,Permeability_Fracture[NumberOfFractures-1])-Pperf(Flowrate_Fracture[NumberOfFractures-1]/1000,Cd,NumberOfPerfs,Diameter_InjectionPerforation[NumberOfFractures-1])\n",
        "        elif ActivateInjectionPerforations==0 and ActivateProductionPerforations==0: #Turn off all perforations\n",
        "            Pressure_Production[NumberOfFractures]=Pressure_Injection[NumberOfFractures]-Pfdarcy(Flowrate_Fracture[NumberOfFractures-1]/1000,FractureLength[NumberOfFractures-1],Area_FractureEntrance,Permeability_Fracture[NumberOfFractures-1])\n",
        "    \n",
        "\n",
        "        for i in range(NumberOfFractures,0,-1):\n",
        "            #turning off production well pressure drop\n",
        "            if ProductionWellActivate==0:\n",
        "                Pressure_Production[i-1]=Pressure_Production[i]\n",
        "            else:\n",
        "                Pressure_Production[i-1]=Pressure_Production[i]-Fhal(e,Diameter_ProductionWell,Rep(Flowrate_Cumulative,Diameter_ProductionWell))*2*ProductionWellSection[i-1]*DensityWater*(Flowrate_Cumulative/Area_ProductionWell)**2/Diameter_ProductionWell\n",
        "            Flowrate_Cumulative=Flowrate_Cumulative+Flowrate_Fracture[i-1]/1000\n",
        "        #Flow Rate in all Fractures\n",
        "        Flowrate_Reinitilized=0\n",
        "        for i in range(NumberOfFractures):\n",
        "            Pressure_Fracture[i]=Pressure_Injection[i+1]-Pressure_Production[i+1]\n",
        "            if ActivateInjectionPerforations==1 and ActivateProductionPerforations==1: #Activate all perforations\n",
        "                Flowrate_Fracture[i]=Q_all_perfs(Pressure_Fracture[i],FractureLength[i],Area_FractureEntrance,Permeability_Fracture[i],Cd,NumberOfPerfs,Diameter_InjectionPerforation[i],Diameter_ProductionPerforation[i])*1000\n",
        "            elif ActivateInjectionPerforations==0 and ActivateProductionPerforations==1: #Activate only production perforations\n",
        "                Flowrate_Fracture[i]=Q_Production_perfs(Pressure_Fracture[i],FractureLength[i],Area_FractureEntrance,Permeability_Fracture[i],Cd,NumberOfPerfs,Diameter_ProductionPerforation[i])*1000\n",
        "            elif ActivateInjectionPerforations==1 and ActivateProductionPerforations==0: #Activate only injection perforations\n",
        "                Flowrate_Fracture[i]=Q_Injection_perfs(Pressure_Fracture[i],FractureLength[i],Area_FractureEntrance,Permeability_Fracture[i],Cd,NumberOfPerfs,Diameter_InjectionPerforation[i])*1000\n",
        "            elif ActivateInjectionPerforations==0 and ActivateProductionPerforations==0: #Turn off all perforations            \n",
        "                Flowrate_Fracture[i]=Q_No_perfs(Pressure_Fracture[i],FractureLength[i],Area_FractureEntrance,Permeability_Fracture[i])*1000\n",
        "            \n",
        "            Flowrate_Reinitilized=Flowrate_Reinitilized+Flowrate_Fracture[i]\n",
        "    else:\n",
        "        #pressure drops in First Fracture\n",
        "        if ActivateInjectionPerforations==1 and ActivateProductionPerforations==1: #Activate all perforations\n",
        "            Pressure_Production[0]=Pressure_Injection[1]-Pfdarcy(Flowrate_Fracture[0]/1000,FractureLength[0],Area_FractureEntrance,Permeability_Fracture[0])-Pperf(Flowrate_Fracture[0]/1000,Cd,NumberOfPerfs,Diameter_InjectionPerforation[0])-Pperf(Flowrate_Fracture[0]/1000,Cd,NumberOfPerfs,Diameter_ProductionPerforation[0])\n",
        "        elif ActivateInjectionPerforations==0 and ActivateProductionPerforations==1: #Activate only production perforations\n",
        "            Pressure_Production[0]=Pressure_Injection[1]-Pfdarcy(Flowrate_Fracture[0]/1000,FractureLength[0],Area_FractureEntrance,Permeability_Fracture[0])-Pperf(Flowrate_Fracture[0]/1000,Cd,NumberOfPerfs,Diameter_ProductionPerforation[0])\n",
        "        elif ActivateInjectionPerforations==1 and ActivateProductionPerforations==0: #Activate only injection perforations    \n",
        "            Pressure_Production[0]=Pressure_Injection[1]-Pfdarcy(Flowrate_Fracture[0]/1000,FractureLength[0],Area_FractureEntrance,Permeability_Fracture[0])-Pperf(Flowrate_Fracture[0]/1000,Cd,NumberOfPerfs,Diameter_InjectionPerforation[0])\n",
        "        elif ActivateInjectionPerforations==0 and ActivateProductionPerforations==0: #Turn off all perforations    \n",
        "            Pressure_Production[0]=Pressure_Injection[1]-Pfdarcy(Flowrate_Fracture[0]/1000,FractureLength[0],Area_FractureEntrance,Permeability_Fracture[0])\n",
        "        \n",
        "        #Pressure drop in Production well\n",
        "        Flowrate_ProductionReinitilized=0\n",
        "        for i in range(NumberOfFractures):\n",
        "            Flowrate_ProductionReinitilized=Flowrate_ProductionReinitilized+Flowrate_Fracture[i]/1000\n",
        "            if ProductionWellActivate==0:\n",
        "                Pressure_Production[i+1]=Pressure_Production[i]\n",
        "            else:\n",
        "                Pressure_Production[i+1]=Pressure_Production[i]-Fhal(e,Diameter_ProductionWell,Rep(Flowrate_ProductionReinitilized,Diameter_ProductionWell))*2*ProductionWellSection[i-1]*DensityWater*(Flowrate_ProductionReinitilized/Area_ProductionWell)**2/Diameter_ProductionWell\n",
        "        \n",
        "        #Flow Rate in all Fractures including perf\n",
        "        Flowrate_Reinitilized=0\n",
        "        for i in range(NumberOfFractures):\n",
        "            Pressure_Fracture[i]=Pressure_Injection[i+1]-Pressure_Production[i]\n",
        "            if Pressure_Fracture[i]>0:\n",
        "                if ActivateInjectionPerforations==1 and ActivateProductionPerforations==1: #Activate all perforations\n",
        "                    Flowrate_Fracture[i]=Q_all_perfs(Pressure_Fracture[i],FractureLength[i],Area_FractureEntrance,Permeability_Fracture[i],Cd,NumberOfPerfs,Diameter_InjectionPerforation[i],Diameter_ProductionPerforation[i])*1000\n",
        "                elif ActivateInjectionPerforations==0 and ActivateProductionPerforations==1: #Activate only production perforations\n",
        "                    Flowrate_Fracture[i]=Q_Production_perfs(Pressure_Fracture[i],FractureLength[i],Area_FractureEntrance,Permeability_Fracture[i],Cd,NumberOfPerfs,Diameter_ProductionPerforation[i])*1000\n",
        "                elif ActivateInjectionPerforations==1 and ActivateProductionPerforations==0: #Activate only injection perforations\n",
        "                    Flowrate_Fracture[i]=Q_Injection_perfs(Pressure_Fracture[i],FractureLength[i],Area_FractureEntrance,Permeability_Fracture[i],Cd,NumberOfPerfs,Diameter_InjectionPerforation[i])*1000\n",
        "                elif ActivateInjectionPerforations==0 and ActivateProductionPerforations==0: #Turn off all perforations            \n",
        "                    Flowrate_Fracture[i]=Q_No_perfs(Pressure_Fracture[i],FractureLength[i],Area_FractureEntrance,Permeability_Fracture[i])*1000                \n",
        "\n",
        "            else:\n",
        "                Flowrate_Fracture[i]=0.01\n",
        "            Flowrate_Reinitilized=Flowrate_Reinitilized+Flowrate_Fracture[i]\n",
        "                \n",
        "    Flowrate_Frac1[j]=Flowrate_Fracture[0]\n",
        "    Flowrate_Frac5[j]=Flowrate_Fracture[5]\n",
        "    #Calculating flowrate for next iteration\n",
        "    for i in range(NumberOfFractures):\n",
        "        Flowrate_Fracture[i]=(Flowrate_Initial)*Flowrate_Fracture[i]/Flowrate_Reinitilized\n",
        "        \n",
        "    Flowrate_Update=Flowrate_Update+np.array(Flowrate_Fracture)\n",
        "    if j>50:\n",
        "        Flowrate_Fracture=Flowrate_Update/j\n",
        "print(MaxIterations)"
      ]
    },
    {
      "cell_type": "code",
      "source": [
        "#Convergenge plot\n",
        "a=Flowrate_Initial/NumberOfFractures\n",
        "Flowrate_Frac1=np.insert(Flowrate_Frac1,0,a)\n",
        "Flowrate_Frac5=np.insert(Flowrate_Frac5,0,a)\n",
        "plt.figure(figsize = (15,5))\n",
        "plt.plot(Flowrate_Frac1[0:MaxIterations])\n",
        "plt.plot(Flowrate_Frac5[0:MaxIterations])\n",
        "plt.xticks(fontsize=14)\n",
        "plt.yticks(fontsize=14)\n",
        "plt.autoscale() \n",
        "plt.legend(['Corner','Middle'],loc=\"upper center\",ncol=5,bbox_to_anchor= (0.5, -0.15),prop={'size': 14},frameon=True)\n",
        "plt.grid(which='major', axis='both',color='lightgrey',zorder=1)\n",
        "plt.ylabel('Flow Rate (kg/s)', fontweight='bold',fontsize=16)\n",
        "plt.xlabel('Number of Steps', fontweight='bold',fontsize=16)\n",
        "plt.show()"
      ],
      "metadata": {
        "colab": {
          "base_uri": "https://localhost:8080/",
          "height": 376
        },
        "id": "i7xszZLHt8bU",
        "outputId": "4de1e781-490a-40e6-e034-04f42aee1c8e"
      },
      "execution_count": 36,
      "outputs": [
        {
          "output_type": "display_data",
          "data": {
            "text/plain": [
              "<Figure size 1080x360 with 1 Axes>"
            ],
            "image/png": "[encoded data removed]"
          },
          "metadata": {
            "needs_background": "light"
          }
        }
      ]
    },
    {
      "cell_type": "code",
      "source": [],
      "metadata": {
        "id": "twpSmPdLuN5r"
      },
      "execution_count": null,
      "outputs": []
    },
    {
      "cell_type": "code",
      "execution_count": 40,
      "metadata": {
        "id": "tsB-O5titUo7",
        "colab": {
          "base_uri": "https://localhost:8080/",
          "height": 447
        },
        "outputId": "63131d2c-e81a-4f84-d84e-58d249134c5e"
      },
      "outputs": [
        {
          "output_type": "stream",
          "name": "stdout",
          "text": [
            "[10.000000000000002, 10.000000000000002, 10.000000000000002, 10.000000000000002, 10.000000000000002, 10.000000000000002, 10.000000000000002, 10.000000000000002, 10.000000000000002, 10.000000000000002]\n"
          ]
        },
        {
          "output_type": "display_data",
          "data": {
            "text/plain": [
              "<Figure size 576x360 with 1 Axes>"
            ],
            "image/png": "[encoded data removed]"
          },
          "metadata": {
            "needs_background": "light"
          }
        },
        {
          "output_type": "stream",
          "name": "stdout",
          "text": [
            "Friction Head= inf m\n",
            "Del P= inf MPa\n",
            "Del P= inf psi\n"
          ]
        }
      ],
      "source": [
        "#Flow Distribution\n",
        "distpct=np.empty(NumberOfFractures)\n",
        "temp=np.empty(NumberOfFractures)\n",
        "plt.figure(figsize = (8,5))\n",
        "# set width of bar\n",
        "barWidth = 1*(NumberOfFractures-1)/(NumberOfFractures+1)\n",
        "\n",
        "for i in range(NumberOfFractures):\n",
        "    distpct[i]=100*(Flowrate_Fracture[i]/sum(Flowrate_Fracture))\n",
        "x = np.linspace(1, NumberOfFractures, NumberOfFractures)\n",
        "pmin=min(distpct)\n",
        "pmax=max(distpct)\n",
        "plt.ylim(ymin=pmin*0.8)\n",
        "plt.ylim(ymax=pmax*1.05)\n",
        "plt.hlines(100/NumberOfFractures, 0, NumberOfFractures+1, colors='r', linestyles='solid',zorder=3)              \n",
        "plt.bar(x,distpct,width=barWidth,zorder=2)\n",
        "# Add xticks on the middle of the group bars\n",
        "plt.xticks(np.arange(1, NumberOfFractures+1, step=1))\n",
        "plt.xlabel('Fracture Number', fontweight='bold',fontsize=14)\n",
        "plt.ylabel('Percentage Flow (%)', fontweight='bold',fontsize=14)\n",
        "if WellsOrientation==1:\n",
        "    plt.title('Flow Distribution (Parallel)', fontweight='bold',fontsize=18)\n",
        "elif WellsOrientation==2:\n",
        "    plt.title('Flow Distribution (Anti-Parallel)', fontweight='bold',fontsize=18)\n",
        "elif WellsOrientation==3:\n",
        "    plt.title('Flow Distribution (Non-Parallel)', fontweight='bold',fontsize=18)\n",
        "else:\n",
        "    plt.title('\\nFlow Distribution in Fractures', fontweight='bold',fontsize=18)\n",
        "#plt.legend(loc=\"upper center\",ncol=3,bbox_to_anchor= (0.5, -0.15),prop={'size': 12},frameon=True)\n",
        "plt.grid(which='major', axis='both',color='lightgrey',zorder=1)\n",
        "#$plt.savefig(r'%s/1.png', bbox_inches='tight')\n",
        "print(list(distpct))\n",
        "plt.show()\n",
        "#pplots(Pi,n,\"Inlet\",\"yes\")\n",
        "#pplots(Po,n,\"Outlet\",\"yes\")\n",
        "print(\"Friction Head= \"+str((max(Pressure_Injection)-min(Pressure_Production))/(9.8*1000))+\" m\")\n",
        "print(\"Del P= \"+str((max(Pressure_Injection)-min(Pressure_Production))/1e6)+\" MPa\")\n",
        "print(\"Del P= \"+str(145.038*(max(Pressure_Injection)-min(Pressure_Production))/1e6)+\" psi\")"
      ]
    },
    {
      "cell_type": "markdown",
      "source": [
        "## Reference\n",
        "###Asai, P., Panja, P., Velasco, R., McLennan, J. and Moore, J., 2018. Fluid flow distribution in fractures for a doublet system in Enhanced Geothermal Systems (EGS). Geothermics, 75, pp.171-179."
      ],
      "metadata": {
        "id": "8SNIQrICxOWb"
      }
    }
  ],
  "metadata": {
    "kernelspec": {
      "display_name": "Python 3",
      "language": "python",
      "name": "python3"
    },
    "language_info": {
      "codemirror_mode": {
        "name": "ipython",
        "version": 3
      },
      "file_extension": ".py",
      "mimetype": "text/x-python",
      "name": "python",
      "nbconvert_exporter": "python",
      "pygments_lexer": "ipython3",
      "version": "3.8.3"
    },
    "colab": {
      "provenance": []
    }
  },
  "nbformat": 4,
  "nbformat_minor": 0
}