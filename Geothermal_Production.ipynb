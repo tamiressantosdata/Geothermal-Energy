{
  "nbformat": 4,
  "nbformat_minor": 0,
  "metadata": {
    "colab": {
      "provenance": [],
      "collapsed_sections": []
    },
    "kernelspec": {
      "name": "python3",
      "display_name": "Python 3"
    },
    "language_info": {
      "name": "python"
    }
  },
  "cells": [
    {
      "cell_type": "code",
      "execution_count": 1,
      "metadata": {
        "colab": {
          "base_uri": "https://localhost:8080/"
        },
        "id": "sqiwZPGj_EAb",
        "outputId": "3648a502-a09a-4570-f53b-b50f5c9db2d2"
      },
      "outputs": [
        {
          "output_type": "stream",
          "name": "stdout",
          "text": [
            "   Res Temp = 73.56 degree C\n",
            "   Velocity = 0.018876463922394504 m/day\n",
            "   Lifetime = 116.11183275261322 years\n",
            "       Rate = 200 m3/day\n",
            "Pump energy = 1.179035321589145e-05 PJ\n",
            "Energy geoth = 0.022084030080000004 PJ/year\n"
          ]
        }
      ],
      "source": [
        "# Well PRC_7 [100,150]\n",
        "# 1 PJ = 1e12 kJ\n",
        "from math import pi\n",
        "import numpy as np\n",
        "import matplotlib.pyplot as plt\n",
        "\n",
        "day2sec = 86400\n",
        "prod_top = 1950  #[m] \n",
        "prod_bottom = 2050#[m] \n",
        "\n",
        "# PARAMETERS\n",
        "h = prod_bottom-prod_top # Reservoir height [m]\n",
        "k = 400.37e-15                                               # Reservoir Permeability [mD]\n",
        "phi = 0.27                                                # Porosity from log\n",
        "T_inj = 15                                                # Injection tempareture [C] \n",
        "T_ini = 346.56 - 273 # Reservoir temperature [C] \n",
        "rho_w = 1230          # Brine density [kg/m3]\n",
        "rho_r = 2197          # Reservoir denisity from log [kg/m3]\n",
        "C_w = 4.2             # thermal capacity Brine [kJ/kg/C]\n",
        "C_r = 0.8532          # thermal capacity rock [kJ/kg/C]\n",
        "\n",
        "mu = 8.9e-4           # Brine viscosity\n",
        "rw = 0.15             # well radius [m]\n",
        "l = 800              # well seperation distance [m]\n",
        "nu = 0.4              # Pump efficiency [.]\n",
        "\n",
        "\n",
        "# Choose either energy wanted per year or choose rate per day.\n",
        "#energy_per_year = 0.1 * 1e15 # Energy wanted PJ to J\n",
        "Q = 200  # Rate m3/day\n",
        "\n",
        "\n",
        "dt = 365 \n",
        "\n",
        "#Q =  energy_per_year /  ( rho_w * C_w * (T_ini-T_inj) * 1e3) / dt      # well rate m3/day\n",
        "\n",
        "E = rho_w * C_w * (T_ini-T_inj) * Q * dt  #energy production kJ/year\n",
        "\n",
        "\n",
        "WI = 2 * np.pi * k * h / (mu* np.log (l / (2 * rw)))  # Well index \n",
        "\n",
        "dp = Q / WI /day2sec   # pressure drop in kPa\n",
        "\n",
        "A = h *l / 2  # m2, assumption: the area is divided in two\n",
        "\n",
        "v = rho_w* C_w * Q / (rho_r * C_r * (1 - phi) * A ) # velocity m/day\n",
        "\n",
        "lt = l / v  /365                       # Lifetime in years\n",
        "\n",
        "Ep = Q * dp / day2sec /  nu / 1000     # pumpimg energy in KJ/sec\n",
        "\n",
        "convert = day2sec * 365 * 1e-12 # KJ/sec to PJ/year\n",
        "\n",
        "\n",
        "print('   Res Temp = ' + str(T_ini)  + ' degree C')\n",
        "print('   Velocity = ' + str(v)  + ' m/day')\n",
        "print('   Lifetime = ' + str(lt) + ' years')\n",
        "print('       Rate = ' + str(Q)  + ' m3/day')\n",
        "print('Pump energy = ' + str(Ep*convert) + ' PJ')\n",
        "print('Energy geoth = ' + str(E*1e-12) + ' PJ/year')"
      ]
    },
    {
      "cell_type": "code",
      "source": [
        "# Plotting the equations with different parameters:\n",
        "font = {'family': 'serif',\n",
        "        'color':  'darkred',\n",
        "        'weight': 'normal',\n",
        "        'size': 16,\n",
        "        }\n",
        "\n",
        "def lifetime(l, rho_w, C_w, Q, rho_r, C_r, phi, A):\n",
        "    \n",
        "    WI = 2 * np.pi * k * h / (mu* np.log (l / (2 * rw)))  # Well index \n",
        "\n",
        "    dp = Q / WI /day2sec   # pressure drop in kPa\n",
        "\n",
        "    A = h *l / 2  # m2, assumption: the area is divided in two\n",
        "\n",
        "    v = rho_w* C_w * Q / (rho_r * C_r * (1 - phi) * A ) # velocity m/day\n",
        "\n",
        "    lt = l / v  /365                       # Lifetime in years\n",
        "\n",
        "    Ep = Q * dp / day2sec /  nu / 1000     # pumpimg energy in KJ/sec\n",
        "\n",
        "    return lt"
      ],
      "metadata": {
        "id": "NI9Je_v9_R57"
      },
      "execution_count": 2,
      "outputs": []
    },
    {
      "cell_type": "code",
      "source": [
        "l = np.linspace(1,500,501) \n",
        "\n",
        "for i in range(len(l)):\n",
        "    Lifetime = lifetime(l, rho_w, C_w, Q, rho_r, C_r, phi, A)\n",
        "\n",
        "    \n",
        "    \n",
        "plt.figure()\n",
        "plt.plot(l, Lifetime,'r')\n",
        "plt.title('Lifetime vs speration length', fontdict=font)\n",
        "plt.xlabel('distance [m]', fontdict=font)\n",
        "plt.ylabel('Lifetime [yrs]', fontdict=font)\n",
        "plt.show()\n"
      ],
      "metadata": {
        "colab": {
          "base_uri": "https://localhost:8080/",
          "height": 305
        },
        "id": "pMmcs171_it4",
        "outputId": "ccc7282f-7def-4faf-b423-c8336ab95a38"
      },
      "execution_count": 3,
      "outputs": [
        {
          "output_type": "display_data",
          "data": {
            "text/plain": [
              "<Figure size 432x288 with 1 Axes>"
            ],
            "image/png": "[encoded data removed]"
          },
          "metadata": {
            "needs_background": "light"
          }
        }
      ]
    },
    {
      "cell_type": "markdown",
      "source": [
        "###Wang, Yang & Voskov, Denis & Khait, Mark & Bruhn, David. (2020). An efficient numerical simulator for geothermal simulation: A benchmark study. Applied Energy. 264. 114693. 10.1016/j.apenergy.2020.114693. "
      ],
      "metadata": {
        "id": "UHiNJ-ApAmhD"
      }
    }
  ]
}