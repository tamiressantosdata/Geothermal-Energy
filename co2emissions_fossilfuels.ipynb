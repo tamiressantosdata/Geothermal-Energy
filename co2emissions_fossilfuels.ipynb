{
  "nbformat": 4,
  "nbformat_minor": 0,
  "metadata": {
    "colab": {
      "provenance": []
    },
    "kernelspec": {
      "name": "python3",
      "display_name": "Python 3"
    },
    "language_info": {
      "name": "python"
    }
  },
  "cells": [
    {
      "cell_type": "code",
      "execution_count": 2,
      "metadata": {
        "colab": {
          "base_uri": "https://localhost:8080/"
        },
        "id": "SriMLDcnNxwe",
        "outputId": "1421ac93-f322-4678-fbe9-4118d3bb0b46"
      },
      "outputs": [
        {
          "output_type": "execute_result",
          "data": {
            "text/plain": [
              "5000"
            ]
          },
          "metadata": {},
          "execution_count": 2
        }
      ],
      "source": [
        "#I have calculated the efficiency factors of the fossil fuel power plants. \n",
        "#Here, I need to use the chemical exergy and CO2 emission of coal and natural gas to estimate the CO2 emission of the power plants. \n",
        "# efficiency factors\n",
        "η_pc   = 0.34 # pulverized coal power plant efficiency\n",
        "η_igcc = 0.40 # integrated gasification combined cycle\n",
        "η_ngcc = 0.45 # natural gas combined cycle\n",
        "\n",
        "# fossil fuels chemical exergy\n",
        "MW_CO2  = 0.044 # kg/mol\n",
        "# 1- coal; formula: CH\n",
        "ex_coal = 400 + 100      # kJ/mol\n",
        "MW_coal = 12 + 1         # g/mol\n",
        "em_coal = MW_CO2/ex_coal # kg CO2/kJ chemical exergy\n",
        "# 2- natural gas; formula: CH4\n",
        "ex_gas  = 400 + 4*100   # kJ/mol\n",
        "MW_gas  = 12 + 4        # g/mol\n",
        "em_gas  = MW_CO2/ex_gas # kg CO2/kJ chemical exergy\n",
        "\n",
        "e_pc    = em_coal/η_pc   # kg CO2/kJ electricity\n",
        "e_igcc  = em_coal/η_igcc # kg CO2/kJ electricity\n",
        "e_ngcc  = em_gas/η_ngcc  # kg CO2/kJ electricity\n",
        "\n",
        "eta_pump = 0.8; # pump mechanical efficiency\n",
        "eta_driver = 0.8 # electrical driver efficiency\n",
        "ex_ccs = 5000 # [kJ/kg CO2]\n",
        "5000"
      ]
    }
  ]
}